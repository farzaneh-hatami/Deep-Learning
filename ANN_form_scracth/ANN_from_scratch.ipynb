{
  "nbformat": 4,
  "nbformat_minor": 0,
  "metadata": {
    "accelerator": "GPU",
    "colab": {
      "provenance": [],
      "collapsed_sections": []
    },
    "kernelspec": {
      "display_name": "Python 3",
      "name": "python3"
    },
    "language_info": {
      "name": "python"
    }
  },
  "cells": [
    {
      "cell_type": "markdown",
      "metadata": {
        "id": "ZKaDik-O7-kw"
      },
      "source": [
        "**Data Preprocessing**"
      ]
    },
    {
      "cell_type": "code",
      "metadata": {
        "id": "Aw--s48sY9gv"
      },
      "source": [
        "import cv2\n",
        "import os\n",
        "import numpy as np\n",
        "import matplotlib.pyplot as plt\n",
        "%matplotlib inline"
      ],
      "execution_count": null,
      "outputs": []
    },
    {
      "cell_type": "code",
      "metadata": {
        "colab": {
          "base_uri": "https://localhost:8080/"
        },
        "id": "hGMlDFQBp8R4",
        "outputId": "d0615c48-045f-4315-e0e1-da5c91a66138"
      },
      "source": [
        "from google.colab import drive\n",
        "drive.mount('/content/drive')"
      ],
      "execution_count": null,
      "outputs": [
        {
          "output_type": "stream",
          "text": [
            "Mounted at /content/drive\n"
          ],
          "name": "stdout"
        }
      ]
    },
    {
      "cell_type": "code",
      "metadata": {
        "id": "PzSu-4welPRK"
      },
      "source": [
        "!ls \"/content/drive/My Drive/Colab Notebooks/images/UTKFace\""
      ],
      "execution_count": null,
      "outputs": []
    },
    {
      "cell_type": "code",
      "metadata": {
        "id": "Ugc2XNeCZbT5"
      },
      "source": [
        "dir = []    #direction of files\n",
        "for filename in os.listdir(\"/content/drive/My Drive/Colab Notebooks/images/UTKFace\"):\n",
        "    dir.append(os.path.join(\"/content/drive/My Drive/Colab Notebooks/images/UTKFace\",filename))\n",
        "c = len(dir)"
      ],
      "execution_count": null,
      "outputs": []
    },
    {
      "cell_type": "code",
      "metadata": {
        "id": "zTrYboZYbhlR"
      },
      "source": [
        "def load(folder):   #loading images with cv2\n",
        "    images = []\n",
        "    count=0\n",
        "    for i in range(c):\n",
        "        #img = cv2.imread(os.path.join(folder,dir[i]))\n",
        "        img = cv2.imread(dir[i])\n",
        "        print(count)\n",
        "        count+=1\n",
        "        if img is not None:\n",
        "            images.append(img)\n",
        "    return images"
      ],
      "execution_count": null,
      "outputs": []
    },
    {
      "cell_type": "code",
      "metadata": {
        "id": "YFHqaR74b52u"
      },
      "source": [
        "test = load('/content/drive/My Drive/Colab Notebooks/images/UTKFace')\n",
        "temp = np.array(test)\n",
        "del test\n",
        "len(temp)"
      ],
      "execution_count": null,
      "outputs": []
    },
    {
      "cell_type": "code",
      "metadata": {
        "id": "S3BHzZ3xb554"
      },
      "source": [
        "dir[7169] = '/content/drive/My Drive/Colab Notebooks/images/UTKFace/61_1_1_20170109142408075.jpg.chip.jpg'  #editing three images \n",
        "dir[12394] = '/content/drive/My Drive/Colab Notebooks/images/UTKFace/61_1_1_20170109150557335.jpg.chip.jpg'\n",
        "dir[15406] = '/content/drive/My Drive/Colab Notebooks/images/UTKFace/39_1_1_20170116174525125.jpg.chip.jpg'"
      ],
      "execution_count": null,
      "outputs": []
    },
    {
      "cell_type": "code",
      "metadata": {
        "id": "SS2X0B_acAGi"
      },
      "source": [
        "img_temp = []     #flatten the 3 channels of images\n",
        "for i in range(len(temp)):\n",
        "    img_temp.append(temp[i].flatten())\n",
        "del temp   \n",
        "X = np.array(img_temp)\n",
        "del img_temp"
      ],
      "execution_count": null,
      "outputs": []
    },
    {
      "cell_type": "code",
      "metadata": {
        "colab": {
          "base_uri": "https://localhost:8080/"
        },
        "id": "WTdUP68TcAIk",
        "outputId": "f80f0158-3db6-4436-cd72-5d4c787a3fa1"
      },
      "source": [
        "l = X.shape[0]\n",
        "X.shape"
      ],
      "execution_count": null,
      "outputs": [
        {
          "output_type": "execute_result",
          "data": {
            "text/plain": [
              "(23711, 120000)"
            ]
          },
          "metadata": {
            "tags": []
          },
          "execution_count": 10
        }
      ]
    },
    {
      "cell_type": "code",
      "metadata": {
        "id": "eKQIa12vcLWy"
      },
      "source": [
        "y_temp = []\n",
        "\n",
        "y_temp = [dir[i].split(\"_\") for i in range(len(dir))]"
      ],
      "execution_count": null,
      "outputs": []
    },
    {
      "cell_type": "code",
      "metadata": {
        "id": "WO6XVQeBcLcZ"
      },
      "source": [
        "y_1_main = [] \n",
        "y_2_main = []\n",
        "\n",
        "y_1_main = [i[0].split(\"/\")[-1] for i in y_temp] \n",
        "y_2_main = [i[2] for i in y_temp ]"
      ],
      "execution_count": null,
      "outputs": []
    },
    {
      "cell_type": "code",
      "metadata": {
        "id": "8MKH5YmkNlFw"
      },
      "source": [
        "y_1_main"
      ],
      "execution_count": null,
      "outputs": []
    },
    {
      "cell_type": "code",
      "metadata": {
        "id": "92XolYkPcANA"
      },
      "source": [
        "y_2 = []\n",
        "y_1 = []\n",
        "\n",
        "y_2 = [int(y_2_main[i]) for i in range(len(y_2_main))]\n",
        "y_1 =[ int(y_1_main[i]) for i in range(len(y_1_main))]\n"
      ],
      "execution_count": null,
      "outputs": []
    },
    {
      "cell_type": "code",
      "metadata": {
        "colab": {
          "base_uri": "https://localhost:8080/"
        },
        "id": "eNM5ZRsXjFYj",
        "outputId": "ef554dbe-0b21-4d9e-bbd0-9ec90b4b3357"
      },
      "source": [
        "#one hot encoding\n",
        "from sklearn.preprocessing import OneHotEncoder\n",
        "values_main = np.array(y_2)\n",
        "onehot_encoder = OneHotEncoder(sparse=False)\n",
        "values_main = values_main.reshape(len(values_main), 1)\n",
        "y_2_main = onehot_encoder.fit_transform(values_main)\n",
        "print(y_2_main)"
      ],
      "execution_count": null,
      "outputs": [
        {
          "output_type": "stream",
          "text": [
            "[[1. 0. 0. 0. 0.]\n",
            " [1. 0. 0. 0. 0.]\n",
            " [0. 1. 0. 0. 0.]\n",
            " ...\n",
            " [1. 0. 0. 0. 0.]\n",
            " [0. 1. 0. 0. 0.]\n",
            " [0. 0. 1. 0. 0.]]\n"
          ],
          "name": "stdout"
        }
      ]
    },
    {
      "cell_type": "code",
      "metadata": {
        "id": "KT6YNeDexP6Q"
      },
      "source": [
        "for i in range(len(y_2_main)):\n",
        "  for j in range(len(y_2_main[0])):\n",
        "    y_2_main[i][j]=int(y_2_main[i][j])"
      ],
      "execution_count": null,
      "outputs": []
    },
    {
      "cell_type": "code",
      "metadata": {
        "id": "qp4x7QP-ylLQ"
      },
      "source": [
        "y_1_main"
      ],
      "execution_count": null,
      "outputs": []
    },
    {
      "cell_type": "code",
      "metadata": {
        "id": "f2_bSNnFvU08"
      },
      "source": [
        "from sklearn.preprocessing import StandardScaler\n",
        "def normal(b):    #function for normlizing data in k step\n",
        "  temp_normal = np.array\n",
        "  scaler = StandardScaler()\n",
        "  if b == 21000:\n",
        "    scaler.fit(X_main[b:21339,:])\n",
        "    temp_normal = scaler.transform(X_main[b:21339,:])\n",
        "  else:\n",
        "    scaler.fit(X_main[b:b+500,:])\n",
        "    temp_normal = scaler.transform(X_main[b:b+500,:])\n",
        "  return temp_normal\n"
      ],
      "execution_count": null,
      "outputs": []
    },
    {
      "cell_type": "code",
      "metadata": {
        "id": "W2BXNnbuXwH_"
      },
      "source": [
        "from sklearn.decomposition import PCA, IncrementalPCA\n",
        "def i_pca(img_normal):\n",
        "  temp_image = np.array\n",
        "  n_components = 128\n",
        "  ipca = IncrementalPCA(n_components=n_components, batch_size=128)\n",
        "  ipca.fit(img_normal)\n",
        "  X_ipca = ipca.transform(img_normal)\n",
        "  #del image\n",
        "  return X_ipca"
      ],
      "execution_count": null,
      "outputs": []
    },
    {
      "cell_type": "code",
      "metadata": {
        "id": "IglF6p22eg-N",
        "colab": {
          "base_uri": "https://localhost:8080/"
        },
        "outputId": "9967a7d4-ce82-4a1a-ee4e-59896d2f62aa"
      },
      "source": [
        "img_normal = np.array([]).reshape(0,128)\n",
        "for i in range(0,21500,500):\n",
        "  print(i)\n",
        "  X_ipca = np.array\n",
        "  temp_2 = normal(i)\n",
        "  X_ipca = i_pca(temp_2)\n",
        "  del temp_2\n",
        "  img_normal = np.vstack([img_normal , X_ipca])\n",
        "  print(img_normal.shape)\n",
        "  del X_ipca"
      ],
      "execution_count": null,
      "outputs": [
        {
          "output_type": "stream",
          "text": [
            "0\n"
          ],
          "name": "stdout"
        },
        {
          "output_type": "stream",
          "text": [
            "/usr/local/lib/python3.7/dist-packages/sklearn/decomposition/_incremental_pca.py:309: RuntimeWarning: Mean of empty slice.\n",
            "  explained_variance[self.n_components_:].mean()\n",
            "/usr/local/lib/python3.7/dist-packages/numpy/core/_methods.py:170: RuntimeWarning: invalid value encountered in double_scalars\n",
            "  ret = ret.dtype.type(ret / rcount)\n"
          ],
          "name": "stderr"
        },
        {
          "output_type": "stream",
          "text": [
            "(500, 128)\n",
            "500\n"
          ],
          "name": "stdout"
        },
        {
          "output_type": "stream",
          "text": [
            "/usr/local/lib/python3.7/dist-packages/sklearn/decomposition/_incremental_pca.py:309: RuntimeWarning: Mean of empty slice.\n",
            "  explained_variance[self.n_components_:].mean()\n",
            "/usr/local/lib/python3.7/dist-packages/numpy/core/_methods.py:170: RuntimeWarning: invalid value encountered in double_scalars\n",
            "  ret = ret.dtype.type(ret / rcount)\n"
          ],
          "name": "stderr"
        },
        {
          "output_type": "stream",
          "text": [
            "(1000, 128)\n",
            "1000\n"
          ],
          "name": "stdout"
        },
        {
          "output_type": "stream",
          "text": [
            "/usr/local/lib/python3.7/dist-packages/sklearn/decomposition/_incremental_pca.py:309: RuntimeWarning: Mean of empty slice.\n",
            "  explained_variance[self.n_components_:].mean()\n",
            "/usr/local/lib/python3.7/dist-packages/numpy/core/_methods.py:170: RuntimeWarning: invalid value encountered in double_scalars\n",
            "  ret = ret.dtype.type(ret / rcount)\n"
          ],
          "name": "stderr"
        },
        {
          "output_type": "stream",
          "text": [
            "(1500, 128)\n",
            "1500\n"
          ],
          "name": "stdout"
        },
        {
          "output_type": "stream",
          "text": [
            "/usr/local/lib/python3.7/dist-packages/sklearn/decomposition/_incremental_pca.py:309: RuntimeWarning: Mean of empty slice.\n",
            "  explained_variance[self.n_components_:].mean()\n",
            "/usr/local/lib/python3.7/dist-packages/numpy/core/_methods.py:170: RuntimeWarning: invalid value encountered in double_scalars\n",
            "  ret = ret.dtype.type(ret / rcount)\n"
          ],
          "name": "stderr"
        },
        {
          "output_type": "stream",
          "text": [
            "(2000, 128)\n",
            "2000\n"
          ],
          "name": "stdout"
        },
        {
          "output_type": "stream",
          "text": [
            "/usr/local/lib/python3.7/dist-packages/sklearn/decomposition/_incremental_pca.py:309: RuntimeWarning: Mean of empty slice.\n",
            "  explained_variance[self.n_components_:].mean()\n",
            "/usr/local/lib/python3.7/dist-packages/numpy/core/_methods.py:170: RuntimeWarning: invalid value encountered in double_scalars\n",
            "  ret = ret.dtype.type(ret / rcount)\n"
          ],
          "name": "stderr"
        },
        {
          "output_type": "stream",
          "text": [
            "(2500, 128)\n",
            "2500\n"
          ],
          "name": "stdout"
        },
        {
          "output_type": "stream",
          "text": [
            "/usr/local/lib/python3.7/dist-packages/sklearn/decomposition/_incremental_pca.py:309: RuntimeWarning: Mean of empty slice.\n",
            "  explained_variance[self.n_components_:].mean()\n",
            "/usr/local/lib/python3.7/dist-packages/numpy/core/_methods.py:170: RuntimeWarning: invalid value encountered in double_scalars\n",
            "  ret = ret.dtype.type(ret / rcount)\n"
          ],
          "name": "stderr"
        },
        {
          "output_type": "stream",
          "text": [
            "(3000, 128)\n",
            "3000\n"
          ],
          "name": "stdout"
        },
        {
          "output_type": "stream",
          "text": [
            "/usr/local/lib/python3.7/dist-packages/sklearn/decomposition/_incremental_pca.py:309: RuntimeWarning: Mean of empty slice.\n",
            "  explained_variance[self.n_components_:].mean()\n",
            "/usr/local/lib/python3.7/dist-packages/numpy/core/_methods.py:170: RuntimeWarning: invalid value encountered in double_scalars\n",
            "  ret = ret.dtype.type(ret / rcount)\n"
          ],
          "name": "stderr"
        },
        {
          "output_type": "stream",
          "text": [
            "(3500, 128)\n",
            "3500\n"
          ],
          "name": "stdout"
        },
        {
          "output_type": "stream",
          "text": [
            "/usr/local/lib/python3.7/dist-packages/sklearn/decomposition/_incremental_pca.py:309: RuntimeWarning: Mean of empty slice.\n",
            "  explained_variance[self.n_components_:].mean()\n",
            "/usr/local/lib/python3.7/dist-packages/numpy/core/_methods.py:170: RuntimeWarning: invalid value encountered in double_scalars\n",
            "  ret = ret.dtype.type(ret / rcount)\n"
          ],
          "name": "stderr"
        },
        {
          "output_type": "stream",
          "text": [
            "(4000, 128)\n",
            "4000\n"
          ],
          "name": "stdout"
        },
        {
          "output_type": "stream",
          "text": [
            "/usr/local/lib/python3.7/dist-packages/sklearn/decomposition/_incremental_pca.py:309: RuntimeWarning: Mean of empty slice.\n",
            "  explained_variance[self.n_components_:].mean()\n",
            "/usr/local/lib/python3.7/dist-packages/numpy/core/_methods.py:170: RuntimeWarning: invalid value encountered in double_scalars\n",
            "  ret = ret.dtype.type(ret / rcount)\n"
          ],
          "name": "stderr"
        },
        {
          "output_type": "stream",
          "text": [
            "(4500, 128)\n",
            "4500\n"
          ],
          "name": "stdout"
        },
        {
          "output_type": "stream",
          "text": [
            "/usr/local/lib/python3.7/dist-packages/sklearn/decomposition/_incremental_pca.py:309: RuntimeWarning: Mean of empty slice.\n",
            "  explained_variance[self.n_components_:].mean()\n",
            "/usr/local/lib/python3.7/dist-packages/numpy/core/_methods.py:170: RuntimeWarning: invalid value encountered in double_scalars\n",
            "  ret = ret.dtype.type(ret / rcount)\n"
          ],
          "name": "stderr"
        },
        {
          "output_type": "stream",
          "text": [
            "(5000, 128)\n",
            "5000\n"
          ],
          "name": "stdout"
        },
        {
          "output_type": "stream",
          "text": [
            "/usr/local/lib/python3.7/dist-packages/sklearn/decomposition/_incremental_pca.py:309: RuntimeWarning: Mean of empty slice.\n",
            "  explained_variance[self.n_components_:].mean()\n",
            "/usr/local/lib/python3.7/dist-packages/numpy/core/_methods.py:170: RuntimeWarning: invalid value encountered in double_scalars\n",
            "  ret = ret.dtype.type(ret / rcount)\n"
          ],
          "name": "stderr"
        },
        {
          "output_type": "stream",
          "text": [
            "(5500, 128)\n",
            "5500\n"
          ],
          "name": "stdout"
        },
        {
          "output_type": "stream",
          "text": [
            "/usr/local/lib/python3.7/dist-packages/sklearn/decomposition/_incremental_pca.py:309: RuntimeWarning: Mean of empty slice.\n",
            "  explained_variance[self.n_components_:].mean()\n",
            "/usr/local/lib/python3.7/dist-packages/numpy/core/_methods.py:170: RuntimeWarning: invalid value encountered in double_scalars\n",
            "  ret = ret.dtype.type(ret / rcount)\n"
          ],
          "name": "stderr"
        },
        {
          "output_type": "stream",
          "text": [
            "(6000, 128)\n",
            "6000\n"
          ],
          "name": "stdout"
        },
        {
          "output_type": "stream",
          "text": [
            "/usr/local/lib/python3.7/dist-packages/sklearn/decomposition/_incremental_pca.py:309: RuntimeWarning: Mean of empty slice.\n",
            "  explained_variance[self.n_components_:].mean()\n",
            "/usr/local/lib/python3.7/dist-packages/numpy/core/_methods.py:170: RuntimeWarning: invalid value encountered in double_scalars\n",
            "  ret = ret.dtype.type(ret / rcount)\n"
          ],
          "name": "stderr"
        },
        {
          "output_type": "stream",
          "text": [
            "(6500, 128)\n",
            "6500\n"
          ],
          "name": "stdout"
        },
        {
          "output_type": "stream",
          "text": [
            "/usr/local/lib/python3.7/dist-packages/sklearn/decomposition/_incremental_pca.py:309: RuntimeWarning: Mean of empty slice.\n",
            "  explained_variance[self.n_components_:].mean()\n",
            "/usr/local/lib/python3.7/dist-packages/numpy/core/_methods.py:170: RuntimeWarning: invalid value encountered in double_scalars\n",
            "  ret = ret.dtype.type(ret / rcount)\n"
          ],
          "name": "stderr"
        },
        {
          "output_type": "stream",
          "text": [
            "(7000, 128)\n",
            "7000\n"
          ],
          "name": "stdout"
        },
        {
          "output_type": "stream",
          "text": [
            "/usr/local/lib/python3.7/dist-packages/sklearn/decomposition/_incremental_pca.py:309: RuntimeWarning: Mean of empty slice.\n",
            "  explained_variance[self.n_components_:].mean()\n",
            "/usr/local/lib/python3.7/dist-packages/numpy/core/_methods.py:170: RuntimeWarning: invalid value encountered in double_scalars\n",
            "  ret = ret.dtype.type(ret / rcount)\n"
          ],
          "name": "stderr"
        },
        {
          "output_type": "stream",
          "text": [
            "(7500, 128)\n",
            "7500\n"
          ],
          "name": "stdout"
        },
        {
          "output_type": "stream",
          "text": [
            "/usr/local/lib/python3.7/dist-packages/sklearn/decomposition/_incremental_pca.py:309: RuntimeWarning: Mean of empty slice.\n",
            "  explained_variance[self.n_components_:].mean()\n",
            "/usr/local/lib/python3.7/dist-packages/numpy/core/_methods.py:170: RuntimeWarning: invalid value encountered in double_scalars\n",
            "  ret = ret.dtype.type(ret / rcount)\n"
          ],
          "name": "stderr"
        },
        {
          "output_type": "stream",
          "text": [
            "(8000, 128)\n",
            "8000\n"
          ],
          "name": "stdout"
        },
        {
          "output_type": "stream",
          "text": [
            "/usr/local/lib/python3.7/dist-packages/sklearn/decomposition/_incremental_pca.py:309: RuntimeWarning: Mean of empty slice.\n",
            "  explained_variance[self.n_components_:].mean()\n",
            "/usr/local/lib/python3.7/dist-packages/numpy/core/_methods.py:170: RuntimeWarning: invalid value encountered in double_scalars\n",
            "  ret = ret.dtype.type(ret / rcount)\n"
          ],
          "name": "stderr"
        },
        {
          "output_type": "stream",
          "text": [
            "(8500, 128)\n",
            "8500\n"
          ],
          "name": "stdout"
        },
        {
          "output_type": "stream",
          "text": [
            "/usr/local/lib/python3.7/dist-packages/sklearn/decomposition/_incremental_pca.py:309: RuntimeWarning: Mean of empty slice.\n",
            "  explained_variance[self.n_components_:].mean()\n",
            "/usr/local/lib/python3.7/dist-packages/numpy/core/_methods.py:170: RuntimeWarning: invalid value encountered in double_scalars\n",
            "  ret = ret.dtype.type(ret / rcount)\n"
          ],
          "name": "stderr"
        },
        {
          "output_type": "stream",
          "text": [
            "(9000, 128)\n",
            "9000\n"
          ],
          "name": "stdout"
        },
        {
          "output_type": "stream",
          "text": [
            "/usr/local/lib/python3.7/dist-packages/sklearn/decomposition/_incremental_pca.py:309: RuntimeWarning: Mean of empty slice.\n",
            "  explained_variance[self.n_components_:].mean()\n",
            "/usr/local/lib/python3.7/dist-packages/numpy/core/_methods.py:170: RuntimeWarning: invalid value encountered in double_scalars\n",
            "  ret = ret.dtype.type(ret / rcount)\n"
          ],
          "name": "stderr"
        },
        {
          "output_type": "stream",
          "text": [
            "(9500, 128)\n",
            "9500\n"
          ],
          "name": "stdout"
        },
        {
          "output_type": "stream",
          "text": [
            "/usr/local/lib/python3.7/dist-packages/sklearn/decomposition/_incremental_pca.py:309: RuntimeWarning: Mean of empty slice.\n",
            "  explained_variance[self.n_components_:].mean()\n",
            "/usr/local/lib/python3.7/dist-packages/numpy/core/_methods.py:170: RuntimeWarning: invalid value encountered in double_scalars\n",
            "  ret = ret.dtype.type(ret / rcount)\n"
          ],
          "name": "stderr"
        },
        {
          "output_type": "stream",
          "text": [
            "(10000, 128)\n",
            "10000\n"
          ],
          "name": "stdout"
        },
        {
          "output_type": "stream",
          "text": [
            "/usr/local/lib/python3.7/dist-packages/sklearn/decomposition/_incremental_pca.py:309: RuntimeWarning: Mean of empty slice.\n",
            "  explained_variance[self.n_components_:].mean()\n",
            "/usr/local/lib/python3.7/dist-packages/numpy/core/_methods.py:170: RuntimeWarning: invalid value encountered in double_scalars\n",
            "  ret = ret.dtype.type(ret / rcount)\n"
          ],
          "name": "stderr"
        },
        {
          "output_type": "stream",
          "text": [
            "(10500, 128)\n",
            "10500\n"
          ],
          "name": "stdout"
        },
        {
          "output_type": "stream",
          "text": [
            "/usr/local/lib/python3.7/dist-packages/sklearn/decomposition/_incremental_pca.py:309: RuntimeWarning: Mean of empty slice.\n",
            "  explained_variance[self.n_components_:].mean()\n",
            "/usr/local/lib/python3.7/dist-packages/numpy/core/_methods.py:170: RuntimeWarning: invalid value encountered in double_scalars\n",
            "  ret = ret.dtype.type(ret / rcount)\n"
          ],
          "name": "stderr"
        },
        {
          "output_type": "stream",
          "text": [
            "(11000, 128)\n",
            "11000\n"
          ],
          "name": "stdout"
        },
        {
          "output_type": "stream",
          "text": [
            "/usr/local/lib/python3.7/dist-packages/sklearn/decomposition/_incremental_pca.py:309: RuntimeWarning: Mean of empty slice.\n",
            "  explained_variance[self.n_components_:].mean()\n",
            "/usr/local/lib/python3.7/dist-packages/numpy/core/_methods.py:170: RuntimeWarning: invalid value encountered in double_scalars\n",
            "  ret = ret.dtype.type(ret / rcount)\n"
          ],
          "name": "stderr"
        },
        {
          "output_type": "stream",
          "text": [
            "(11500, 128)\n",
            "11500\n"
          ],
          "name": "stdout"
        },
        {
          "output_type": "stream",
          "text": [
            "/usr/local/lib/python3.7/dist-packages/sklearn/decomposition/_incremental_pca.py:309: RuntimeWarning: Mean of empty slice.\n",
            "  explained_variance[self.n_components_:].mean()\n",
            "/usr/local/lib/python3.7/dist-packages/numpy/core/_methods.py:170: RuntimeWarning: invalid value encountered in double_scalars\n",
            "  ret = ret.dtype.type(ret / rcount)\n"
          ],
          "name": "stderr"
        },
        {
          "output_type": "stream",
          "text": [
            "(12000, 128)\n",
            "12000\n"
          ],
          "name": "stdout"
        },
        {
          "output_type": "stream",
          "text": [
            "/usr/local/lib/python3.7/dist-packages/sklearn/decomposition/_incremental_pca.py:309: RuntimeWarning: Mean of empty slice.\n",
            "  explained_variance[self.n_components_:].mean()\n",
            "/usr/local/lib/python3.7/dist-packages/numpy/core/_methods.py:170: RuntimeWarning: invalid value encountered in double_scalars\n",
            "  ret = ret.dtype.type(ret / rcount)\n"
          ],
          "name": "stderr"
        },
        {
          "output_type": "stream",
          "text": [
            "(12500, 128)\n",
            "12500\n"
          ],
          "name": "stdout"
        },
        {
          "output_type": "stream",
          "text": [
            "/usr/local/lib/python3.7/dist-packages/sklearn/decomposition/_incremental_pca.py:309: RuntimeWarning: Mean of empty slice.\n",
            "  explained_variance[self.n_components_:].mean()\n",
            "/usr/local/lib/python3.7/dist-packages/numpy/core/_methods.py:170: RuntimeWarning: invalid value encountered in double_scalars\n",
            "  ret = ret.dtype.type(ret / rcount)\n"
          ],
          "name": "stderr"
        },
        {
          "output_type": "stream",
          "text": [
            "(13000, 128)\n",
            "13000\n"
          ],
          "name": "stdout"
        },
        {
          "output_type": "stream",
          "text": [
            "/usr/local/lib/python3.7/dist-packages/sklearn/decomposition/_incremental_pca.py:309: RuntimeWarning: Mean of empty slice.\n",
            "  explained_variance[self.n_components_:].mean()\n",
            "/usr/local/lib/python3.7/dist-packages/numpy/core/_methods.py:170: RuntimeWarning: invalid value encountered in double_scalars\n",
            "  ret = ret.dtype.type(ret / rcount)\n"
          ],
          "name": "stderr"
        },
        {
          "output_type": "stream",
          "text": [
            "(13500, 128)\n",
            "13500\n"
          ],
          "name": "stdout"
        },
        {
          "output_type": "stream",
          "text": [
            "/usr/local/lib/python3.7/dist-packages/sklearn/decomposition/_incremental_pca.py:309: RuntimeWarning: Mean of empty slice.\n",
            "  explained_variance[self.n_components_:].mean()\n",
            "/usr/local/lib/python3.7/dist-packages/numpy/core/_methods.py:170: RuntimeWarning: invalid value encountered in double_scalars\n",
            "  ret = ret.dtype.type(ret / rcount)\n"
          ],
          "name": "stderr"
        },
        {
          "output_type": "stream",
          "text": [
            "(14000, 128)\n",
            "14000\n"
          ],
          "name": "stdout"
        },
        {
          "output_type": "stream",
          "text": [
            "/usr/local/lib/python3.7/dist-packages/sklearn/decomposition/_incremental_pca.py:309: RuntimeWarning: Mean of empty slice.\n",
            "  explained_variance[self.n_components_:].mean()\n",
            "/usr/local/lib/python3.7/dist-packages/numpy/core/_methods.py:170: RuntimeWarning: invalid value encountered in double_scalars\n",
            "  ret = ret.dtype.type(ret / rcount)\n"
          ],
          "name": "stderr"
        },
        {
          "output_type": "stream",
          "text": [
            "(14500, 128)\n",
            "14500\n"
          ],
          "name": "stdout"
        },
        {
          "output_type": "stream",
          "text": [
            "/usr/local/lib/python3.7/dist-packages/sklearn/decomposition/_incremental_pca.py:309: RuntimeWarning: Mean of empty slice.\n",
            "  explained_variance[self.n_components_:].mean()\n",
            "/usr/local/lib/python3.7/dist-packages/numpy/core/_methods.py:170: RuntimeWarning: invalid value encountered in double_scalars\n",
            "  ret = ret.dtype.type(ret / rcount)\n"
          ],
          "name": "stderr"
        },
        {
          "output_type": "stream",
          "text": [
            "(15000, 128)\n",
            "15000\n"
          ],
          "name": "stdout"
        },
        {
          "output_type": "stream",
          "text": [
            "/usr/local/lib/python3.7/dist-packages/sklearn/decomposition/_incremental_pca.py:309: RuntimeWarning: Mean of empty slice.\n",
            "  explained_variance[self.n_components_:].mean()\n",
            "/usr/local/lib/python3.7/dist-packages/numpy/core/_methods.py:170: RuntimeWarning: invalid value encountered in double_scalars\n",
            "  ret = ret.dtype.type(ret / rcount)\n"
          ],
          "name": "stderr"
        },
        {
          "output_type": "stream",
          "text": [
            "(15500, 128)\n",
            "15500\n"
          ],
          "name": "stdout"
        },
        {
          "output_type": "stream",
          "text": [
            "/usr/local/lib/python3.7/dist-packages/sklearn/decomposition/_incremental_pca.py:309: RuntimeWarning: Mean of empty slice.\n",
            "  explained_variance[self.n_components_:].mean()\n",
            "/usr/local/lib/python3.7/dist-packages/numpy/core/_methods.py:170: RuntimeWarning: invalid value encountered in double_scalars\n",
            "  ret = ret.dtype.type(ret / rcount)\n"
          ],
          "name": "stderr"
        },
        {
          "output_type": "stream",
          "text": [
            "(16000, 128)\n",
            "16000\n"
          ],
          "name": "stdout"
        },
        {
          "output_type": "stream",
          "text": [
            "/usr/local/lib/python3.7/dist-packages/sklearn/decomposition/_incremental_pca.py:309: RuntimeWarning: Mean of empty slice.\n",
            "  explained_variance[self.n_components_:].mean()\n",
            "/usr/local/lib/python3.7/dist-packages/numpy/core/_methods.py:170: RuntimeWarning: invalid value encountered in double_scalars\n",
            "  ret = ret.dtype.type(ret / rcount)\n"
          ],
          "name": "stderr"
        },
        {
          "output_type": "stream",
          "text": [
            "(16500, 128)\n",
            "16500\n"
          ],
          "name": "stdout"
        },
        {
          "output_type": "stream",
          "text": [
            "/usr/local/lib/python3.7/dist-packages/sklearn/decomposition/_incremental_pca.py:309: RuntimeWarning: Mean of empty slice.\n",
            "  explained_variance[self.n_components_:].mean()\n",
            "/usr/local/lib/python3.7/dist-packages/numpy/core/_methods.py:170: RuntimeWarning: invalid value encountered in double_scalars\n",
            "  ret = ret.dtype.type(ret / rcount)\n"
          ],
          "name": "stderr"
        },
        {
          "output_type": "stream",
          "text": [
            "(17000, 128)\n",
            "17000\n"
          ],
          "name": "stdout"
        },
        {
          "output_type": "stream",
          "text": [
            "/usr/local/lib/python3.7/dist-packages/sklearn/decomposition/_incremental_pca.py:309: RuntimeWarning: Mean of empty slice.\n",
            "  explained_variance[self.n_components_:].mean()\n",
            "/usr/local/lib/python3.7/dist-packages/numpy/core/_methods.py:170: RuntimeWarning: invalid value encountered in double_scalars\n",
            "  ret = ret.dtype.type(ret / rcount)\n"
          ],
          "name": "stderr"
        },
        {
          "output_type": "stream",
          "text": [
            "(17500, 128)\n",
            "17500\n"
          ],
          "name": "stdout"
        },
        {
          "output_type": "stream",
          "text": [
            "/usr/local/lib/python3.7/dist-packages/sklearn/decomposition/_incremental_pca.py:309: RuntimeWarning: Mean of empty slice.\n",
            "  explained_variance[self.n_components_:].mean()\n",
            "/usr/local/lib/python3.7/dist-packages/numpy/core/_methods.py:170: RuntimeWarning: invalid value encountered in double_scalars\n",
            "  ret = ret.dtype.type(ret / rcount)\n"
          ],
          "name": "stderr"
        },
        {
          "output_type": "stream",
          "text": [
            "(18000, 128)\n",
            "18000\n"
          ],
          "name": "stdout"
        },
        {
          "output_type": "stream",
          "text": [
            "/usr/local/lib/python3.7/dist-packages/sklearn/decomposition/_incremental_pca.py:309: RuntimeWarning: Mean of empty slice.\n",
            "  explained_variance[self.n_components_:].mean()\n",
            "/usr/local/lib/python3.7/dist-packages/numpy/core/_methods.py:170: RuntimeWarning: invalid value encountered in double_scalars\n",
            "  ret = ret.dtype.type(ret / rcount)\n"
          ],
          "name": "stderr"
        },
        {
          "output_type": "stream",
          "text": [
            "(18500, 128)\n",
            "18500\n"
          ],
          "name": "stdout"
        },
        {
          "output_type": "stream",
          "text": [
            "/usr/local/lib/python3.7/dist-packages/sklearn/decomposition/_incremental_pca.py:309: RuntimeWarning: Mean of empty slice.\n",
            "  explained_variance[self.n_components_:].mean()\n",
            "/usr/local/lib/python3.7/dist-packages/numpy/core/_methods.py:170: RuntimeWarning: invalid value encountered in double_scalars\n",
            "  ret = ret.dtype.type(ret / rcount)\n"
          ],
          "name": "stderr"
        },
        {
          "output_type": "stream",
          "text": [
            "(19000, 128)\n",
            "19000\n"
          ],
          "name": "stdout"
        },
        {
          "output_type": "stream",
          "text": [
            "/usr/local/lib/python3.7/dist-packages/sklearn/decomposition/_incremental_pca.py:309: RuntimeWarning: Mean of empty slice.\n",
            "  explained_variance[self.n_components_:].mean()\n",
            "/usr/local/lib/python3.7/dist-packages/numpy/core/_methods.py:170: RuntimeWarning: invalid value encountered in double_scalars\n",
            "  ret = ret.dtype.type(ret / rcount)\n"
          ],
          "name": "stderr"
        },
        {
          "output_type": "stream",
          "text": [
            "(19500, 128)\n",
            "19500\n"
          ],
          "name": "stdout"
        },
        {
          "output_type": "stream",
          "text": [
            "/usr/local/lib/python3.7/dist-packages/sklearn/decomposition/_incremental_pca.py:309: RuntimeWarning: Mean of empty slice.\n",
            "  explained_variance[self.n_components_:].mean()\n",
            "/usr/local/lib/python3.7/dist-packages/numpy/core/_methods.py:170: RuntimeWarning: invalid value encountered in double_scalars\n",
            "  ret = ret.dtype.type(ret / rcount)\n"
          ],
          "name": "stderr"
        },
        {
          "output_type": "stream",
          "text": [
            "(20000, 128)\n",
            "20000\n"
          ],
          "name": "stdout"
        },
        {
          "output_type": "stream",
          "text": [
            "/usr/local/lib/python3.7/dist-packages/sklearn/decomposition/_incremental_pca.py:309: RuntimeWarning: Mean of empty slice.\n",
            "  explained_variance[self.n_components_:].mean()\n",
            "/usr/local/lib/python3.7/dist-packages/numpy/core/_methods.py:170: RuntimeWarning: invalid value encountered in double_scalars\n",
            "  ret = ret.dtype.type(ret / rcount)\n"
          ],
          "name": "stderr"
        },
        {
          "output_type": "stream",
          "text": [
            "(20500, 128)\n",
            "20500\n"
          ],
          "name": "stdout"
        },
        {
          "output_type": "stream",
          "text": [
            "/usr/local/lib/python3.7/dist-packages/sklearn/decomposition/_incremental_pca.py:309: RuntimeWarning: Mean of empty slice.\n",
            "  explained_variance[self.n_components_:].mean()\n",
            "/usr/local/lib/python3.7/dist-packages/numpy/core/_methods.py:170: RuntimeWarning: invalid value encountered in double_scalars\n",
            "  ret = ret.dtype.type(ret / rcount)\n"
          ],
          "name": "stderr"
        },
        {
          "output_type": "stream",
          "text": [
            "(21000, 128)\n",
            "21000\n"
          ],
          "name": "stdout"
        },
        {
          "output_type": "stream",
          "text": [
            "/usr/local/lib/python3.7/dist-packages/sklearn/decomposition/_incremental_pca.py:309: RuntimeWarning: Mean of empty slice.\n",
            "  explained_variance[self.n_components_:].mean()\n",
            "/usr/local/lib/python3.7/dist-packages/numpy/core/_methods.py:170: RuntimeWarning: invalid value encountered in double_scalars\n",
            "  ret = ret.dtype.type(ret / rcount)\n"
          ],
          "name": "stderr"
        },
        {
          "output_type": "stream",
          "text": [
            "(21339, 128)\n"
          ],
          "name": "stdout"
        }
      ]
    },
    {
      "cell_type": "code",
      "metadata": {
        "id": "Jcuf_6QLZIoZ"
      },
      "source": [
        "df.to_csv(r'/content/drive/My Drive/Colab Notebooks/X.csv', index = False)"
      ],
      "execution_count": null,
      "outputs": []
    },
    {
      "cell_type": "code",
      "metadata": {
        "id": "qknp8Kl8YDLg"
      },
      "source": [
        "import pandas as pd\n",
        "df = pd.read_csv('/content/drive/My Drive/Colab Notebooks/X.csv')"
      ],
      "execution_count": null,
      "outputs": []
    },
    {
      "cell_type": "code",
      "metadata": {
        "id": "lZ0D-AgVTexk"
      },
      "source": [
        "df.drop('Unnamed: 0',axis=1 , inplace=True)"
      ],
      "execution_count": null,
      "outputs": []
    },
    {
      "cell_type": "code",
      "metadata": {
        "id": "VGjxAvJ6bm_4"
      },
      "source": [
        "X_main = np.array(df)"
      ],
      "execution_count": null,
      "outputs": []
    },
    {
      "cell_type": "code",
      "metadata": {
        "id": "W7Fz9OxwaE3d"
      },
      "source": [
        "y_1_main = y_1"
      ],
      "execution_count": null,
      "outputs": []
    },
    {
      "cell_type": "code",
      "metadata": {
        "id": "5Dw0F0RrQhkc"
      },
      "source": [
        "from sklearn.preprocessing import StandardScaler\n",
        "\n",
        "scaler = StandardScaler()\n",
        "scaler.fit(X_main)\n",
        "X_main = scaler.transform(X_main)"
      ],
      "execution_count": null,
      "outputs": []
    },
    {
      "cell_type": "code",
      "metadata": {
        "id": "pQ6czunhT-8k"
      },
      "source": [
        "from sklearn.model_selection import train_test_split    #spliting data to test and train\n",
        "X_1_main, X_1_test, y_1_main, y_1_test = train_test_split(X_main, y_1_main , test_size=0.1, random_state=None)\n",
        "X_2_main, X_2_test, y_2_main, y_2_test = train_test_split(X_main, y_2_main , test_size=0.1, random_state=None)"
      ],
      "execution_count": null,
      "outputs": []
    },
    {
      "cell_type": "code",
      "metadata": {
        "id": "59cEO8cFVJir"
      },
      "source": [
        "from sklearn.model_selection import train_test_split    #spliting data to test and train\n",
        "X_1_train, X_1_validation, y_1_train, y_1_validation = train_test_split(X_1_main, y_1_main , test_size=0.1, random_state=None)\n",
        "X_2_train, X_2_validation, y_2_train, y_2_validation = train_test_split(X_2_main, y_2_main , test_size=0.1, random_state=None)"
      ],
      "execution_count": null,
      "outputs": []
    },
    {
      "cell_type": "code",
      "metadata": {
        "id": "YLxxPrrAq3Rx"
      },
      "source": [
        "X_1_train = X_1_train[:,np.newaxis]\n",
        "X_2_train = X_2_train[:,np.newaxis]\n",
        "X_1_validation = X_1_validation[:,np.newaxis]\n",
        "X_2_validation = X_2_validation[:,np.newaxis]\n",
        "X_1_test = X_1_test[:,np.newaxis]\n",
        "X_2_test = X_2_test[:,np.newaxis]"
      ],
      "execution_count": null,
      "outputs": []
    },
    {
      "cell_type": "code",
      "metadata": {
        "id": "PHnOUQ4brKSg"
      },
      "source": [
        "y_1_train = np.array(y_1_train)\n",
        "y_1_train = y_1_train[:,np.newaxis]\n",
        "y_1_train = y_1_train[:,np.newaxis]\n",
        "\n",
        "y_1_test = np.array(y_1_test)\n",
        "y_1_test = y_1_test[:,np.newaxis]\n",
        "y_1_test = y_1_test[:,np.newaxis]\n",
        "\n",
        "y_1_validation=np.array(y_1_validation)\n",
        "y_1_validation = y_1_validation[:,np.newaxis]\n",
        "y_1_validation = y_1_validation[:,np.newaxis]\n",
        "\n",
        "y_2_train = np.array(y_2_train)\n",
        "#y_2_train = y_2_train[:,np.newaxis]\n",
        "#y_2_train = y_2_train[:,np.newaxis]\n",
        "\n",
        "y_2_test=np.array(y_2_test)\n",
        "#y_2_test = y_2_test[:,np.newaxis]\n",
        "#y_2_test = y_2_test[:,np.newaxis]\n",
        "\n",
        "y_2_validation = np.array(y_2_validation)\n",
        "#y_2_validation = y_2_validation[:,np.newaxis]\n",
        "#y_2_validation = y_2_validation[:,np.newaxis]"
      ],
      "execution_count": null,
      "outputs": []
    },
    {
      "cell_type": "markdown",
      "metadata": {
        "id": "Tq6GdfHG5HUn"
      },
      "source": [
        "linear regression network"
      ]
    },
    {
      "cell_type": "code",
      "metadata": {
        "id": "ePh1-IUHt0g4"
      },
      "source": [
        "class loss:\n",
        "    \n",
        "    def l2_loss(y , y_pred):  #L2 as loss function\n",
        "        return np.square(np.subtract( y , y_pred)).sum()\n",
        "    \n",
        "    def l2_loss_der( y_pred , y ): # derivitive of L2 T the loss function\n",
        "        return 2*np.subtract( y_pred , y )\n",
        "    "
      ],
      "execution_count": null,
      "outputs": []
    },
    {
      "cell_type": "code",
      "metadata": {
        "id": "iCVboIdNraUq"
      },
      "source": [
        "class activation_c:\n",
        "    \n",
        "    \n",
        "            \n",
        "    def L_Relu(x):   #usnig relu for activation function\n",
        "        return np.maximum(x,0.1*x)\n",
        "    \n",
        "    def LRelu_der(x): # derivitive of relu function\n",
        "        a = np.ones(x[0].shape)\n",
        "        for idx , i in enumerate(x[0]):\n",
        "            if i<0:\n",
        "                a[idx] *= 0.1\n",
        "        a = a[np.newaxis , :  ]\n",
        "        return a \n",
        "    "
      ],
      "execution_count": null,
      "outputs": []
    },
    {
      "cell_type": "code",
      "metadata": {
        "id": "UgKzlrmR5NXv"
      },
      "source": [
        "import numpy as np\n",
        "import random \n",
        "import math\n",
        "\n",
        "class Network:\n",
        "    \n",
        "    #initiolize weight and biases\n",
        "    def __init__(self, sizes ,w):   #if w =0 weights initilize by constant and w=1 weights initilized randomly\n",
        "        self.num_layers = len(sizes)\n",
        "        self.sizes = sizes\n",
        "        self.biases = [np.zeros( i ) for i in sizes[1:]]\n",
        "        if w == 0 :self.weights = [np.zeros([sizes[i], sizes[i+1]])for i in range(len(sizes)-1)]\n",
        "        if w == 1 : self.weights = [np.random.randn(sizes[i], sizes[i+1])*0.1 for i in range(len(sizes)-1)]\n",
        "        self.lr = 0.001\n",
        "        #print(self.weights)\n",
        "        #temp_weights = [np.ones(sizes[i], sizes[i+1]) for i in range(len(sizes)-1)]*0.01\n",
        "        #self.weights = np.sum(self.weights,temp_weights)\n",
        "        #self.sizes.append(1)\n",
        "        #self.sizes = [128]+self.sizes\n",
        "        #print(self.sizes)\n",
        "    \n",
        "    #def p(self):   # a temporoy function for checking the network\n",
        "        #print(self.num_layers-1)\n",
        "        \n",
        "        \n",
        "    #**************** forward ********************   \n",
        "    def forward(self ,a):   #forward propagation (x.w)\n",
        "        \n",
        "        for i in range(self.num_layers-1):  # badan ke laye voroudi ro ezafe kardi -1 ro bardar\n",
        "            w = self.weights[i]\n",
        "            b = self.biases[i]\n",
        "            a = activation_c.L_Relu(np.dot(a,w) + b)\n",
        "        return a\n",
        "    \n",
        "    def p():\n",
        "        print(loss.l2_loss([4],[2]))\n",
        "    \n",
        "    #******************back propagation************\n",
        "    \n",
        "    def backward(self,x,y):  #backward propagation\n",
        "        #print(\"backward\")\n",
        "        db = []\n",
        "        dw = []\n",
        "        activations = []\n",
        "        \n",
        "        for b in self.biases:\n",
        "            db .append(np.zeros(b.shape)) \n",
        "        for w in self.weights:\n",
        "            dw .append(np.zeros(w.shape)) \n",
        "\n",
        "        activation = x\n",
        "        activations .append(x)  # list to store all the activations, layer by layer\n",
        "\n",
        "        zs = [] # list to store all the z vectors, layer by layer\n",
        "        for b, w in zip(self.biases, self.weights):\n",
        "            \n",
        "            z = np.dot( activation , w )+b\n",
        "            #print(\"z\",z)\n",
        "            zs.append(z)\n",
        "            activation = activation_c.L_Relu(z)\n",
        "            activations.append(activation)\n",
        " \n",
        "        #print(activations)\n",
        "            \n",
        "        # backward pass \n",
        "        b =  loss.l2_loss_der(activations[-1], y) * activation_c.LRelu_der(zs[-1])\n",
        "        \n",
        "        db[-1] = b\n",
        "        dw[-1] = np.dot(activations[-2].transpose(), b)\n",
        "        \n",
        "        for l in range(2, self.num_layers):\n",
        "        \n",
        "            z = zs[-l]\n",
        "            rd =activation_c.LRelu_der(z)\n",
        "            #print(\"b\",b)\n",
        "            #print(\"weights\",self.weights[-l+1])\n",
        "            #print(\"rd\",rd)\n",
        "            b = np.dot( b , self.weights[-l+1].transpose()) * rd\n",
        "            db[-l] = b\n",
        "            dw[-l] = np.dot(activations[-l-1].transpose()  , b)\n",
        "        return (db, dw)\n",
        "    \n",
        "    #*************** SGD ################\n",
        "    def SGD(self, training_data   ):\n",
        "        #epochs = 1\n",
        "        batch_size = 128\n",
        "        #lr = 0.001\n",
        "\n",
        "        n = len(training_data)\n",
        "        random.shuffle(training_data)\n",
        "        #print(\"training data:\" , training_data)\n",
        "        mini_batches = [training_data[k:k+batch_size]\n",
        "                        for k in range(0, n, batch_size)]\n",
        "        #print(\"mini batches\",mini_batches)\n",
        "        for mini_batch in mini_batches:\n",
        "            #print(\"m\",mini_batch)\n",
        "            self.update_mini_batch(mini_batch)\n",
        "            #lr = 0.001 * math.pow(0.5,  math.floor((1+j)/2))\n",
        "\n",
        "        \n",
        "\n",
        "\n",
        "\n",
        "\n",
        "    #************* update mini batch *************\n",
        "    def update_mini_batch(self, mini_batch):\n",
        "        #print(\"hello\")\n",
        "        m=0.9\n",
        "        vdb = [np.zeros(b.shape) for b in self.biases]\n",
        "        vdw = [np.zeros(w.shape) for w in self.weights]\n",
        "        for x, y in mini_batch:\n",
        "            db, dw = self.backward(x, y)\n",
        "            vdb = [m*vd_b+d_b for vd_b, d_b in zip(vdb, db)]\n",
        "            vdw = [m*vd_w+d_w for vd_w, d_w in zip(vdw, dw)]\n",
        "            #print(vdw)\n",
        "        self.weights = [w-((self.lr/len(mini_batch))*nw)\n",
        "                        for w, nw in zip(self.weights, vdw)]\n",
        "        self.biases = [b-((self.lr/len(mini_batch))*nb)\n",
        "                       for b, nb in zip(self.biases, vdb)]\n",
        "        \n",
        "    #************* loss ****************\n",
        "    def loss(self , data):\n",
        "\n",
        "        y_pred = []\n",
        "        X_data = [i for i,j in data]\n",
        "        for i in X_data:\n",
        "            y_pred.append(self.forward(i))\n",
        "        y_data = [j for i,j in data]\n",
        "        loss_temp = loss.l2_loss(y_data,y_pred)\n",
        "        return loss_temp\n",
        "    #************nemudar**********\n",
        "    def plot():\n",
        "        print(\"hi\")\n",
        "        \n",
        "    #*************** main *****************\n",
        "    def main(self , train , validation , lr):\n",
        "        \n",
        "        loss_t = []\n",
        "        loss_v = []\n",
        "        epochs = 100\n",
        "        for j in range(epochs):\n",
        "            self.SGD(train)\n",
        "            if lr == 'constant': self.lr -=0.000005\n",
        "            if lr == 'step': self.lr = 0.001 * math.pow(0.5,  math.floor((1+j)/10))\n",
        "            loss_t.append(self.loss(train)/len(train))\n",
        "            loss_v.append(self.loss(validation)/len(validation))\n",
        "        print(loss_t)\n",
        "        print(loss_v)\n",
        "        return loss_t ,loss_v\n",
        "        \n",
        "        \n"
      ],
      "execution_count": null,
      "outputs": []
    },
    {
      "cell_type": "code",
      "metadata": {
        "id": "rPH2--0cAJRJ"
      },
      "source": [
        "train = zip(X_1_train, y_1_train)\n",
        "final_train = [i for i in train]\n",
        "\n",
        "val = zip(X_1_validation , y_1_validation)\n",
        "final_val = [i for i in val]"
      ],
      "execution_count": null,
      "outputs": []
    },
    {
      "cell_type": "code",
      "metadata": {
        "id": "U2nUzmyAbXSl",
        "colab": {
          "base_uri": "https://localhost:8080/"
        },
        "outputId": "098cf58c-d049-4363-877b-d80ab989f0de"
      },
      "source": [
        "j = Network([128,32,32,1],0)\n",
        "lt6 ,lv6 = j.main(final_train,final_val,'constant')"
      ],
      "execution_count": null,
      "outputs": [
        {
          "output_type": "stream",
          "text": [
            "[1449.0536898795863, 1398.1121720917572, 1347.8667863273035, 1303.7823248876966, 1262.1809625115134, 1220.7360714425083, 1182.145384420339, 1145.6244066942377, 1110.7805231244024, 1077.4001151017799, 1045.6898705223368, 1014.0946365794227, 985.3835559502589, 958.08411031165, 931.8292369866386, 907.5073348115225, 886.1944328579706, 863.6827573738814, 842.6214095271565, 823.4326563274504, 803.2385085032952, 785.2515572043948, 769.5283884042138, 752.7594208269953, 736.7756197058244, 721.4409412039438, 707.6277215182166, 694.7251383289617, 681.9713904010356, 670.027510796698, 657.9587979182703, 646.9336822723321, 635.7692475451688, 625.9152288971381, 616.9145976495768, 607.6780038534882, 599.1229224435484, 591.7494974797465, 584.4433920840393, 576.3437607939428, 569.1174593903091, 562.7929784624961, 556.2418809643488, 550.407630772882, 544.255887711419, 538.0223146593937, 532.6939820800354, 527.9685925502376, 523.6069069558396, 519.3594421677841, 514.86798436576, 510.6517275447748, 506.35454051560936, 502.3211051544555, 498.4208919370944, 494.5138002099921, 491.0098740516462, 487.82482469979294, 484.4900038813175, 481.6883541961162, 478.2426086402033, 475.50761215596185, 473.0301954855646, 470.43991328772603, 467.70581381871136, 465.29542593900294, 462.8957281741535, 460.3695937226419, 458.3614685554825, 456.3273024789431, 454.0384955011217, 452.08189667513136, 450.366283775137, 448.8003894516115, 447.06501573450464, 445.27958906817173, 443.92839604898944, 442.51126258158007, 441.21826719059936, 439.80956787005243, 438.7390253003305, 437.55822197800023, 436.28260222938843, 435.03276475218485, 433.6258661250332, 432.469382056875, 431.52799552099793, 430.63948929359117, 429.73050730821046, 428.74007120958515, 427.9498863079442, 427.03797185945695, 426.1446905571912, 425.48895602813747, 424.6517216970786, 423.9986436490053, 423.224695325033, 422.54826628128455, 421.92006864569055, 421.29596072860915]\n",
            "[1461.9143798476052, 1410.5694691646759, 1359.9160319314194, 1315.464592856823, 1273.5086617814602, 1231.7019663807139, 1192.7661285272925, 1155.9106226310373, 1120.7398918599317, 1087.0388088279672, 1055.0165784109063, 1023.1028254741504, 994.09516771765, 966.506953645705, 939.9676721531899, 915.3760193596166, 893.8214208677443, 871.0486803125758, 849.7373391996332, 830.3156400356862, 809.8706253978678, 791.6549402809586, 775.7274609198619, 758.7358002259309, 742.5348114483673, 726.9869288382009, 712.9773201122576, 699.887327923952, 686.9443159944288, 674.8193293847488, 662.5635660401737, 651.3637756530281, 640.018507874295, 630.0013556683699, 620.8486400549455, 611.4527227640654, 602.7469473950293, 595.2410805351024, 587.8012627499023, 579.5503350670972, 572.1861617045394, 565.7386388179126, 559.0576099843353, 553.10539622357, 546.8268353887934, 540.4620501808754, 535.0192642314815, 530.1904962388037, 525.7317376791488, 521.3881384533445, 516.7932105238112, 512.4780343101769, 508.0781445870634, 503.94648031660586, 499.94950003693236, 495.94361102637976, 492.34940798079157, 489.08084691140687, 485.6570257481492, 482.7793050841718, 479.23828033643895, 476.4262335171909, 473.87787572016094, 471.2121948412058, 468.39707954719694, 465.91398319203745, 463.44063816610463, 460.8355414609304, 458.7635397075142, 456.66361688058555, 454.29948910580976, 452.277322642609, 450.50327586750967, 448.8832418358901, 447.0869282107201, 445.2377203396657, 443.8374917376149, 442.36818634289085, 441.02689626080695, 439.56479369148695, 438.45309496307937, 437.22629884543613, 435.90025866095357, 434.60024591294126, 433.13590400897556, 431.9313988802836, 430.9503629376291, 430.0239542745959, 429.07569474650364, 428.0418600086277, 427.21658283167113, 426.2636318799974, 425.32957013787734, 424.64351802407947, 423.7670858436981, 423.0830371427324, 422.2719202827759, 421.56257628148416, 420.9034376799353, 420.2482214329431]\n"
          ],
          "name": "stdout"
        }
      ]
    },
    {
      "cell_type": "code",
      "metadata": {
        "colab": {
          "base_uri": "https://localhost:8080/",
          "height": 295
        },
        "id": "7ckSkdu3eVPo",
        "outputId": "a84afc8a-e80c-4356-a3f6-e042dd84d161"
      },
      "source": [
        "x = np.arange(0, 100 )  \n",
        "plt.plot(x , lt6,\"--\"  )\n",
        "plt.plot(x , lv6  )\n",
        "plt.legend(['train','validation'])\n",
        "plt.xlabel('epoch')\n",
        "plt.ylabel('loss')\n",
        "plt.figsize=(30,20)\n",
        "plt.title('Train and validation loss with zero initializition');\n",
        "plt.show()"
      ],
      "execution_count": null,
      "outputs": [
        {
          "output_type": "display_data",
          "data": {
            "image/png": "[encoded data removed]",
            "text/plain": [
              "<Figure size 432x288 with 1 Axes>"
            ]
          },
          "metadata": {
            "tags": [],
            "needs_background": "light"
          }
        }
      ]
    },
    {
      "cell_type": "code",
      "metadata": {
        "id": "U2fjvqbebE3C",
        "colab": {
          "base_uri": "https://localhost:8080/"
        },
        "outputId": "397c6e7f-da49-4b22-c336-38503482ca47"
      },
      "source": [
        "e = Network([128,32,32,1],1) #0.1 regularization for weight\n",
        "lt ,lv = e.main(final_train,final_val,'constant')"
      ],
      "execution_count": null,
      "outputs": [
        {
          "output_type": "stream",
          "text": [
            "[1086.0874611299853, 517.882035538703, 501.958923205105, 423.9418649037444, 404.2807725663761, 383.1988393262755, 412.3615365975589, 381.2355809158917, 396.33684458406833, 368.8941887010733, 372.24630285662613, 419.81267241422125, 372.7365737374103, 381.774683716617, 409.28277900426895, 385.80502585624225, 451.5365721330619, 386.173183637226, 416.61412718926334, 412.71794109172265, 360.27293598510323, 360.3729793050862, 433.1541055626607, 357.7389449112964, 365.3391226894023, 355.4022325644083, 355.1985776955436, 355.3862059408311, 360.57835704997865, 352.92922544096524, 372.4874533024536, 357.60294661320216, 355.79192953856506, 353.35569609970514, 354.10463227480045, 359.87453004679617, 367.4923595787935, 390.17991381065093, 355.47643812736084, 388.196865547628, 365.9929909032294, 355.98872297299374, 358.4229625567646, 357.62427137276285, 363.7016371887295, 391.6427047907695, 413.47422036615745, 351.9993379836218, 354.8469689648386, 386.22601698965815, 357.4194365817606, 349.434274340602, 361.7114982130058, 348.1552974791361, 363.29786171234184, 360.794311709322, 346.44893004895243, 346.06871111904843, 344.7279998007305, 391.1419946639727, 353.8685731795123, 345.20734456936697, 355.9627246868859, 369.7630765534284, 346.3528331269479, 360.4328907456845, 399.6061865220649, 368.020031197943, 346.961228833666, 346.02080301323514, 347.90886098482935, 343.7650734370061, 344.1798289479313, 351.85179754981056, 342.3168505543485, 365.6493579263803, 353.54943776701447, 367.7813090943335, 349.4207033716711, 354.0689282076277, 357.6762556060959, 346.9219613137618, 352.2682216567798, 346.1743274442926, 361.4097987813601, 361.28110097820144, 349.19055763096475, 343.6044883819216, 345.42031370832586, 342.33690716326487, 344.6256481346596, 352.19958286502344, 421.3174501793609, 347.38245809634213, 350.55340330736885, 344.1171671808093, 354.7619380046378, 343.62707578249893, 378.5943421175967, 346.820134165972]\n",
            "[1094.7136893204247, 519.9981739311878, 513.9743165283611, 433.71006926991475, 421.11978256213087, 399.06485224063067, 424.4097435285536, 400.84264370150714, 413.168989428883, 387.6842655544677, 394.1343468460919, 434.11818370113934, 391.60236457666554, 404.11831655892746, 431.7060062279609, 412.7988745717471, 481.74786547297873, 410.16144357014167, 442.2268533424915, 439.81239166523784, 382.73897162158727, 384.7570534448555, 459.0324538246848, 384.9635796320882, 391.9211885567252, 384.22083354808194, 380.7578116746194, 380.98322563751645, 383.63919573881157, 377.66547119944045, 396.76430251450233, 382.55874411874566, 377.34426661291286, 376.8200736953801, 378.0110321820924, 384.4301761068145, 387.9769360960869, 416.8720244191712, 380.92589216280106, 409.416815964417, 389.6641362989291, 377.9742400279585, 380.64435810454563, 382.21120897754133, 393.7925765970614, 410.94352445817793, 443.98507399593336, 375.74426120181204, 377.10276763152854, 407.6346518814835, 385.9949229438523, 373.6830382438905, 387.96919818478125, 373.083803780807, 387.98639833710405, 388.9755856997306, 371.5053587140459, 373.83712292947547, 373.5028372745646, 423.484623121962, 376.7909129389141, 370.67146237165736, 381.63105872922716, 399.1063044293178, 373.9945348881022, 387.61178139928353, 429.5728207374675, 394.0193027152646, 373.47648692533437, 370.93537019957296, 374.2903806543675, 370.88190142534006, 372.5326572875807, 379.25753982964983, 370.3718845486352, 399.2664470220962, 386.28548142732546, 395.45016311383796, 378.13167818317453, 385.62751969737246, 384.2542545025144, 378.8322772641259, 380.7882295751253, 375.0327123881582, 396.64399149634164, 396.335728207818, 381.2407946217693, 372.2293186236632, 374.42483653935756, 371.1684395985242, 374.9093581024635, 380.2725528162784, 443.5948134039324, 379.49682349744137, 382.50764172272994, 372.68933639516825, 382.4710737461618, 372.3343563219448, 414.8016643814496, 376.85314302914657]\n"
          ],
          "name": "stdout"
        }
      ]
    },
    {
      "cell_type": "code",
      "metadata": {
        "colab": {
          "base_uri": "https://localhost:8080/",
          "height": 295
        },
        "id": "Od9Xe-2FbT5B",
        "outputId": "5f8d0331-b405-4c1e-f459-c29159570ae6"
      },
      "source": [
        "x = np.arange(0, 100 )  #0.1 regularization for weight\n",
        "plt.plot(x , lt ,label=\"train\")\n",
        "plt.plot(x , lv , label =\"test\")\n",
        "plt.legend(['train','validation'])\n",
        "plt.xlabel('epoch')\n",
        "plt.ylabel('loss')\n",
        "plt.title('Train and validation loss with random initializition');\n",
        "plt.show()"
      ],
      "execution_count": null,
      "outputs": [
        {
          "output_type": "display_data",
          "data": {
            "image/png": "[encoded data removed]",
            "text/plain": [
              "<Figure size 432x288 with 1 Axes>"
            ]
          },
          "metadata": {
            "tags": [],
            "needs_background": "light"
          }
        }
      ]
    },
    {
      "cell_type": "code",
      "metadata": {
        "colab": {
          "base_uri": "https://localhost:8080/",
          "height": 295
        },
        "id": "qJPADlv4bxj3",
        "outputId": "60cc8a7c-7373-4b98-aad6-5503ebda7062"
      },
      "source": [
        "x = np.arange(0, 100 )  \n",
        "plt.plot(x , lt ,label=\"train\")\n",
        "plt.plot(x , lv , label =\"test\")\n",
        "plt.legend(['train','validation'])\n",
        "plt.xlabel('epoch')\n",
        "plt.ylabel('loss')\n",
        "plt.title('Train and validation loss with contant learning rate');\n",
        "plt.show()"
      ],
      "execution_count": null,
      "outputs": [
        {
          "output_type": "display_data",
          "data": {
            "image/png": "[encoded data removed]",
            "text/plain": [
              "<Figure size 432x288 with 1 Axes>"
            ]
          },
          "metadata": {
            "tags": [],
            "needs_background": "light"
          }
        }
      ]
    },
    {
      "cell_type": "code",
      "metadata": {
        "colab": {
          "base_uri": "https://localhost:8080/"
        },
        "id": "4wyhlOdYVsqV",
        "outputId": "6e3cdca6-94cd-4c84-a5d2-7e127fd23f41"
      },
      "source": [
        "k = Network([128,32,32,1],1) \n",
        "lt2 ,lv2 = k.main(final_train,final_val,'step')"
      ],
      "execution_count": null,
      "outputs": [
        {
          "output_type": "stream",
          "text": [
            "[1038.9816747623115, 444.90940618386674, 395.2785441347442, 408.1568043780162, 417.10185310732885, 463.0414059481735, 453.266151798388, 436.37556190370293, 378.5884670037334, 373.4735243386621, 368.08539507241727, 366.8659519800944, 363.1714957511693, 375.11783010100726, 367.48663569406256, 366.169611930756, 364.70795056019784, 360.2389880838376, 376.999111736958, 358.39731783807224, 355.9587021730066, 359.86462000345614, 355.2550804611819, 354.22802923960455, 353.78098239470154, 353.22131033247183, 352.94676391261015, 352.57147487320753, 352.18731034147663, 353.21356926921266, 352.1477553007366, 352.228760686258, 352.01021367194255, 351.260920365367, 350.77030311527477, 351.902910431471, 350.88653131429703, 350.39062990149154, 350.04990405267057, 349.8027599090902, 350.4086809022617, 349.84205773965596, 349.4737955609183, 349.41199324014025, 349.3222155867878, 349.2010288760216, 349.07012272264126, 348.9795571786719, 348.8429316535069, 348.7736682437441, 348.76962455933256, 348.818622743892, 348.6439217211861, 348.590348916678, 348.5750555466042, 348.56749658845996, 348.48114660380594, 348.5532656867865, 348.57494952266467, 348.50451332972744, 348.420556551263, 348.32786303666074, 348.34281782611674, 348.33321182332037, 348.2996128992447, 348.2762072693834, 348.253547655216, 348.23651038881917, 348.20511942127825, 348.17796650539356, 348.1651769633245, 348.15704856804405, 348.14741679322805, 348.1422402221993, 348.1317957411278, 348.12821193338243, 348.1122945334258, 348.10246900411636, 348.09422923030013, 348.0832517746767, 348.07941169293633, 348.07432263179993, 348.0702892786092, 348.0559393250679, 348.0537029435174, 348.0540606593735, 348.045869882211, 348.0354523828074, 348.0307064730221, 348.0265515577332, 348.0226168531034, 348.020840805319, 348.0187111296652, 348.016992456586, 348.0131631377574, 348.01099606490266, 348.0096999065626, 348.00953273265543, 348.0064214457086, 348.002028458652]\n",
            "[1010.4578491019992, 450.80325224163107, 419.94047375300505, 424.4276367504678, 429.98984159035103, 475.3724736359137, 490.52949684659916, 475.0577341111806, 408.7367997371981, 396.72823606205895, 390.4140547246569, 387.49579537035225, 388.9619611694964, 393.4140050143407, 391.4601266161171, 401.61370998625057, 399.48396418858545, 395.1467432041638, 419.23028016354857, 386.98091001904623, 385.62484486535465, 386.38430146188506, 385.1020978770303, 386.96278534640027, 386.20541904680493, 384.2241356813357, 384.6632119395295, 382.42102631631303, 383.02329183114483, 386.4798188721462, 383.9452651036126, 381.1134499982305, 380.1461427543315, 380.39217560528266, 380.12962951002913, 379.52174538502294, 379.6208683530249, 381.85922353987263, 380.2935070594089, 380.1017258756485, 382.0835713951415, 380.7272831279247, 379.6201675509463, 379.86593585492506, 379.9538346747395, 379.98440743038236, 378.0035241273768, 378.02849146675345, 378.44359925345213, 378.39365591216693, 377.96130624618195, 377.65664726327043, 378.01900572985676, 377.94811201928536, 378.61953790339084, 377.7277302300638, 377.9955284959612, 377.45494871460795, 377.42925534104734, 377.5792260726996, 377.71218923682574, 378.1234653854208, 378.07998200214354, 378.0648823999153, 378.63275542973355, 378.6939023859866, 378.3351999316728, 378.144770069884, 378.2222619564199, 378.42428521628284, 378.40964224649593, 378.4548081408646, 378.46440210889926, 378.565572498861, 378.4377431558827, 378.4472459792285, 378.33243674817805, 378.2380995109246, 378.2207771912498, 378.1607581261323, 378.16467106143386, 378.17027362513534, 378.168866541956, 378.15483156686395, 378.0526346443205, 378.01556327330303, 378.04604810195247, 378.1335907363565, 378.0181399129081, 378.0791172775146, 378.1553389125539, 378.1313823191551, 378.09937607581395, 378.0968804122335, 378.0942338356312, 378.08332114618236, 378.06834956271587, 378.0896874930061, 378.0778122271821, 378.0836949395964]\n"
          ],
          "name": "stdout"
        }
      ]
    },
    {
      "cell_type": "code",
      "metadata": {
        "id": "XxYAcMEtIHie",
        "colab": {
          "base_uri": "https://localhost:8080/",
          "height": 295
        },
        "outputId": "ed95226c-bb89-4689-bce5-933328b724a9"
      },
      "source": [
        "x = np.arange(0, 100 )  \n",
        "plt.plot(x , lt2 ,label=\"train\")\n",
        "plt.plot(x , lv2 , label =\"test\")\n",
        "plt.legend(['train','validation'])\n",
        "plt.xlabel('epoch')\n",
        "plt.ylabel('loss')\n",
        "plt.title('Train and validation loss with step learning rate');\n",
        "plt.show()"
      ],
      "execution_count": null,
      "outputs": [
        {
          "output_type": "display_data",
          "data": {
            "image/png": "[encoded data removed]",
            "text/plain": [
              "<Figure size 432x288 with 1 Axes>"
            ]
          },
          "metadata": {
            "tags": [],
            "needs_background": "light"
          }
        }
      ]
    }
  ]
}