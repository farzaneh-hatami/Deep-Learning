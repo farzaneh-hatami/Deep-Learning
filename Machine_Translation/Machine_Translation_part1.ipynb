{
  "nbformat": 4,
  "nbformat_minor": 0,
  "metadata": {
    "colab": {
      "name": "DL_part1_final.ipynb",
      "provenance": [],
      "collapsed_sections": []
    },
    "kernelspec": {
      "name": "python3",
      "display_name": "Python 3"
    },
    "language_info": {
      "name": "python"
    },
    "accelerator": "GPU"
  },
  "cells": [
    {
      "cell_type": "code",
      "metadata": {
        "colab": {
          "base_uri": "https://localhost:8080/"
        },
        "id": "4IOB4XiizglA",
        "outputId": "535caa0b-9633-48e5-ec56-5d09bd571090"
      },
      "source": [
        "pip install hazm"
      ],
      "execution_count": 1,
      "outputs": [
        {
          "output_type": "stream",
          "text": [
            "Collecting hazm\n",
            "\u001b[?25l  Downloading https://files.pythonhosted.org/packages/22/13/5a7074bc11d20dbbb46239349ac3f85f7edc148b4cf68e9b8c2f8263830c/hazm-0.7.0-py3-none-any.whl (316kB)\n",
            "\u001b[K     |████████████████████████████████| 317kB 9.4MB/s \n",
            "\u001b[?25hCollecting libwapiti>=0.2.1; platform_system != \"Windows\"\n",
            "\u001b[?25l  Downloading https://files.pythonhosted.org/packages/bc/0f/1c9b49bb49821b5856a64ea6fac8d96a619b9f291d1f06999ea98a32c89c/libwapiti-0.2.1.tar.gz (233kB)\n",
            "\u001b[K     |████████████████████████████████| 235kB 52.4MB/s \n",
            "\u001b[?25hCollecting nltk==3.3\n",
            "\u001b[?25l  Downloading https://files.pythonhosted.org/packages/50/09/3b1755d528ad9156ee7243d52aa5cd2b809ef053a0f31b53d92853dd653a/nltk-3.3.0.zip (1.4MB)\n",
            "\u001b[K     |████████████████████████████████| 1.4MB 44.8MB/s \n",
            "\u001b[?25hRequirement already satisfied: six in /usr/local/lib/python3.7/dist-packages (from libwapiti>=0.2.1; platform_system != \"Windows\"->hazm) (1.15.0)\n",
            "Building wheels for collected packages: libwapiti, nltk\n",
            "  Building wheel for libwapiti (setup.py) ... \u001b[?25l\u001b[?25hdone\n",
            "  Created wheel for libwapiti: filename=libwapiti-0.2.1-cp37-cp37m-linux_x86_64.whl size=154160 sha256=bab06b00988431e7801f37ea5ba91b7b427c2410a4def070c4376603c5507554\n",
            "  Stored in directory: /root/.cache/pip/wheels/66/15/54/4510dce8bb958b1cdd2c47425cbd1e1eecc0480ac9bb1fb9ab\n",
            "  Building wheel for nltk (setup.py) ... \u001b[?25l\u001b[?25hdone\n",
            "  Created wheel for nltk: filename=nltk-3.3-cp37-none-any.whl size=1394488 sha256=ddae0953e86821ff80d12ccbe910c950b2ad075b5de3db5fa52170b4fe3e5721\n",
            "  Stored in directory: /root/.cache/pip/wheels/d1/ab/40/3bceea46922767e42986aef7606a600538ca80de6062dc266c\n",
            "Successfully built libwapiti nltk\n",
            "Installing collected packages: libwapiti, nltk, hazm\n",
            "  Found existing installation: nltk 3.2.5\n",
            "    Uninstalling nltk-3.2.5:\n",
            "      Successfully uninstalled nltk-3.2.5\n",
            "Successfully installed hazm-0.7.0 libwapiti-0.2.1 nltk-3.3\n"
          ],
          "name": "stdout"
        }
      ]
    },
    {
      "cell_type": "markdown",
      "metadata": {
        "id": "-OjKit5PRVNe"
      },
      "source": [
        "# Train and validation processing using torchtext"
      ]
    },
    {
      "cell_type": "code",
      "metadata": {
        "id": "ln1NpZEyjcHg"
      },
      "source": [
        "import pandas as pd\n",
        "import spacy\n",
        "import numpy as np\n",
        "import torch \n",
        "import requests\n",
        "from nltk import word_tokenize\n",
        "import nltk\n",
        "from hazm import *\n",
        "from torchtext.legacy.data import Field, BucketIterator, TabularDataset\n",
        "from sklearn.model_selection import train_test_split\n",
        "import math\n",
        "import torch\n",
        "import torch.nn as nn"
      ],
      "execution_count": 2,
      "outputs": []
    },
    {
      "cell_type": "code",
      "metadata": {
        "colab": {
          "base_uri": "https://localhost:8080/"
        },
        "id": "VLXfx5UQGtS4",
        "outputId": "32f19dab-7609-4ac5-a305-708f6de8225d"
      },
      "source": [
        "nltk.download('punkt')"
      ],
      "execution_count": 4,
      "outputs": [
        {
          "output_type": "stream",
          "text": [
            "[nltk_data] Downloading package punkt to /root/nltk_data...\n",
            "[nltk_data]   Unzipping tokenizers/punkt.zip.\n"
          ],
          "name": "stdout"
        },
        {
          "output_type": "execute_result",
          "data": {
            "text/plain": [
              "True"
            ]
          },
          "metadata": {
            "tags": []
          },
          "execution_count": 4
        }
      ]
    },
    {
      "cell_type": "code",
      "metadata": {
        "colab": {
          "base_uri": "https://localhost:8080/",
          "height": 323
        },
        "id": "n7sAAZLfjEhn",
        "outputId": "f81a4fca-27a4-4d73-efad-6585e3be265c"
      },
      "source": [
        "!pip install  --upgrade nltk"
      ],
      "execution_count": 3,
      "outputs": [
        {
          "output_type": "stream",
          "text": [
            "Collecting nltk\n",
            "\u001b[?25l  Downloading https://files.pythonhosted.org/packages/5e/37/9532ddd4b1bbb619333d5708aaad9bf1742f051a664c3c6fa6632a105fd8/nltk-3.6.2-py3-none-any.whl (1.5MB)\n",
            "\u001b[K     |████████████████████████████████| 1.5MB 9.7MB/s \n",
            "\u001b[?25hRequirement already satisfied, skipping upgrade: click in /usr/local/lib/python3.7/dist-packages (from nltk) (7.1.2)\n",
            "Requirement already satisfied, skipping upgrade: regex in /usr/local/lib/python3.7/dist-packages (from nltk) (2019.12.20)\n",
            "Requirement already satisfied, skipping upgrade: tqdm in /usr/local/lib/python3.7/dist-packages (from nltk) (4.41.1)\n",
            "Requirement already satisfied, skipping upgrade: joblib in /usr/local/lib/python3.7/dist-packages (from nltk) (1.0.1)\n",
            "\u001b[31mERROR: hazm 0.7.0 has requirement nltk==3.3, but you'll have nltk 3.6.2 which is incompatible.\u001b[0m\n",
            "Installing collected packages: nltk\n",
            "  Found existing installation: nltk 3.3\n",
            "    Uninstalling nltk-3.3:\n",
            "      Successfully uninstalled nltk-3.3\n",
            "Successfully installed nltk-3.6.2\n"
          ],
          "name": "stdout"
        },
        {
          "output_type": "display_data",
          "data": {
            "application/vnd.colab-display-data+json": {
              "pip_warning": {
                "packages": [
                  "nltk"
                ]
              }
            }
          },
          "metadata": {
            "tags": []
          }
        }
      ]
    },
    {
      "cell_type": "code",
      "metadata": {
        "colab": {
          "base_uri": "https://localhost:8080/"
        },
        "id": "huEQHXpGjjfC",
        "outputId": "f469c4f3-d26d-416f-9377-feacd2575b5e"
      },
      "source": [
        "from google.colab import drive\n",
        "drive.mount('/content/drive')"
      ],
      "execution_count": 5,
      "outputs": [
        {
          "output_type": "stream",
          "text": [
            "Mounted at /content/drive\n"
          ],
          "name": "stdout"
        }
      ]
    },
    {
      "cell_type": "code",
      "metadata": {
        "id": "SMwBHXEs7lML"
      },
      "source": [
        "!ls \"/content/drive/MyDrive/Colab Notebooks/DL_4\""
      ],
      "execution_count": null,
      "outputs": []
    },
    {
      "cell_type": "code",
      "metadata": {
        "id": "ZEDg4L5W7lYO"
      },
      "source": [
        "!unzip \"/content/drive/My Drive/Colab Notebooks/DL_4/AFEC-merged-all.zip\" -d \"//content/drive/My Drive/Colab Notebooks/DL_4/AFEC-merged-all\""
      ],
      "execution_count": null,
      "outputs": []
    },
    {
      "cell_type": "code",
      "metadata": {
        "id": "ErW9fwiE7ld4"
      },
      "source": [
        "!unzip \"/content/drive/My Drive/Colab Notebooks/DL_4/Test.zip\" -d \"//content/drive/My Drive/Colab Notebooks/DL_4/Test\""
      ],
      "execution_count": null,
      "outputs": []
    },
    {
      "cell_type": "code",
      "metadata": {
        "id": "U491nJcutW0V"
      },
      "source": [
        "english_text = open('/content/drive/My Drive/Colab Notebooks/DL_4/AFEC-merged-all/AFEC-merged.en', encoding='utf8').read().split('\\n')\n",
        "persian_text = open('/content/drive/My Drive/Colab Notebooks/DL_4/AFEC-merged-all/AFEC-merged.fa', encoding='utf8').read().split('\\n')"
      ],
      "execution_count": 6,
      "outputs": []
    },
    {
      "cell_type": "code",
      "metadata": {
        "id": "PW8YAVwmuYcb"
      },
      "source": [
        "data = {'English': [line for line in english_text],\n",
        "        'Persian': [line for line in persian_text ]}"
      ],
      "execution_count": 7,
      "outputs": []
    },
    {
      "cell_type": "code",
      "metadata": {
        "id": "A6c4xzkR3EUT"
      },
      "source": [
        "df = pd.DataFrame(data ,  columns = ['English' , 'Persian'])"
      ],
      "execution_count": 8,
      "outputs": []
    },
    {
      "cell_type": "code",
      "metadata": {
        "id": "3keeVT8m6GWF"
      },
      "source": [
        "train , validation = train_test_split(df , test_size = 0.1)"
      ],
      "execution_count": 9,
      "outputs": []
    },
    {
      "cell_type": "code",
      "metadata": {
        "id": "XmycNtyH6GZC",
        "colab": {
          "base_uri": "https://localhost:8080/",
          "height": 52
        },
        "outputId": "88d2e89d-d42b-4296-9e3f-5bba4fca158e"
      },
      "source": [
        "train.to_json(r'/content/drive/My Drive/Colab Notebooks/DL_4/train.json',orient='records' , lines =True)\n",
        "validation.to_json(r'/content/drive/My Drive/Colab Notebooks/DL_4/validation.json',orient='records' , lines =True)"
      ],
      "execution_count": null,
      "outputs": [
        {
          "output_type": "execute_result",
          "data": {
            "application/vnd.google.colaboratory.intrinsic+json": {
              "type": "string"
            },
            "text/plain": [
              "\"train.to_json(r'/content/drive/My Drive/Colab Notebooks/DL_4/train.json',orient='records' , lines =True)\\nvalidation.to_json(r'/content/drive/My Drive/Colab Notebooks/DL_4/validation.json',orient='records' , lines =True)\""
            ]
          },
          "metadata": {
            "tags": []
          },
          "execution_count": 13
        }
      ]
    },
    {
      "cell_type": "code",
      "metadata": {
        "id": "uKxlHFhG7lhF"
      },
      "source": [
        "def tokenize_english(text):\n",
        "      return  word_tokenize(text.lower()) #lower case vocabs"
      ],
      "execution_count": 10,
      "outputs": []
    },
    {
      "cell_type": "code",
      "metadata": {
        "id": "hFGODc3y7lkV"
      },
      "source": [
        "def tokenize_persian(text):\n",
        "      return  word_tokenize(text) #lower case vocabs"
      ],
      "execution_count": 11,
      "outputs": []
    },
    {
      "cell_type": "code",
      "metadata": {
        "id": "3VEq0Wx67lni"
      },
      "source": [
        "#Defines a datatype together with instructions for converting to Tensor.\n",
        "#sequentila -> if false no tokenize applied.\n",
        "#use_vocab : if false data already is numercal.\n",
        "\n",
        "english = Field(sequential = True , use_vocab = True ,init_token = '<sos>', eos_token = '<eos>',  batch_first = True, tokenize = tokenize_english , lower = True)\n",
        "persian = Field(sequential = True , use_vocab = True ,init_token = '<sos>', eos_token = '<eos>',  batch_first = True, tokenize = tokenize_persian , lower = True)\n",
        "\n",
        "            "
      ],
      "execution_count": 12,
      "outputs": []
    },
    {
      "cell_type": "code",
      "metadata": {
        "id": "vKvJjSyX7lqg"
      },
      "source": [
        "fields = {'English' : ('english',english), 'Persian' : ('persian',persian)}"
      ],
      "execution_count": 13,
      "outputs": []
    },
    {
      "cell_type": "code",
      "metadata": {
        "id": "NG1T6NsRFbbD"
      },
      "source": [
        "#Defines a Dataset of columns stored in CSV, TSV, or JSON format.\n",
        "train_data , validation_data = TabularDataset.splits(\n",
        "    path = '/content/drive/My Drive/Colab Notebooks/DL_4/',\n",
        "    train = 'train.json',\n",
        "    validation = 'validation.json',\n",
        "    format = 'json',\n",
        "    fields = fields\n",
        ")"
      ],
      "execution_count": 14,
      "outputs": []
    },
    {
      "cell_type": "code",
      "metadata": {
        "id": "HOVoaGYbKP6s"
      },
      "source": [
        "english.build_vocab(train_data , min_freq = 6)\n",
        "persian.build_vocab(train_data , min_freq = 6)"
      ],
      "execution_count": 15,
      "outputs": []
    },
    {
      "cell_type": "code",
      "metadata": {
        "colab": {
          "base_uri": "https://localhost:8080/"
        },
        "id": "q_I2T-m403Zz",
        "outputId": "b7c3758f-f5c2-4e0e-b541-ad39ad093ebb"
      },
      "source": [
        "len(english.vocab)"
      ],
      "execution_count": null,
      "outputs": [
        {
          "output_type": "execute_result",
          "data": {
            "text/plain": [
              "40123"
            ]
          },
          "metadata": {
            "tags": []
          },
          "execution_count": 112
        }
      ]
    },
    {
      "cell_type": "code",
      "metadata": {
        "id": "jOdSJXfuKP8f"
      },
      "source": [
        "train_iterator , validation_iterator = BucketIterator.splits(\n",
        "    (train_data,validation_data),\n",
        "    batch_size = 64,\n",
        "    device='cuda',\n",
        "    sort = False\n",
        "  \n",
        ")"
      ],
      "execution_count": 16,
      "outputs": []
    },
    {
      "cell_type": "markdown",
      "metadata": {
        "id": "WP0LrnLiUe3W"
      },
      "source": [
        "Test **Data**"
      ]
    },
    {
      "cell_type": "code",
      "metadata": {
        "id": "bk9H22FmUeQt"
      },
      "source": [
        "english_test_text = open('/content/drive/My Drive/Colab Notebooks/DL_4/Test/Test/test.en', encoding='utf8').read().split('\\n')\n",
        "persian_test_text_0 = open('/content/drive/My Drive/Colab Notebooks/DL_4/Test/Test/test.fa0', encoding='utf8').read().split('\\n')\n",
        "persian_test_text_1 = open('/content/drive/My Drive/Colab Notebooks/DL_4/Test/Test/test.fa1', encoding='utf8').read().split('\\n')\n",
        "persian_test_text_2 = open('/content/drive/My Drive/Colab Notebooks/DL_4/Test/Test/test.fa2', encoding='utf8').read().split('\\n')\n",
        "persian_test_text_3 = open('/content/drive/My Drive/Colab Notebooks/DL_4/Test/Test/test.fa3', encoding='utf8').read().split('\\n')"
      ],
      "execution_count": 17,
      "outputs": []
    },
    {
      "cell_type": "code",
      "metadata": {
        "colab": {
          "base_uri": "https://localhost:8080/",
          "height": 35
        },
        "id": "LShuE1HhcCZQ",
        "outputId": "9a4906fd-c65e-446b-a4f8-6ffde24f3256"
      },
      "source": [
        "persian_test_text_0[0]"
      ],
      "execution_count": 39,
      "outputs": [
        {
          "output_type": "execute_result",
          "data": {
            "application/vnd.google.colaboratory.intrinsic+json": {
              "type": "string"
            },
            "text/plain": [
              "'سلام ، آیا روز بیست و هشتم مارچ قرار است با هم تا هانوور رانندگی کنیم ؟'"
            ]
          },
          "metadata": {
            "tags": []
          },
          "execution_count": 39
        }
      ]
    },
    {
      "cell_type": "markdown",
      "metadata": {
        "id": "ZaJI9goKLXJR"
      },
      "source": [
        "# **Network**"
      ]
    },
    {
      "cell_type": "code",
      "metadata": {
        "id": "24onM_7LT2B5"
      },
      "source": [
        "class SelfAttention(nn.Module):\n",
        "  def __init__(self ,embed_size , heads):\n",
        "    super(SelfAttention , self).__init__()\n",
        "    self.embed_size = embed_size\n",
        "    self.heads = heads\n",
        "    self.heads_dim = embed_size //heads\n",
        "    #print(self.heads_dim)\n",
        "\n",
        "    assert self.heads_dim*heads == embed_size ,\"Embed size need to be div by heads\"\n",
        "\n",
        "    \"\"\"self.values = nn.Linear(self.heads_dim , self.heads_dim , bias = False)\n",
        "    self.keys = nn.Linear(self.heads_dim , self.heads_dim ,bias = False)\n",
        "    self.queries = nn.Linear(self.heads_dim ,self.heads_dim , bias =False)\"\"\"\n",
        "\n",
        "    self.values = nn.Linear(self.embed_size , self.embed_size , bias = False)\n",
        "    self.keys = nn.Linear(self.embed_size , self.embed_size ,bias = False)\n",
        "    self.queries = nn.Linear(self.embed_size ,self.embed_size , bias =False)\n",
        "    self.fc_out = nn.Linear(heads*self.heads_dim , embed_size) #embed_size = heads*heads_dim\n",
        "\n",
        "\n",
        "  def forward(self , values , keys , queries , mask):\n",
        "    #number of training examples /how many example we are sending at the same time\n",
        "    N = queries.shape[0]\n",
        "    value_len , key_len , query_len = values.shape[1] , keys.shape[1] ,queries.shape[1] #these length coresspond to target and sourcr sentences length.\n",
        "    \n",
        "\n",
        "    values = self.values(values)\n",
        "    #print(\"after values\",values.shape)\n",
        "    keys = self.keys(keys)\n",
        "    #print(\"keys\",keys.shape)\n",
        "    queries = self.queries(queries)\n",
        "    #print(\"queries\" ,queries.shape)\n",
        "\n",
        "    #split embeddig into self.heads pieses\n",
        "    values = values.reshape(N , value_len , self.heads , self.heads_dim) # split embed_size into self.heads and self.heads_dim\n",
        "    #print(\"values\",values.shape)\n",
        "    keys = keys.reshape(N , key_len , self.heads , self.heads_dim)\n",
        "    queries = queries.reshape(N , query_len , self.heads , self.heads_dim)\n",
        "\n",
        "    energy = torch.einsum(\"bqhd,bkhd -> bhqk\" , [queries,keys])\n",
        "    #queiries shape: (N,query_len , heads , heads_dim)\n",
        "    #keys shape : (N , key_len ,heads ,heads_dim)\n",
        "    #energy shape : (N, heads , query_len , key_len) #query = target , key = source\n",
        "    #print(\"energy\",energy.shape)\n",
        "    if mask is not None:\n",
        "      #print(\"####mask\",mask.shape)\n",
        "      #print(\"energy\",energy.shape)\n",
        "      #mask = mask.unsqueeze(1).unsqueeze(2)\n",
        "      #print(\"mask\",mask.shape)\n",
        "      mask = mask.unsqueeze(1).unsqueeze(2)\n",
        "      energy = energy.masked_fill(mask == True , float(\"-1e20\"))#if a element of a mask is zero it means that shut that off\n",
        "      #print(\"energy after mask\",energy.shape)\n",
        "    #key_length = value_length\n",
        "    attention = torch.softmax(energy / (self.embed_size **(1/2)) , dim=2)\n",
        "    #print(\"attention\",attention.shape)\n",
        "    out = torch.einsum(\"bhql,blhd->bqhd\",[attention,values]).reshape(N,query_len,self.heads*self.heads_dim)\n",
        "    #print(\"out\",out.shape)\n",
        "    #attention shape :(batch,heads ,query_len ,key_len)\n",
        "    #values shape :(bach) ,value_len ,heads,head_dim)\n",
        "    #after einsum(batch,query_len,heads,head_dim) then flatten last two dimention\n",
        "\n",
        "    out = self.fc_out(out)\n",
        "    #print(\"selfattention\")\n",
        "    return out"
      ],
      "execution_count": 19,
      "outputs": []
    },
    {
      "cell_type": "code",
      "metadata": {
        "id": "14D2mgTM1mRA"
      },
      "source": [
        "class TokenEmbedding(nn.Module):\n",
        "    def __init__(self, vocab_size , embed_size):\n",
        "        super(TokenEmbedding, self).__init__()\n",
        "        self.embedding = nn.Embedding(vocab_size, embed_size)\n",
        "        self.embed_size = embed_size\n",
        "\n",
        "    def forward(self, tokens):\n",
        "\n",
        "        #print(\":tokenembedding\")\n",
        "        return self.embedding(tokens) * math.sqrt(self.embed_size)"
      ],
      "execution_count": 20,
      "outputs": []
    },
    {
      "cell_type": "code",
      "metadata": {
        "id": "l7aX24RoYvvt"
      },
      "source": [
        "#https://pytorch.org/tutorials/beginner/translation_transformer.html\n",
        "class PositionalEncoding(nn.Module):\n",
        "    def __init__(self, embed_size , maxlen = 500):\n",
        "        super(PositionalEncoding, self).__init__()\n",
        "\n",
        "        den = torch.exp(- torch.arange(0, embed_size, 2)* math.log(10000) / embed_size)\n",
        "        pos = torch.arange(0, maxlen).reshape(maxlen, 1)\n",
        "        pos_embedding = torch.zeros((maxlen, embed_size))\n",
        "        pos_embedding[:, 0::2] = torch.sin(pos * den)\n",
        "        pos_embedding[:, 1::2] = torch.cos(pos * den)\n",
        "        pos_embedding = pos_embedding.unsqueeze(-2)\n",
        "\n",
        "        self.register_buffer('pos_embedding', pos_embedding)\n",
        "\n",
        "    def forward(self, token_embedding ):\n",
        "        #print(\"positional_encoding\")\n",
        "        return self.pos_embedding[:token_embedding.size(0), :]"
      ],
      "execution_count": 21,
      "outputs": []
    },
    {
      "cell_type": "code",
      "metadata": {
        "id": "0SJbUZYqcesb"
      },
      "source": [
        "class TransformerBlock(nn.Module):\n",
        "  def __init__(self,embed_size,heads,dropout,dim_inner):\n",
        "    super(TransformerBlock,self).__init__()\n",
        "    self.attention = SelfAttention(embed_size,heads)\n",
        "    self.norm1 = nn.LayerNorm(embed_size)\n",
        "    self.norm2 = nn.LayerNorm(embed_size)\n",
        "\n",
        "    self.feed_forward = nn.Sequential(\n",
        "        nn.Linear(embed_size,dim_inner),\n",
        "        nn.ReLU(),\n",
        "        nn.Linear(dim_inner,embed_size)\n",
        "    \n",
        "    )\n",
        "    self.dropout = nn.Dropout(dropout)\n",
        "\n",
        "  def forward(self,value , key, query, mask):\n",
        "    attention = self.attention(value,key,query,mask)\n",
        "\n",
        "    x = self.dropout(self.norm1(attention+query))\n",
        "    forward = self.feed_forward(x)\n",
        "    out = self.dropout(self.norm2(forward + x))\n",
        "    #print(\"transformerblock\")\n",
        "    return out"
      ],
      "execution_count": 22,
      "outputs": []
    },
    {
      "cell_type": "code",
      "metadata": {
        "id": "GqNI6OkxowKC"
      },
      "source": [
        "class Encoder(nn.Module):\n",
        "  def __init__(self,\n",
        "               src_vocab_size, \n",
        "               embed_size, \n",
        "               num_layers,\n",
        "               heads, \n",
        "               dim_inner,\n",
        "               device,\n",
        "               dropout,\n",
        "               max_length, #positional emedding how long is the sentence length\n",
        "  ):\n",
        "    super(Encoder,self).__init__()\n",
        "    self.embed_size = embed_size\n",
        "    self.device = device\n",
        "    self.word_embedding = nn.Embedding(src_vocab_size , embed_size)\n",
        "    self.position_embedding = PositionalEncoding( embed_size ,max_length)\n",
        "\n",
        "    self.encoder_layers = nn.ModuleList(\n",
        "        [\n",
        "         TransformerBlock(\n",
        "             embed_size,\n",
        "             heads,\n",
        "             dropout = dropout,\n",
        "             dim_inner = dim_inner\n",
        "         )\n",
        "         for _ in range(num_layers)\n",
        "        ]\n",
        "    )\n",
        "    self.dropout = nn.Dropout(dropout)\n",
        "  \n",
        "  def forward(self , x , mask):\n",
        "    N, seq_length = x.shape\n",
        "    word_embedding = self.word_embedding(x)\n",
        "    pos_embedding = self.position_embedding(word_embedding)\n",
        "    out = self.dropout(word_embedding+pos_embedding)\n",
        "\n",
        "    for layer in self.encoder_layers:\n",
        "      out = layer(out , out , out, mask)\n",
        "    #print(\"out\",out.shape)\n",
        "    #print(\"encoder\")\n",
        "    return out"
      ],
      "execution_count": 23,
      "outputs": []
    },
    {
      "cell_type": "code",
      "metadata": {
        "id": "YK46aUd7t7-F"
      },
      "source": [
        "class Decoder(nn.Module):\n",
        "  def __init__(self, embed_size, heads, num_layers ,trg_vocab_size,max_length ):\n",
        "    super(Decoder,self).__init__()\n",
        "    \n",
        "    self.embed_size = embed_size\n",
        "    self.dropout = nn.Dropout(0.1)\n",
        "    #self.device = device\n",
        "    self.decoder_layers = nn.ModuleList(\n",
        "        [\n",
        "         nn.TransformerDecoderLayer(\n",
        "             d_model = embed_size,\n",
        "             nhead = heads,\n",
        "             batch_first = True\n",
        "         )\n",
        "         for _ in range(num_layers)\n",
        "        ]\n",
        "    )\n",
        "    self.word_embedding = nn.Embedding(trg_vocab_size , embed_size)\n",
        "    self.position_embedding = PositionalEncoding( embed_size ,max_length)\n",
        "    self.fc_out = nn.Linear(embed_size, trg_vocab_size) \n",
        "\n",
        "  def forward(self , target , encoder_src, target_mask ,padding_mask ):\n",
        "\n",
        "    word_embedding = self.word_embedding(target)\n",
        "    pos_embedding = self.position_embedding(target)\n",
        "    out = self.dropout(word_embedding+pos_embedding)\n",
        "\n",
        "\n",
        "    for layer in self.decoder_layers:\n",
        "      out = layer( out, encoder_src ,tgt_mask  = target_mask ,tgt_key_padding_mask = padding_mask)\n",
        "    #print(\"decoder\")\n",
        "    out = self.fc_out(out)\n",
        "\n",
        "    return out"
      ],
      "execution_count": 24,
      "outputs": []
    },
    {
      "cell_type": "code",
      "metadata": {
        "id": "mubv1yn7S1oU"
      },
      "source": [
        "class Transformer(nn.Module):\n",
        "  def __init__(\n",
        "      self, \n",
        "      encoder, \n",
        "      decoder, \n",
        "      src_pad_idx, \n",
        "      trg_pad_idx, \n",
        "      device\n",
        "  ):\n",
        "      super(Transformer , self).__init__()\n",
        "      self.encoder = encoder\n",
        "      self.decoder = decoder\n",
        "      self.src_pad_idx = src_pad_idx\n",
        "      self.trg_pad_idx = trg_pad_idx\n",
        "      self.device = device\n",
        "      self.pad_trg_idx = persian.vocab.stoi['<pad>']\n",
        "      self.pad_src_idx = english.vocab.stoi['<pad>']\n",
        "\n",
        "\n",
        "\n",
        "  def create_trg_mask(self ,tgt):\n",
        "      N , l = tgt.shape\n",
        "      mask = (torch.triu(torch.ones((l, l),device=self.device)) == 1).transpose(0, 1)\n",
        "      mask = mask.float().masked_fill(mask == 0, float('-inf')).masked_fill(mask == 1, float(0.0))\n",
        "      return mask.to(self.device)\n",
        "\n",
        "  def create_trg_padding_mask(self , tgt):\n",
        "    N , tgt_seq_len = tgt.shape\n",
        "    tgt_padding_mask = (tgt == self.pad_trg_idx)\n",
        "    return tgt_padding_mask.to(self.device)\n",
        "\n",
        "  def create_src_padding_mask(self , src):\n",
        "      src_seq_len = src.shape[1]\n",
        "      src_padding_mask = (src == self.pad_src_idx)\n",
        "      #src_mask = torch.zeros((src_seq_len, src_seq_len),device=self.device).type(torch.bool)\n",
        "      return src_padding_mask.to(self.device)\n",
        "      \n",
        "\n",
        "  def forward(self, src, trg):\n",
        "\n",
        "      trg_mask =self.create_trg_mask(trg)\n",
        "      trg_mask.shape\n",
        "      trg_padding_mask =self.create_trg_padding_mask(trg)\n",
        "      trg_padding_mask.shape\n",
        "      src_padding_mask =self.create_src_padding_mask(src)\n",
        "      src_padding_mask.shape\n",
        "\n",
        "      enc_src = self.encoder(src, src_padding_mask)\n",
        "      out = self.decoder(trg, enc_src,trg_mask, trg_padding_mask)\n",
        "      #print(\"transformer\")\n",
        "      return out\n",
        "\n",
        "\n",
        "\n",
        "\n",
        "      "
      ],
      "execution_count": 25,
      "outputs": []
    },
    {
      "cell_type": "code",
      "metadata": {
        "id": "Ois8txdT0aLh"
      },
      "source": [
        "src_vocab_size = len(english.vocab)\n",
        "trg_vocab_size = len(persian.vocab)\n",
        "per_pad_idx = persian.vocab.stoi[persian.pad_token]\n",
        "eng_pad_idx = english.vocab.stoi[english.pad_token]\n",
        "embed_size = 256\n",
        "num_layers_enc = 3\n",
        "num_layers_dec = 3\n",
        "heads_enc = 8\n",
        "heads_dec = 8\n",
        "dim_inner = 1024\n",
        "device = torch.device('cuda' if torch.cuda.is_available() else 'cpu')\n",
        "dropout = 0.1\n",
        "max_length = 500\n",
        "\n",
        "encoder = Encoder(\n",
        "      src_vocab_size, \n",
        "      embed_size, \n",
        "      num_layers_enc, \n",
        "      heads_enc, \n",
        "      dim_inner,\n",
        "      device,\n",
        "      dropout,\n",
        "      max_length)\n",
        "\n",
        "decoder = Decoder(\n",
        "        embed_size,\n",
        "        heads_dec,\n",
        "        num_layers_dec,\n",
        "        trg_vocab_size,\n",
        "        max_length,\n",
        "        #batch_first = True\n",
        "    )\n",
        "\n",
        "model = Transformer(encoder, decoder, per_pad_idx, eng_pad_idx, device).to(device)"
      ],
      "execution_count": 26,
      "outputs": []
    },
    {
      "cell_type": "code",
      "metadata": {
        "colab": {
          "base_uri": "https://localhost:8080/"
        },
        "id": "vuFz7ukN3aH6",
        "outputId": "f2c12c1f-310e-4312-b89f-1855c8341f90"
      },
      "source": [
        "def count_parameters(model):\n",
        "    return sum(p.numel() for p in model.parameters() if p.requires_grad)\n",
        "\n",
        "print(f'The model has {count_parameters(model):,} trainable parameters')"
      ],
      "execution_count": 27,
      "outputs": [
        {
          "output_type": "stream",
          "text": [
            "The model has 37,284,250 trainable parameters\n"
          ],
          "name": "stdout"
        }
      ]
    },
    {
      "cell_type": "code",
      "metadata": {
        "id": "Z7dMaWyxNdne"
      },
      "source": [
        "LearningRate = 0.0001"
      ],
      "execution_count": 28,
      "outputs": []
    },
    {
      "cell_type": "code",
      "metadata": {
        "id": "uuGeQVXAjwvg"
      },
      "source": [
        "LearningRate = 0.0001\n",
        "optimizer = torch.optim.Adam(model.parameters(), lr = LearningRate,betas=(0.9, 0.98), eps=1e-09)\n",
        "\n",
        "criterion = nn.CrossEntropyLoss(ignore_index = per_pad_idx)"
      ],
      "execution_count": null,
      "outputs": []
    },
    {
      "cell_type": "code",
      "metadata": {
        "id": "1k6seWAFMfNR"
      },
      "source": [
        "def evaluate(model, iterator, criterion):\n",
        "    \n",
        "    model.eval()\n",
        "    \n",
        "    epoch_loss = 0\n",
        "    \n",
        "    with torch.no_grad():\n",
        "    \n",
        "        for i, batch in enumerate(validation_iterator):\n",
        "\n",
        "            src = batch.english.to(device)\n",
        "            trg = batch.persian.to(device)\n",
        "\n",
        "\n",
        "\n",
        "            output = model(src, trg[:,:-1])\n",
        "            \n",
        "            #output = [batch size, trg len - 1, output dim]\n",
        "            #trg = [batch size, trg len]\n",
        "            \n",
        "            output_dim = output.shape[-1]\n",
        "            \n",
        "            output = output.contiguous().view(-1, output_dim)\n",
        "            trg = trg[:,1:].contiguous().view(-1)\n",
        "            \n",
        "            #output = [batch size * trg len - 1, output dim]\n",
        "            #trg = [batch size * trg len - 1]\n",
        "            \n",
        "            loss = criterion(output, trg)\n",
        "\n",
        "            epoch_loss += loss.item()\n",
        "        \n",
        "    return epoch_loss / len(iterator)"
      ],
      "execution_count": 29,
      "outputs": []
    },
    {
      "cell_type": "code",
      "metadata": {
        "id": "776bMPR_MfKx"
      },
      "source": [
        "def train(model, train_iterator,validation_iterator, optimizer, criterion, clip):\n",
        "\n",
        "    PATH = '/content/drive/My Drive/Colab Notebooks/DL4_v2.pth'\n",
        "    model.train()\n",
        "    \n",
        "    loss_train = []\n",
        "    loss_val = []\n",
        "\n",
        "    iter_loss = 0\n",
        "    L = len(train_iterator)\n",
        "    flag = False\n",
        "    count_iter = 0\n",
        "\n",
        "    count_iter = 0\n",
        "    for epoch in range(10):\n",
        "        for i, batch in enumerate(train_iterator):\n",
        "            count_iter +=1\n",
        "\n",
        "            src = batch.english.to(device)\n",
        "            trg = batch.persian.to(device)\n",
        "            \n",
        "            optimizer.zero_grad()\n",
        "            \n",
        "            output = model(src, trg[:,:-1]) #except last one\n",
        "                    \n",
        "            #output = [batch size, trg len - 1, output dim]\n",
        "            #trg = [batch size, trg len]\n",
        "                \n",
        "            output_dim = output.shape[-1] #shape akhar\n",
        "                \n",
        "            output = output.contiguous().view(-1, output_dim)\n",
        "            trg = trg[:,1:].contiguous().view(-1)\n",
        "                    \n",
        "            #output = [batch size * trg len - 1, output dim]\n",
        "            #trg = [batch size * trg len - 1]\n",
        "                \n",
        "            loss = criterion(output, trg)\n",
        "            \n",
        "            loss.backward()\n",
        "            \n",
        "            torch.nn.utils.clip_grad_norm_(model.parameters(), clip)\n",
        "            \n",
        "            optimizer.step()\n",
        "            \n",
        "            iter_loss += loss.item()\n",
        "            #iter = epoch*L+i\n",
        "            if  count_iter%500== 0:\n",
        "  \n",
        "              loss_train.append(iter_loss/500)\n",
        "              temp = evaluate(model,validation_iterator,criterion)\n",
        "              loss_val.append(temp)\n",
        "              print(\"epoch:\",epoch+1,\"iteration:\",count_iter ,\"   train loss\" ,iter_loss/500 , \"   validation loss:\",temp)\n",
        "              iter_loss = 0\n",
        "\n",
        "            \n",
        "            if (count_iter) == 30000 :\n",
        "              flag = True\n",
        "              break\n",
        "            else:\n",
        "              continue\n",
        "        if flag == True:\n",
        "          break;\n",
        "              \n",
        "        torch.save(model.state_dict(), PATH)\n",
        "        torch.save({\n",
        "            'epoch': epoch,\n",
        "            'model_state_dict': model.state_dict(),\n",
        "            'optimizer_state_dict': optimizer.state_dict(),\n",
        "            'loss': loss,\n",
        "            }, PATH)\n",
        "    return model ,loss_train,loss_val"
      ],
      "execution_count": 30,
      "outputs": []
    },
    {
      "cell_type": "code",
      "metadata": {
        "id": "FgnriQrMMfRa",
        "colab": {
          "base_uri": "https://localhost:8080/"
        },
        "outputId": "4bd34607-4fcb-4ff4-e5fe-ba55adf0e03a"
      },
      "source": [
        "model , train_loss,val_loss = train(model, train_iterator,validation_iterator, optimizer, criterion, clip=1)"
      ],
      "execution_count": null,
      "outputs": [
        {
          "output_type": "stream",
          "text": [
            "epoch: 1 iteration: 500    train loss 7.116504956245422    validation loss: 6.446265857019157\n",
            "epoch: 1 iteration: 1000    train loss 6.256436658859253    validation loss: 6.0451476997304185\n",
            "epoch: 1 iteration: 1500    train loss 5.936145414352417    validation loss: 5.7831427449377895\n",
            "epoch: 1 iteration: 2000    train loss 5.708330180168152    validation loss: 5.588591148251685\n",
            "epoch: 1 iteration: 2500    train loss 5.53790795135498    validation loss: 5.450668221767818\n",
            "epoch: 1 iteration: 3000    train loss 5.38975368309021    validation loss: 5.3070092022976025\n",
            "epoch: 1 iteration: 3500    train loss 5.266113642692566    validation loss: 5.201215827799289\n",
            "epoch: 1 iteration: 4000    train loss 5.167408588409423    validation loss: 5.088755754221266\n",
            "epoch: 1 iteration: 4500    train loss 5.0684644956588745    validation loss: 5.001639703946693\n",
            "epoch: 1 iteration: 5000    train loss 4.986650184631348    validation loss: 4.926167437740576\n",
            "epoch: 1 iteration: 5500    train loss 4.911217530250549    validation loss: 4.854001604062375\n",
            "epoch: 1 iteration: 6000    train loss 4.845659814834595    validation loss: 4.791567047511306\n",
            "epoch: 1 iteration: 6500    train loss 4.78177400302887    validation loss: 4.7454296165537615\n",
            "epoch: 1 iteration: 7000    train loss 4.729224957466125    validation loss: 4.683976154683906\n",
            "epoch: 1 iteration: 7500    train loss 4.669631434440613    validation loss: 4.643192061308389\n",
            "epoch: 1 iteration: 8000    train loss 4.636149793624878    validation loss: 4.586602670901289\n",
            "epoch: 1 iteration: 8500    train loss 4.586852121353149    validation loss: 4.545628025821436\n",
            "epoch: 1 iteration: 9000    train loss 4.546393363952637    validation loss: 4.528928150194828\n",
            "epoch: 1 iteration: 9500    train loss 4.513555378913879    validation loss: 4.474704176020399\n",
            "epoch: 2 iteration: 10000    train loss 4.45186396408081    validation loss: 4.43431187611874\n",
            "epoch: 2 iteration: 10500    train loss 4.404650925159454    validation loss: 4.40631829823289\n",
            "epoch: 2 iteration: 11000    train loss 4.377531103134155    validation loss: 4.384011699774555\n",
            "epoch: 2 iteration: 11500    train loss 4.336834662437439    validation loss: 4.350334072335858\n",
            "epoch: 2 iteration: 12000    train loss 4.325884677410126    validation loss: 4.330019591679083\n",
            "epoch: 2 iteration: 12500    train loss 4.303686000823975    validation loss: 4.295520739911873\n",
            "epoch: 2 iteration: 13000    train loss 4.270075496673584    validation loss: 4.272823432672804\n",
            "epoch: 2 iteration: 13500    train loss 4.258529445648193    validation loss: 4.251708856921329\n",
            "epoch: 2 iteration: 14000    train loss 4.239287559509277    validation loss: 4.222281569409593\n",
            "epoch: 2 iteration: 14500    train loss 4.212308791160583    validation loss: 4.203316685418102\n",
            "epoch: 2 iteration: 15000    train loss 4.178909331321717    validation loss: 4.18367494066185\n",
            "epoch: 2 iteration: 15500    train loss 4.163729854106903    validation loss: 4.16846046670575\n",
            "epoch: 2 iteration: 16000    train loss 4.140655071258545    validation loss: 4.140636921374598\n",
            "epoch: 2 iteration: 16500    train loss 4.114585959911347    validation loss: 4.129856474377284\n",
            "epoch: 2 iteration: 17000    train loss 4.108972409248352    validation loss: 4.107244357884487\n",
            "epoch: 2 iteration: 17500    train loss 4.105155398845673    validation loss: 4.09084284416983\n",
            "epoch: 2 iteration: 18000    train loss 4.0765013890266415    validation loss: 4.062926820059803\n",
            "epoch: 2 iteration: 18500    train loss 4.059008172512055    validation loss: 4.050907819961833\n",
            "epoch: 2 iteration: 19000    train loss 4.044356091022491    validation loss: 4.033947021047646\n",
            "epoch: 3 iteration: 19500    train loss 3.988612367630005    validation loss: 4.020874009399771\n",
            "epoch: 3 iteration: 20000    train loss 3.963955204963684    validation loss: 4.003442836921906\n",
            "epoch: 3 iteration: 20500    train loss 3.9464571332931517    validation loss: 3.995153647494093\n",
            "epoch: 3 iteration: 21000    train loss 3.9225896339416506    validation loss: 3.98549051485329\n",
            "epoch: 3 iteration: 21500    train loss 3.9189381465911866    validation loss: 3.971874635464677\n",
            "epoch: 3 iteration: 22000    train loss 3.9306424703598024    validation loss: 3.952319613572593\n",
            "epoch: 3 iteration: 22500    train loss 3.9036118288040162    validation loss: 3.9441649655315363\n",
            "epoch: 3 iteration: 23000    train loss 3.892038643836975    validation loss: 3.9271152242321836\n",
            "epoch: 3 iteration: 23500    train loss 3.887972584247589    validation loss: 3.912514463986192\n",
            "epoch: 3 iteration: 24000    train loss 3.8678965649604797    validation loss: 3.901074921527756\n",
            "epoch: 3 iteration: 24500    train loss 3.8643669986724856    validation loss: 3.90114332782888\n",
            "epoch: 3 iteration: 25000    train loss 3.8575988388061524    validation loss: 3.892384017962162\n",
            "epoch: 3 iteration: 25500    train loss 3.845425576210022    validation loss: 3.87313957526305\n",
            "epoch: 3 iteration: 26000    train loss 3.83901349067688    validation loss: 3.858881187438965\n",
            "epoch: 3 iteration: 26500    train loss 3.8148097443580626    validation loss: 3.853483372091133\n",
            "epoch: 3 iteration: 27000    train loss 3.8178640489578246    validation loss: 3.8516492115002925\n",
            "epoch: 3 iteration: 27500    train loss 3.8093827891349794    validation loss: 3.831674192999011\n",
            "epoch: 3 iteration: 28000    train loss 3.8068966155052184    validation loss: 3.8230584594690913\n",
            "epoch: 3 iteration: 28500    train loss 3.798307089328766    validation loss: 3.812063636958042\n",
            "epoch: 4 iteration: 29000    train loss 3.7517711515426635    validation loss: 3.798478108700191\n",
            "epoch: 4 iteration: 29500    train loss 3.6928147888183593    validation loss: 3.788444621763497\n",
            "epoch: 4 iteration: 30000    train loss 3.7017907490730284    validation loss: 3.7829153542206666\n"
          ],
          "name": "stdout"
        }
      ]
    },
    {
      "cell_type": "code",
      "metadata": {
        "colab": {
          "base_uri": "https://localhost:8080/",
          "height": 295
        },
        "id": "XPN1H-7f2X5N",
        "outputId": "d4566654-167e-456b-f13b-0b9623465833"
      },
      "source": [
        "import matplotlib.pyplot as plt\n",
        "plt.plot(train_loss )\n",
        "plt.plot(val_loss)\n",
        "plt.title('Loss functio per Iteration')\n",
        "plt.xlabel('epoch')\n",
        "plt.ylabel('Loss')\n",
        "plt.legend(['train','val']);"
      ],
      "execution_count": 146,
      "outputs": [
        {
          "output_type": "display_data",
          "data": {
            "image/png": "[encoded data removed]",
            "text/plain": [
              "<Figure size 432x288 with 1 Axes>"
            ]
          },
          "metadata": {
            "tags": [],
            "needs_background": "light"
          }
        }
      ]
    },
    {
      "cell_type": "code",
      "metadata": {
        "id": "Gbox8rflIaDp"
      },
      "source": [
        "\"\"\"PATH = '/content/drive/My Drive/Colab Notebooks/DL4_v2.pth'\n",
        "\n",
        "model = Transformer(encoder, decoder, per_pad_idx, eng_pad_idx, device)\n",
        "optimizer = torch.optim.Adam(model.parameters(), lr = LearningRate,betas=(0.9, 0.98), eps=1e-09)\n",
        "\n",
        "checkpoint = torch.load(PATH)\n",
        "model.load_state_dict(checkpoint['model_state_dict'])\n",
        "optimizer.load_state_dict(checkpoint['optimizer_state_dict'])\n",
        "epoch = checkpoint['epoch']\n",
        "loss = checkpoint['loss']\n",
        "\n",
        "model.eval()\n",
        "# - or -\n",
        "model.train()\"\"\""
      ],
      "execution_count": null,
      "outputs": []
    },
    {
      "cell_type": "code",
      "metadata": {
        "id": "TpJeXQ47TGWD"
      },
      "source": [
        "#model.to(device)"
      ],
      "execution_count": null,
      "outputs": []
    },
    {
      "cell_type": "code",
      "metadata": {
        "id": "S82rLNifIagb"
      },
      "source": [
        "def translation(sentence, src_field, trg_field, model, device, max_len = 50):\n",
        "    \n",
        "    model.eval()\n",
        "\n",
        "    tokens = nltk.word_tokenize(sentence.lower())\n",
        "\n",
        "    tokens = [src_field.init_token] + tokens + [src_field.eos_token]\n",
        "        \n",
        "    src_indexes = [src_field.vocab.stoi[token] for token in tokens]\n",
        "\n",
        "    src_tensor = torch.LongTensor(src_indexes).unsqueeze(0).to(device)\n",
        "    \n",
        "    src_mask = model.create_src_padding_mask(src_tensor)\n",
        "       \n",
        "    with torch.no_grad():\n",
        "        enc_src = model.encoder(src_tensor, src_mask)\n",
        "\n",
        "    trg_indexes = [trg_field.vocab.stoi[trg_field.init_token]]\n",
        "    \n",
        "    for i in range(max_len):\n",
        "\n",
        "        trg_tensor = torch.LongTensor(trg_indexes).unsqueeze(0).to(device)\n",
        "      \n",
        "\n",
        "        trg_padding_mask =  model.create_trg_padding_mask(trg_tensor)\n",
        "        trg_mask =   model.create_trg_mask(trg_tensor)\n",
        "\n",
        "        \n",
        "        with torch.no_grad():\n",
        "            output = model.decoder(trg_tensor, enc_src, trg_mask, trg_padding_mask )\n",
        "        \n",
        "        pred_token = output.argmax(2)[:,-1].item()\n",
        "        \n",
        "        trg_indexes.append(pred_token)\n",
        "\n",
        "        if pred_token == trg_field.vocab.stoi[trg_field.eos_token]:\n",
        "            break\n",
        "    \n",
        "    trg_tokens = [trg_field.vocab.itos[i] for i in trg_indexes]\n",
        "    \n",
        "    return trg_tokens[1:]"
      ],
      "execution_count": 33,
      "outputs": []
    },
    {
      "cell_type": "code",
      "metadata": {
        "id": "wm0MIK-kRyb8"
      },
      "source": [
        "example_idx = 65\n",
        "#65, 45 , 154 , 89\n",
        "def view_sentence(example_idx):\n",
        "    src = english_test_text[example_idx]\n",
        "    trg = persian_test_text_0[example_idx]\n",
        "\n",
        "    print('English(source):' ,\"\".join(src[:-1]))\n",
        "    print('persian(target):',\"\".join(trg[:-1]) )\n",
        "    predict = translation(src, english, persian, model, device)\n",
        "    print(\"predict:\" ,\" \".join(predict[:-1]) )"
      ],
      "execution_count": 34,
      "outputs": []
    },
    {
      "cell_type": "code",
      "metadata": {
        "colab": {
          "base_uri": "https://localhost:8080/"
        },
        "id": "OkYnFriNZ99j",
        "outputId": "a61ef95f-bb67-4a02-dcb9-c002a002dbac"
      },
      "source": [
        "a = [1 , 102,107,215,65 ,89 , 156,182,18,51]\n",
        "for i in a:\n",
        "  view_sentence(i)\n",
        "  print(\"\\n\")"
      ],
      "execution_count": 35,
      "outputs": [
        {
          "output_type": "stream",
          "text": [
            "English(source): it is more comfortable by train \n",
            "persian(target): با قطار خیلی راحتتر است \n",
            "predict: این کار با قطار بیشتر از طریق قطار های بیشتری انجام می‌شود .\n",
            "\n",
            "\n",
            "English(source): would you like to do something in the evening \n",
            "persian(target): آیا عصر دوست دارید کاری انجام دهید \n",
            "predict: شما دوست دارید در عصر عصر شما را انجام دهید ?\n",
            "\n",
            "\n",
            "English(source): okay . goodbye \n",
            "persian(target): باشه . خداحافظ \n",
            "predict: خداحافظ . خداحافظ .\n",
            "\n",
            "\n",
            "English(source): yes , I would suggest the flight at a quarter past seven \n",
            "persian(target): بله ، من پرواز ساعت هفت و ربع را پیشنهاد میکنم \n",
            "predict: بله , من پیشنهاد میکنم که در هفت روز گذشته در یک سفر پرواز کنم .\n",
            "\n",
            "\n",
            "English(source): I did not understand that \n",
            "persian(target): من آن را نفهمیدم \n",
            "predict: من این را درک نمی‌کنم .\n",
            "\n",
            "\n",
            "English(source): what is the name of our hotel \n",
            "persian(target): نام هتل ما چیست \n",
            "predict: نام ما چیست ?\n",
            "\n",
            "\n",
            "English(source): yes . is everything okay so far then \n",
            "persian(target): بله . پس تا به حال همه چیز مرتب است \n",
            "predict: بله , پس همه چیز ? بله , همه چیز ?\n",
            "\n",
            "\n",
            "English(source): fine . let us meet at ten o'clock in the morning . should we go by train \n",
            "persian(target): خوب است . اجازه دهید ساعت ده صبح ملاقات کنیم . آیا باید با قطار برویم \n",
            "predict: اجازه بدهید ساعت ده صبح همدیگر را ملاقات کنیم ? اجازه بدهید ساعت ده صبح همدیگر را ملاقات کنیم .\n",
            "\n",
            "\n",
            "English(source): no idea . we will see . it does not matter \n",
            "persian(target): نظری ندارم . یکدیگر را میبینیم . مهم نیست \n",
            "predict: هیچ ایده ای نیست که ما هیچ ایده ای نداریم .\n",
            "\n",
            "\n",
            "English(source): fine , would you like to do something in the evening \n",
            "persian(target): خوب ، آیا دوست داری عصر کاری انجام دهی \n",
            "predict: خوب است , شما دوست دارید برای انجام کاری انجام دهید ?\n",
            "\n",
            "\n"
          ],
          "name": "stdout"
        }
      ]
    },
    {
      "cell_type": "code",
      "metadata": {
        "colab": {
          "base_uri": "https://localhost:8080/"
        },
        "id": "YEqxQQbDSrpF",
        "outputId": "48a9371e-0f5f-4e67-d393-0cbcebd6e41c"
      },
      "source": [
        "\n",
        "a = [1 , 102,107,215,65 ,89 , 156,182,18,51]\n",
        "for i in a:\n",
        "  view_sentence(i)\n",
        "  print(\"\\n\")"
      ],
      "execution_count": null,
      "outputs": [
        {
          "output_type": "stream",
          "text": [
            "English(source): it is more comfortable by train \n",
            "persian(target): با قطار خیلی راحتتر است \n",
            "predict: این کار بیشتر از طریق قطار بیشتر است .\n",
            "\n",
            "\n",
            "English(source): would you like to do something in the evening \n",
            "persian(target): آیا عصر دوست دارید کاری انجام دهید \n",
            "predict: آیا شما در عصر عصر شما را دوست دارید ?\n",
            "\n",
            "\n",
            "English(source): okay . goodbye \n",
            "persian(target): باشه . خداحافظ \n",
            "predict: خداحافظ . خداحافظ .\n",
            "\n",
            "\n",
            "English(source): yes , I would suggest the flight at a quarter past seven \n",
            "persian(target): بله ، من پرواز ساعت هفت و ربع را پیشنهاد میکنم \n",
            "predict: بله , من پیشنهاد میکنم که یک چهارم ساعت هفت را پیشنهاد میکنم .\n",
            "\n",
            "\n",
            "English(source): I did not understand that \n",
            "persian(target): من آن را نفهمیدم \n",
            "predict: من آن را <unk> .\n",
            "\n",
            "\n",
            "English(source): what is the name of our hotel \n",
            "persian(target): نام هتل ما چیست \n",
            "predict: نام ما چیست ?\n",
            "\n",
            "\n",
            "English(source): yes . is everything okay so far then \n",
            "persian(target): بله . پس تا به حال همه چیز مرتب است \n",
            "predict: بله , پس همه چیز خوب است ? بله .\n",
            "\n",
            "\n",
            "English(source): fine . let us meet at ten o'clock in the morning . should we go by train \n",
            "persian(target): خوب است . اجازه دهید ساعت ده صبح ملاقات کنیم . آیا باید با قطار برویم \n",
            "predict: اجازه بدهید ساعت ده صبح را ملاقات کنیم ? آیا ما باید همدیگر را ملاقات کنیم .\n",
            "\n",
            "\n",
            "English(source): no idea . we will see . it does not matter \n",
            "persian(target): نظری ندارم . یکدیگر را میبینیم . مهم نیست \n",
            "predict: هیچ ایده ای نیست . هیچ ایده ای در این باره نیست .\n",
            "\n",
            "\n",
            "English(source): fine , would you like to do something in the evening \n",
            "persian(target): خوب ، آیا دوست داری عصر کاری انجام دهی \n",
            "predict: خوب است , آیا شما در عصر عصر وقت دارید ?\n",
            "\n",
            "\n"
          ],
          "name": "stdout"
        }
      ]
    },
    {
      "cell_type": "code",
      "metadata": {
        "id": "N2B9J_iVmYW2"
      },
      "source": [
        "def make_hypotheses(example_idx):\n",
        "    src = english_test_text[example_idx]\n",
        "    trg = persian_test_text_0[example_idx]\n",
        "\n",
        "    predict = translation(src, english, persian, model, device)\n",
        "    return (predict[:-1])"
      ],
      "execution_count": 36,
      "outputs": []
    },
    {
      "cell_type": "code",
      "metadata": {
        "colab": {
          "base_uri": "https://localhost:8080/"
        },
        "id": "Mu0S2kswmLd8",
        "outputId": "5718cde8-4e14-4cce-8d4b-eb150f6362b2"
      },
      "source": [
        "#import nltk.tranlate.bleu_score import corpus_bleu\n",
        "from nltk.translate.bleu_score import corpus_bleu \n",
        "from nltk.translate.nist_score import corpus_nist\n",
        "\n",
        "bleu_2 = []\n",
        "bleu_3 = []\n",
        "bleu_4 = []\n",
        "nist = []\n",
        "\n",
        "for i in range(len(persian_test_text_0)):\n",
        "  hypotheses = []\n",
        "  refrences = []\n",
        "\n",
        "  hypotheses.append(make_hypotheses(i))\n",
        "  refrences.append(tokenize_persian(persian_test_text_0[i]))\n",
        "  refrences.append(tokenize_persian(persian_test_text_1[i]))\n",
        "  refrences.append(tokenize_persian(persian_test_text_2[i]))\n",
        "  refrences.append(tokenize_persian(persian_test_text_3[i]))\n",
        "  #print(refrences)\n",
        "  weights = (1./5., 1./5., 1./5., 1./5.)\n",
        "  bleu_4.append(corpus_bleu([refrences],hypotheses, weights)) \n",
        "  weights = (1./5., 1./5., 1./5.)\n",
        "  bleu_3.append(corpus_bleu([refrences],hypotheses, weights))\n",
        "  weights = (1./5., 1./5.)\n",
        "  bleu_2.append(corpus_bleu([refrences],hypotheses, weights)) \n",
        "  if i in [5,8,21 , 39 ,46 ,60 , 64 , 69 ,89 ,99 ,107,179,192,216,219,250]:\n",
        "    continue\n",
        "  try :\n",
        "      nist.append(corpus_nist([refrences],hypotheses)) \n",
        "  except  StopIteration:\n",
        "      nist.append(0)\n",
        "\n"
      ],
      "execution_count": 149,
      "outputs": [
        {
          "output_type": "stream",
          "text": [
            "/usr/local/lib/python3.7/dist-packages/nltk/translate/bleu_score.py:503: UserWarning: \n",
            "The hypothesis contains 0 counts of 3-gram overlaps.\n",
            "Therefore the BLEU score evaluates to 0, independently of\n",
            "how many N-gram overlaps of lower order it contains.\n",
            "Consider using lower n-gram order or use SmoothingFunction()\n",
            "  \"\"\"\n",
            "/usr/local/lib/python3.7/dist-packages/nltk/translate/bleu_score.py:503: UserWarning: \n",
            "The hypothesis contains 0 counts of 4-gram overlaps.\n",
            "Therefore the BLEU score evaluates to 0, independently of\n",
            "how many N-gram overlaps of lower order it contains.\n",
            "Consider using lower n-gram order or use SmoothingFunction()\n",
            "  \"\"\"\n",
            "/usr/local/lib/python3.7/dist-packages/nltk/translate/bleu_score.py:503: UserWarning: \n",
            "The hypothesis contains 0 counts of 2-gram overlaps.\n",
            "Therefore the BLEU score evaluates to 0, independently of\n",
            "how many N-gram overlaps of lower order it contains.\n",
            "Consider using lower n-gram order or use SmoothingFunction()\n",
            "  \"\"\"\n"
          ],
          "name": "stderr"
        }
      ]
    },
    {
      "cell_type": "code",
      "metadata": {
        "colab": {
          "base_uri": "https://localhost:8080/"
        },
        "id": "EECp8OM1fdNL",
        "outputId": "cf89be67-ffde-400f-ffea-d176bd9283a9"
      },
      "source": [
        "np.mean(bleu_2)"
      ],
      "execution_count": 152,
      "outputs": [
        {
          "output_type": "execute_result",
          "data": {
            "text/plain": [
              "0.4648135614888572"
            ]
          },
          "metadata": {
            "tags": []
          },
          "execution_count": 152
        }
      ]
    },
    {
      "cell_type": "code",
      "metadata": {
        "colab": {
          "base_uri": "https://localhost:8080/"
        },
        "id": "bvMi2TwhS5Rt",
        "outputId": "49c074c8-3993-45d5-c4cd-b8912dc5cfcd"
      },
      "source": [
        "np.mean(bleu_3)"
      ],
      "execution_count": 150,
      "outputs": [
        {
          "output_type": "execute_result",
          "data": {
            "text/plain": [
              "0.1908536071556049"
            ]
          },
          "metadata": {
            "tags": []
          },
          "execution_count": 150
        }
      ]
    },
    {
      "cell_type": "code",
      "metadata": {
        "colab": {
          "base_uri": "https://localhost:8080/"
        },
        "id": "ZrQriLh1S5hv",
        "outputId": "38ef79f4-318d-40d7-94c4-ebcb6943890a"
      },
      "source": [
        "np.mean(bleu_4)"
      ],
      "execution_count": 151,
      "outputs": [
        {
          "output_type": "execute_result",
          "data": {
            "text/plain": [
              "0.06911333936315932"
            ]
          },
          "metadata": {
            "tags": []
          },
          "execution_count": 151
        }
      ]
    },
    {
      "cell_type": "code",
      "metadata": {
        "colab": {
          "base_uri": "https://localhost:8080/"
        },
        "id": "3DEbqGwXtk2t",
        "outputId": "d7576532-e03f-46da-a643-6a3d61fc6ff4"
      },
      "source": [
        "np.mean(nist)"
      ],
      "execution_count": 153,
      "outputs": [
        {
          "output_type": "execute_result",
          "data": {
            "text/plain": [
              "1.5226754752503875"
            ]
          },
          "metadata": {
            "tags": []
          },
          "execution_count": 153
        }
      ]
    }
  ]
}