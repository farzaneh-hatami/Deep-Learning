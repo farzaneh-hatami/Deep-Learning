{
  "nbformat": 4,
  "nbformat_minor": 0,
  "metadata": {
    "colab": {
      "provenance": [],
      "collapsed_sections": []
    },
    "kernelspec": {
      "name": "python3",
      "display_name": "Python 3"
    },
    "language_info": {
      "name": "python"
    },
    "accelerator": "GPU"
  },
  "cells": [
    {
      "cell_type": "markdown",
      "metadata": {
        "id": "qlfylQt5htgG"
      },
      "source": [
        "# HW3 **Q2**"
      ]
    },
    {
      "cell_type": "code",
      "metadata": {
        "id": "EUO6QSwBqABM"
      },
      "source": [
        "import numpy as np\n",
        "import matplotlib.pyplot as plt\n",
        "import os #loading file path\n",
        "import torch\n",
        "import pandas as pd\n",
        "import spacy #tokenizer\n",
        "from torch.nn.utils.rnn import pad_sequence #pad patch \n",
        "from torch.utils.data import DataLoader,Dataset\n",
        "from torchvision import transforms\n",
        "from nltk import word_tokenize\n",
        "from nltk import word_tokenize\n",
        "import torch.nn as nn\n",
        "import torch.optim as optim\n",
        "from torch.optim import lr_scheduler\n",
        "import time\n",
        "from google.colab import drive\n",
        "import nltk\n",
        "import requests\n",
        "from torch.utils.data.sampler import SubsetRandomSampler\n",
        "from sklearn.metrics import recall_score ,precision_score\n",
        "from sklearn.metrics import f1_score\n",
        "import copy\n",
        "from sklearn.metrics import confusion_matrix"
      ],
      "execution_count": null,
      "outputs": []
    },
    {
      "cell_type": "code",
      "metadata": {
        "colab": {
          "base_uri": "https://localhost:8080/"
        },
        "id": "LLxjIwU1sQHJ",
        "outputId": "a1e25ac2-4180-4c0e-c743-a3cf759c6932"
      },
      "source": [
        "nltk.download('punkt')"
      ],
      "execution_count": null,
      "outputs": [
        {
          "output_type": "stream",
          "text": [
            "[nltk_data] Downloading package punkt to /root/nltk_data...\n",
            "[nltk_data]   Package punkt is already up-to-date!\n"
          ],
          "name": "stdout"
        },
        {
          "output_type": "execute_result",
          "data": {
            "text/plain": [
              "True"
            ]
          },
          "metadata": {
            "tags": []
          },
          "execution_count": 157
        }
      ]
    },
    {
      "cell_type": "code",
      "metadata": {
        "colab": {
          "base_uri": "https://localhost:8080/"
        },
        "id": "QVtZejTvqEx6",
        "outputId": "e0dd5199-55eb-4592-aed4-e6b042f445bd"
      },
      "source": [
        "drive.mount('/content/drive')"
      ],
      "execution_count": null,
      "outputs": [
        {
          "output_type": "stream",
          "text": [
            "Drive already mounted at /content/drive; to attempt to forcibly remount, call drive.mount(\"/content/drive\", force_remount=True).\n"
          ],
          "name": "stdout"
        }
      ]
    },
    {
      "cell_type": "code",
      "metadata": {
        "colab": {
          "base_uri": "https://localhost:8080/"
        },
        "id": "RItEaeS_sDut",
        "outputId": "0ebe2eb5-3224-493b-dc14-76bf0fb38a0a"
      },
      "source": [
        "!ls \"/content/drive/My Drive/colab/DL_3/Q2/\""
      ],
      "execution_count": null,
      "outputs": [
        {
          "output_type": "stream",
          "text": [
            "glove.42B.300d.txt  Q2_V6.ipynb\t\t\tSemEval2010_task8_all_data.zip\n",
            "glove.42B.300d.zip  Q2_V7.ipynb\n",
            "Q2-V2.ipynb\t    SemEval2010_task8_all_data\n"
          ],
          "name": "stdout"
        }
      ]
    },
    {
      "cell_type": "markdown",
      "metadata": {
        "id": "zyz4s-NLiSGJ"
      },
      "source": [
        "# ***download*** and preparing  dataset"
      ]
    },
    {
      "cell_type": "code",
      "metadata": {
        "id": "CuXr3Cd-qEzi"
      },
      "source": [
        "#dwonloadin dataset\n",
        "file_url = \"https://drive.google.com/u/0/uc?id=0B_jQiLugGTAkMDQ5ZjZiMTUtMzQ1Yy00YWNmLWJlZDYtOWY1ZDMwY2U4YjFk&export=download\"\n",
        "r = requests.get(file_url, stream = True)\n",
        "\n",
        "with open(\"/content/drive/My Drive/colab/DL_3/Q2/SemEval2010_task8_all_data.zip\", \"wb\") as file:\n",
        "\tfor block in r.iter_content(chunk_size = 1024):\n",
        "\t\tif block:\n",
        "\t\t\tfile.write(block)\n"
      ],
      "execution_count": null,
      "outputs": []
    },
    {
      "cell_type": "code",
      "metadata": {
        "id": "7S-9gvvgqE10"
      },
      "source": [
        "#unzip dataset to My drive\n",
        "!unzip \"/content/drive/My Drive/colab/DL_3/Q2/SemEval2010_task8_all_data.zip\" -d  \"/content/drive/My Drive/colab/DL_3/Q2/\""
      ],
      "execution_count": null,
      "outputs": []
    },
    {
      "cell_type": "code",
      "metadata": {
        "id": "4wj6BFKhMhkQ",
        "colab": {
          "base_uri": "https://localhost:8080/"
        },
        "outputId": "4fc39e63-6b00-430b-856f-ebbb8662207b"
      },
      "source": [
        "!ls \"/content/drive/My Drive/colab/DL_3/Q2/SemEval2010_task8_all_data/SemEval2010_task8_training\""
      ],
      "execution_count": null,
      "outputs": [
        {
          "output_type": "stream",
          "text": [
            "README.txt\t      Task8_Relation4.pdf  Task8_Relation9.pdf\n",
            "Task8_Guidelines.pdf  Task8_Relation5.pdf  TRAIN_DISTRIB.TXT\n",
            "Task8_Relation1.pdf   Task8_Relation6.pdf  TRAIN_FILE.TXT\n",
            "Task8_Relation2.pdf   Task8_Relation7.pdf  TRAIN_TEST_DISTRIB.TXT\n",
            "Task8_Relation3.pdf   Task8_Relation8.pdf\n"
          ],
          "name": "stdout"
        }
      ]
    },
    {
      "cell_type": "code",
      "metadata": {
        "id": "zdjzOfORqsJl"
      },
      "source": [
        "#dwonload glove to My drive\n",
        "file_url = \"https://nlp.stanford.edu/data/glove.42B.300d.zip\"\n",
        "r = requests.get(file_url, stream = True)\n",
        "\n",
        "with open(\"/content/drive/My Drive/colab/DL_3/Q2/glove.42B.300d.zip\", \"wb\") as file:\n",
        "\tfor block in r.iter_content(chunk_size = 1024):\n",
        "\t\tif block:\n",
        "\t\t\tfile.write(block)\n"
      ],
      "execution_count": null,
      "outputs": []
    },
    {
      "cell_type": "code",
      "metadata": {
        "id": "U3M7T-RMq4Ux"
      },
      "source": [
        "#unzip Glove toMy drive\n",
        "!unzip \"/content/drive/My Drive/colab/DL_3/Q2/glove.42B.300d.zip\" -d  \"/content/drive/My Drive/colab/DL_3/Q2/"
      ],
      "execution_count": null,
      "outputs": []
    },
    {
      "cell_type": "markdown",
      "metadata": {
        "id": "rDpIYy4giroN"
      },
      "source": [
        "# **data** preprocessing\n"
      ]
    },
    {
      "cell_type": "code",
      "metadata": {
        "id": "bXAEzQPvG3HC"
      },
      "source": [
        "#class vocabulary : buids two dictionary of vocab and their indexes + finds entitie's index\n",
        "class Vocabulary:\n",
        "\n",
        "  def __init__(self ):\n",
        "    \n",
        "    self.itos = {0: \"<PAD>\", 1: \"<UNK>\"}\n",
        "    self.stoi = {\"<PAD>\": 0, \"<UNK>\": 1}\n",
        "    \n",
        "\n",
        "  def __len__(self):\n",
        "      return len(self.itos)\n",
        "    \n",
        "\n",
        "  @staticmethod\n",
        "  def tokenizer(text):\n",
        "        return  word_tokenize(text.lower()) #lower case vocabs\n",
        " \n",
        "\n",
        "  def vocab_maker(self ,sentences): #list of words \n",
        "        check_word = {} #checking vocab have been seen or it's new \n",
        "        index = 2\n",
        "\n",
        "\n",
        "        for sentence in sentences: #each sentence in sentence list\n",
        "          for i , word in enumerate(self.tokenizer(sentence)):\n",
        "            \n",
        "                if word in check_word:\n",
        "                    check_word[word] += 1\n",
        "                else :\n",
        "                    check_word[word] = 1\n",
        "\n",
        "                if check_word[word] == 1:\n",
        "                    self.itos[index] = word\n",
        "                    self.stoi[word] = index\n",
        "                    index += 1\n",
        "      \n",
        "\n",
        "  def entities(self, sentences):  #index of entiites\n",
        "        entities = []\n",
        "\n",
        "\n",
        "        for sentence in sentences: #each sentence in sentence list\n",
        "          entitie = []\n",
        "          for i , word in enumerate(self.tokenizer(sentence)):\n",
        "  \n",
        "                if \"e1_start\" in word : #finding index od entities\n",
        "                  entitie.append(self.stoi[word])\n",
        "                elif \"e1_end\" in word :\n",
        "                  entitie.append(self.stoi[word])\n",
        "                elif \"e2_start\" in word :\n",
        "                  entitie.append(self.stoi[word])\n",
        "                elif \"e2_end\" in word :\n",
        "                  entitie.append(self.stoi[word])\n",
        "          entities.append(entitie)\n",
        "        return entities\n",
        "\n",
        "      \n",
        "  def convert_to_num(self , text):  # conver vocabs to number using stoi dictionary\n",
        "\n",
        "        tokenised = self.tokenizer(text)\n",
        "        return [\n",
        "              self.stoi[token] \n",
        "              if token in self.stoi \n",
        "              else self.stoi['<UNK>'] \n",
        "              for token in tokenised \n",
        "        ]"
      ],
      "execution_count": null,
      "outputs": []
    },
    {
      "cell_type": "code",
      "metadata": {
        "id": "Ywqm1yrjFxXX"
      },
      "source": [
        "#dataset : returns three item :1:the setences as vectore 2:labels -> the class number and indexs of start and end of etiites\n",
        "class SemDataset_test(Dataset):\n",
        "\n",
        "  def __init__(self ,root_dir , phase  , dataset,transform = None):\n",
        "      self.label = []\n",
        "      self.sentences = []\n",
        "      self.num = []\n",
        "      #self.sentence_vectore = []\n",
        "      self.root_dir = root_dir\n",
        "      self.entities = []\n",
        "\n",
        "      self.lines = [line.strip() for line in open(root_dir)]\n",
        "      length = len(self.lines)\n",
        "\n",
        "      for idx in range(0,length,4):\n",
        "          self.label.append(self.lines[idx+1].split(\"(\")[0])\n",
        "          self.num.append(self.lines[idx].split('\\t')[0])\n",
        "          sentence = self.lines[idx].split('\\t')[1][1:-1]\n",
        "          sentence = sentence.replace(\"<e1>\", \" E1_START \").replace(\"</e1>\", \" E1_END \") #replacing and use some white spaces\n",
        "          sentence = sentence.replace(\"<e2>\", \" E2_START \").replace(\"</e2>\", \" E2_END \")\n",
        "          self.sentences.append(sentence)\n",
        "\n",
        "\n",
        "      self.vocab = Vocabulary()\n",
        "      self.entities = self.vocab.entities(self.sentences)\n",
        "      self.cton = {\"Cause-Effect\":0, \"Instrument-Agency\":1, \"Product-Producer\":2 , \"Content-Container\":3 , \"Entity-Origin\":4, \"Entity-Destination\":5 , \"Component-Whole\":6 , \"Member-Collection\":7 , \"Message-Topic\":8 , \"Other\":9}\n",
        "      self.ntoc = {0:\"Cause-Effect\", 1:\"Instrument-Agency\", 2:\"Product-Producer\" , 3:\"Content-Container\" , 4:\"Entity-Origin\",5:\"Component-Whole\" , 6:\"Member-Collection\" , 7:\"Message-Topic\" , 8:\"Other\"}\n",
        "\n",
        "  def __len__(self):\n",
        "      return(len(self.label))\n",
        "\n",
        "  def __getitem__(self,idx):\n",
        "\n",
        "      if torch.is_tensor(idx):\n",
        "          idx = idx.tolist()\n",
        "\n",
        "      label = self.label[idx]\n",
        "      \n",
        "      sentence = self.sentences[idx]\n",
        "\n",
        "      sentence_vectore = self.vocab.convert_to_num(sentence)\n",
        "      entities = self.entities[idx]\n",
        "\n",
        "\n",
        "      return torch.tensor(sentence_vectore) , self.cton[label] , entities\n"
      ],
      "execution_count": null,
      "outputs": []
    },
    {
      "cell_type": "code",
      "metadata": {
        "id": "L3g7XDgadwcg"
      },
      "source": [
        "path = \"/content/drive/My Drive/colab/DL_3/Q2/SemEval2010_task8_all_data/SemEval2010_task8_training/TRAIN_FILE.TXT\"\n",
        "test_path = \"/content/drive/My Drive/colab/DL_3/Q2/SemEval2010_task8_all_data/SemEval2010_task8_testing_keys/TEST_FILE_FULL.TXT\"\n",
        "\n",
        "dataset = SemDataset(path , \"train\") #making datasets"
      ],
      "execution_count": null,
      "outputs": []
    },
    {
      "cell_type": "code",
      "metadata": {
        "id": "3ZKVCNY7EWLE"
      },
      "source": [
        "#dataset : returns three item :1:the setences as vectore 2:labels -> the class number and indexs of start and end of etiites\n",
        "#dataset for test data using indexes of trianing data for our vocabulry\n",
        "class SemDataset_test(Dataset):\n",
        "\n",
        "  def __init__(self ,root_dir ,dataset, phase  ,transform = None):\n",
        "      self.label = []\n",
        "      self.sentences = []\n",
        "      self.num = []\n",
        "      #self.sentence_vectore = []\n",
        "      self.root_dir = root_dir\n",
        "      self.entities = []\n",
        "\n",
        "      self.lines = [line.strip() for line in open(root_dir)]\n",
        "      length = len(self.lines)\n",
        "      for idx in range(0,length,4):\n",
        "          self.label.append(self.lines[idx+1].split(\"(\")[0])\n",
        "          self.num.append(self.lines[idx].split('\\t')[0])\n",
        "          sentence = self.lines[idx].split('\\t')[1][1:-1]\n",
        "          sentence = sentence.replace(\"<e1>\", \" E1_START \").replace(\"</e1>\", \" E1_END \") #replacing and use some white spaces\n",
        "          sentence = sentence.replace(\"<e2>\", \" E2_START \").replace(\"</e2>\", \" E2_END \")\n",
        "          self.sentences.append(sentence)\n",
        "\n",
        "\n",
        "      self.vocab = dataset.vocab # access to train vocabulary and their ndexes\n",
        "      self.entities = self.vocab.entities(self.sentences)\n",
        "      self.cton = {\"Cause-Effect\":0, \"Instrument-Agency\":1, \"Product-Producer\":2 , \"Content-Container\":3 , \"Entity-Origin\":4, \"Entity-Destination\":5 , \"Component-Whole\":6 , \"Member-Collection\":7 , \"Message-Topic\":8 , \"Other\":9}\n",
        "      self.ntoc = {0:\"Cause-Effect\", 1:\"Instrument-Agency\", 2:\"Product-Producer\" , 3:\"Content-Container\" , 4:\"Entity-Origin\",5:\"Component-Whole\" , 6:\"Member-Collection\" , 7:\"Message-Topic\" , 8:\"Other\"}\n",
        "\n",
        "  def __len__(self):\n",
        "      return(len(self.label))\n",
        "\n",
        "  def __getitem__(self,idx):\n",
        "\n",
        "      if torch.is_tensor(idx):\n",
        "          idx = idx.tolist()\n",
        "\n",
        "      label = self.label[idx]\n",
        "      \n",
        "      sentence = self.sentences[idx]\n",
        "\n",
        "      sentence_vectore = self.vocab.convert_to_num(sentence)\n",
        "      entities = self.entities[idx]\n",
        "\n",
        "\n",
        "      return torch.tensor(sentence_vectore) , self.cton[label] , entities"
      ],
      "execution_count": null,
      "outputs": []
    },
    {
      "cell_type": "code",
      "metadata": {
        "id": "ZcQ9Yg4EWWtF"
      },
      "source": [
        "test_dataset = SemDataset_test(test_path ,dataset,\"test\")"
      ],
      "execution_count": null,
      "outputs": []
    },
    {
      "cell_type": "code",
      "metadata": {
        "id": "kSVOrFXr7j4k"
      },
      "source": [
        "#class for padding sentences , every sentences in a batch have same lenght as largest sentence\n",
        "class Collate_fn:\n",
        "\n",
        "    def __init__(self , idx , batch_first):\n",
        "\n",
        "        self.idx = idx\n",
        "        self.batch_first = batch_first\n",
        "    def __call__(self,batch):\n",
        "\n",
        "        sentence = [item[0] for item in batch]\n",
        "        sentence = pad_sequence(sentence , padding_value=self.idx , batch_first = self.batch_first ) #usin pas_sequence for padding\n",
        "\n",
        "        \n",
        "        label = [item[1] for item in batch]\n",
        "        entities = [item[2] for item in batch]\n",
        "        \n",
        "\n",
        "        return sentence,torch.tensor(label),torch.tensor(entities)"
      ],
      "execution_count": null,
      "outputs": []
    },
    {
      "cell_type": "code",
      "metadata": {
        "id": "KksBAyuP-9bI"
      },
      "source": [
        "# Creating data indices for training and validation splits:  code from internet\n",
        "#https://stackoverflow.com/questions/50544730/how-do-i-split-a-custom-dataset-into-training-and-test-datasets/50544887#50544887\n",
        "val_split = 0.1\n",
        "shuffle_dataset = True\n",
        "\n",
        "dataset_size = len(dataset)\n",
        "indices = list(range(dataset_size))\n",
        "split = int(np.floor(val_split * dataset_size))\n",
        "if shuffle_dataset :\n",
        "    np.random.seed(42)\n",
        "    np.random.shuffle(indices)\n",
        "train_indices, val_indices = indices[split:], indices[:split]\n",
        "\n",
        "# Creating PT data samplers and loaders:\n",
        "train_sampler = SubsetRandomSampler(train_indices)\n",
        "val_sampler = SubsetRandomSampler(val_indices)\n"
      ],
      "execution_count": null,
      "outputs": []
    },
    {
      "cell_type": "markdown",
      "metadata": {
        "id": "N27egZKNlsya"
      },
      "source": [
        "Dataloaders"
      ]
    },
    {
      "cell_type": "code",
      "metadata": {
        "id": "t25mhIBm7j60",
        "colab": {
          "base_uri": "https://localhost:8080/"
        },
        "outputId": "9b94bdae-6eb0-4753-dedc-0e29359ce1ac"
      },
      "source": [
        "#usin dictionary for train and validation dataloadeer .\n",
        "dataloaders = {\"train\": DataLoader(dataset, \n",
        "                        batch_size = 128,\n",
        "                        sampler=train_sampler, #split data\n",
        "                        #shuffle = True, \n",
        "                        num_workers = 4,\n",
        "                        pin_memory = True,\n",
        "                        collate_fn = Collate_fn(idx=dataset.vocab.stoi[\"<PAD>\"],batch_first=True),\n",
        "                      ),\n",
        "                \"val\": DataLoader(dataset, \n",
        "                        batch_size = 64,\n",
        "                        sampler=val_sampler,\n",
        "                        #shuffle = True, \n",
        "                        num_workers = 4,\n",
        "                        pin_memory = True,\n",
        "                        collate_fn = Collate_fn(idx=dataset.vocab.stoi[\"<PAD>\"],batch_first=True),\n",
        "                        )\n",
        "                        }\n",
        "\n",
        "test_loader = DataLoader(test_dataset, \n",
        "                        batch_size = 64,\n",
        "                        #shuffle = True, \n",
        "                        num_workers = 4,\n",
        "                        collate_fn = Collate_fn(idx=test_dataset.vocab.stoi[\"<PAD>\"],batch_first=True),\n",
        "                        )"
      ],
      "execution_count": null,
      "outputs": [
        {
          "output_type": "stream",
          "text": [
            "/usr/local/lib/python3.7/dist-packages/torch/utils/data/dataloader.py:477: UserWarning: This DataLoader will create 4 worker processes in total. Our suggested max number of worker in current system is 2, which is smaller than what this DataLoader is going to create. Please be aware that excessive worker creation might get DataLoader running slow or even freeze, lower the worker number to avoid potential slowness/freeze if necessary.\n",
            "  cpuset_checked))\n"
          ],
          "name": "stderr"
        }
      ]
    },
    {
      "cell_type": "markdown",
      "metadata": {
        "id": "Q5xjUHorFkZM"
      },
      "source": [
        "# **Network**"
      ]
    },
    {
      "cell_type": "markdown",
      "metadata": {
        "id": "2YlLOOCJmMb5"
      },
      "source": [
        "# First Part : finetuning and random initialization for embedding matrix"
      ]
    },
    {
      "cell_type": "code",
      "metadata": {
        "id": "JYtpQ_aniQMg",
        "colab": {
          "base_uri": "https://localhost:8080/"
        },
        "outputId": "868eb0b5-4412-42b8-ac2a-84780b00a30d"
      },
      "source": [
        "# random initialization \n",
        "vocab_size = len(dataset.vocab)\n",
        "embed_size = 100\n",
        "embedding_matrix = np.random.randn(vocab_size,embed_size)\n",
        "embedding_matrix.shape"
      ],
      "execution_count": null,
      "outputs": [
        {
          "output_type": "execute_result",
          "data": {
            "text/plain": [
              "(18629, 100)"
            ]
          },
          "metadata": {
            "tags": []
          },
          "execution_count": 90
        }
      ]
    },
    {
      "cell_type": "code",
      "metadata": {
        "id": "SZ9StO_H7j8z"
      },
      "source": [
        "class Network(nn.Module):\n",
        "\n",
        "    def __init__(self , vocab_size , embed_size , hidden_size , num_layers=2 , weight = False): #weight for fintuning or fixed the gradiant(boolean)\n",
        "      super(Network , self).__init__()\n",
        "    \n",
        "      self.embedding = nn.Embedding(vocab_size , embed_size)\n",
        "      self.embedding.weight = nn.Parameter(torch.tensor(embedding_matrix, dtype=torch.float32))\n",
        "      self.embedding.weight.requires_grad = weight\n",
        "      self.lstm = nn.LSTM(embed_size , hidden_size , num_layers = num_layers , batch_first = True, bidirectional = True)\n",
        "      self.linear =nn.Linear(hidden_size*2,10)\n",
        "      self.softmax = nn.LogSoftmax(dim=1)\n",
        "\n",
        "    def forward(self ,x):\n",
        "      x = self.embedding(x) \n",
        "      #print(\"embedding\",x.shape)\n",
        "      packed_output , (hidden,cell) = self.lstm(x)\n",
        "      #print(\"packed_out\",)\n",
        "      #print(\"lstm hidden\",hidden.shape)\n",
        "      cat = torch.cat((hidden[-2, :, :], hidden[-1, :, :]), dim=1)\n",
        "      #print(\"cat\",cat.shape)\n",
        "      x = self.linear(cat)\n",
        "      #print(\"linear\",x.shape)\n",
        "      output = self.softmax(x)\n",
        "      #print(\"ouutput\",output.shape)\n",
        "      return output"
      ],
      "execution_count": null,
      "outputs": []
    },
    {
      "cell_type": "code",
      "metadata": {
        "id": "J8AZh2X17j_k",
        "colab": {
          "base_uri": "https://localhost:8080/"
        },
        "outputId": "80264dbf-cf0c-4565-8e09-2220a0bf99e9"
      },
      "source": [
        "device = torch.device(\"cuda\" if torch.cuda.is_available() else \"cpu\")\n",
        "device"
      ],
      "execution_count": null,
      "outputs": [
        {
          "output_type": "execute_result",
          "data": {
            "text/plain": [
              "device(type='cuda')"
            ]
          },
          "metadata": {
            "tags": []
          },
          "execution_count": 166
        }
      ]
    },
    {
      "cell_type": "code",
      "metadata": {
        "id": "oxtnppFI7kDJ"
      },
      "source": [
        "embed_size = 100\n",
        "hidden_size = 150\n",
        "vocab_size = len(dataset.vocab)\n",
        "num_layers = 2\n",
        "learning_rate = 1e-4"
      ],
      "execution_count": null,
      "outputs": []
    },
    {
      "cell_type": "code",
      "metadata": {
        "id": "PjJZV6fbqBO1"
      },
      "source": [
        "model = Network(vocab_size, embed_size, hidden_size,  num_layers, weight=True).to(device)\n",
        "model.to(device)\n",
        "criterion = nn.NLLLoss(ignore_index=dataset.vocab.stoi[\"<PAD>\"])\n",
        "optimizer = optim.Adam(model.parameters(), lr=learning_rate)\n",
        "#scheduler = lr_scheduler.StepLR(optimizer, step_size=7, gamma=0.1)"
      ],
      "execution_count": null,
      "outputs": []
    },
    {
      "cell_type": "code",
      "metadata": {
        "id": "lZxHQvDqFnJN"
      },
      "source": [
        "#accuracy function \n",
        "def accuracy(outputs_acc,labels):\n",
        "\n",
        "    total =len(labels)\n",
        "    return ((total-torch.count_nonzero(torch.subtract(labels,outputs_acc)))/total)\n"
      ],
      "execution_count": null,
      "outputs": []
    },
    {
      "cell_type": "code",
      "metadata": {
        "id": "3DjFBzsWKyz-"
      },
      "source": [
        "def train_model(model, criterion, optimizer, scheduler, num_epochs=100):\n",
        "    since = time.time()\n",
        "    best_model_wts = copy.deepcopy(model.state_dict())\n",
        "\n",
        "    loss_train = []\n",
        "    loss_val = []\n",
        "    acc_train = []\n",
        "    acc_val = []\n",
        "\n",
        "    for epoch in range(num_epochs):\n",
        "        print('Epoch {}/{}'.format(epoch, num_epochs - 1))\n",
        "        print('-' * 10)\n",
        "\n",
        "        # Each epoch has a training and validation phase\n",
        "        for phase in ['train', 'val']:\n",
        "            if phase == 'train':\n",
        "                model.train()  # Set model to training mode\n",
        "            else:\n",
        "                model.eval()   # Set model to evaluate mode\n",
        "\n",
        "            running_loss = 0.0\n",
        "            running_acc = 0.0\n",
        "\n",
        "            # Iterate over data.\n",
        "            for i, (sentences,labels,entities)  in enumerate(iter(dataloaders[phase])):\n",
        "                sentences = sentences.to(device)\n",
        "                labels = labels.to(device)\n",
        "\n",
        "                # zero the parameter gradients\n",
        "                optimizer.zero_grad()\n",
        "\n",
        "                # forward\n",
        "                # track history if only in train\n",
        "                with torch.set_grad_enabled(phase == 'train'):\n",
        "                    outputs = model(sentences)\n",
        "                    #print(outputs.shape)\n",
        "                    outputs_acc = torch.argmax(outputs,dim=1)\n",
        "                    # Calculate the batch loss.\n",
        "                    loss = criterion(outputs,labels)\n",
        "                    acc = accuracy(labels,outputs_acc)\n",
        "\n",
        "\n",
        "\n",
        "                    # backward + optimize only if in training phase\n",
        "                    if phase == 'train':\n",
        "                        loss.backward()\n",
        "                        optimizer.step()\n",
        "\n",
        "                # statistics\n",
        "                running_loss += loss.item() \n",
        "                running_acc += acc.item()\n",
        "            if phase == 'train':\n",
        "                #scheduler.step()\n",
        "                print(\"LR:{}\".format(optimizer.param_groups[0]['lr']))\n",
        "            \n",
        "            epoch_loss = running_loss / i\n",
        "            epoch_acc = running_acc / i\n",
        "            if phase==\"train\":\n",
        "              loss_train.append(epoch_loss)\n",
        "              acc_train.append(epoch_acc)\n",
        "            else:\n",
        "              loss_val.append(epoch_loss)\n",
        "              acc_val.append(epoch_acc)\n",
        "\n",
        "            print('{} Loss: {:.4f} Acc: {:.4f}'.format(\n",
        "                phase, epoch_loss, epoch_acc))\n",
        "            \n",
        "            if phase == 'val' :\n",
        "                best_model_wts = copy.deepcopy(model.state_dict())\n",
        "\n",
        "    #calculatin time\n",
        "    time_elapsed = time.time() - since\n",
        "    print('Training complete in {:.0f}m {:.0f}s'.format(\n",
        "        time_elapsed // 60, time_elapsed % 60))\n",
        "    \n",
        "    model.load_state_dict(best_model_wts)\n",
        "\n",
        "    return model ,loss_train,loss_val,acc_train,acc_val "
      ],
      "execution_count": null,
      "outputs": []
    },
    {
      "cell_type": "code",
      "metadata": {
        "colab": {
          "base_uri": "https://localhost:8080/"
        },
        "id": "yt1pz0GPWci4",
        "outputId": "85bd5c0c-2286-47e8-ccf2-d0493f13bd28"
      },
      "source": [
        "model_a , loss_train_a , loss_val_a , acc_train_a , acc_val_a = train_model(model, criterion, optimizer, scheduler,\n",
        "                       num_epochs=25)"
      ],
      "execution_count": null,
      "outputs": [
        {
          "output_type": "stream",
          "text": [
            "Epoch 0/24\n",
            "----------\n"
          ],
          "name": "stdout"
        },
        {
          "output_type": "stream",
          "text": [
            "/usr/local/lib/python3.7/dist-packages/torch/utils/data/dataloader.py:477: UserWarning: This DataLoader will create 4 worker processes in total. Our suggested max number of worker in current system is 2, which is smaller than what this DataLoader is going to create. Please be aware that excessive worker creation might get DataLoader running slow or even freeze, lower the worker number to avoid potential slowness/freeze if necessary.\n",
            "  cpuset_checked))\n"
          ],
          "name": "stderr"
        },
        {
          "output_type": "stream",
          "text": [
            "LR:0.0001\n",
            "train Loss: 2.2751 Acc: 0.1596\n",
            "val Loss: 2.3727 Acc: 0.1836\n",
            "Epoch 1/24\n",
            "----------\n",
            "LR:0.0001\n",
            "train Loss: 2.2080 Acc: 0.1630\n",
            "val Loss: 2.3389 Acc: 0.1721\n",
            "Epoch 2/24\n",
            "----------\n",
            "LR:0.0001\n",
            "train Loss: 2.1681 Acc: 0.1679\n",
            "val Loss: 2.2121 Acc: 0.2291\n",
            "Epoch 3/24\n",
            "----------\n",
            "LR:0.0001\n",
            "train Loss: 1.9637 Acc: 0.2729\n",
            "val Loss: 1.9584 Acc: 0.3557\n",
            "Epoch 4/24\n",
            "----------\n",
            "LR:0.0001\n",
            "train Loss: 1.7537 Acc: 0.3363\n",
            "val Loss: 1.7961 Acc: 0.4026\n",
            "Epoch 5/24\n",
            "----------\n",
            "LR:0.0001\n",
            "train Loss: 1.5927 Acc: 0.3907\n",
            "val Loss: 1.6458 Acc: 0.4436\n",
            "Epoch 6/24\n",
            "----------\n",
            "LR:0.0001\n",
            "train Loss: 1.4534 Acc: 0.4452\n",
            "val Loss: 1.5442 Acc: 0.4864\n",
            "Epoch 7/24\n",
            "----------\n",
            "LR:0.0001\n",
            "train Loss: 1.3587 Acc: 0.4758\n",
            "val Loss: 1.4373 Acc: 0.5148\n",
            "Epoch 8/24\n",
            "----------\n",
            "LR:0.0001\n",
            "train Loss: 1.2801 Acc: 0.5125\n",
            "val Loss: 1.3963 Acc: 0.5377\n",
            "Epoch 9/24\n",
            "----------\n",
            "LR:0.0001\n",
            "train Loss: 1.2175 Acc: 0.5278\n",
            "val Loss: 1.5235 Acc: 0.4858\n",
            "Epoch 10/24\n",
            "----------\n",
            "LR:0.0001\n",
            "train Loss: 1.1483 Acc: 0.5565\n",
            "val Loss: 1.3783 Acc: 0.5446\n",
            "Epoch 11/24\n",
            "----------\n",
            "LR:0.0001\n",
            "train Loss: 1.0993 Acc: 0.5710\n",
            "val Loss: 1.2993 Acc: 0.5619\n",
            "Epoch 12/24\n",
            "----------\n",
            "LR:0.0001\n",
            "train Loss: 1.0504 Acc: 0.5838\n",
            "val Loss: 1.3091 Acc: 0.5619\n",
            "Epoch 13/24\n",
            "----------\n",
            "LR:0.0001\n",
            "train Loss: 1.0059 Acc: 0.5970\n",
            "val Loss: 1.2990 Acc: 0.5804\n",
            "Epoch 14/24\n",
            "----------\n",
            "LR:0.0001\n",
            "train Loss: 0.9639 Acc: 0.6082\n",
            "val Loss: 1.3300 Acc: 0.5804\n",
            "Epoch 15/24\n",
            "----------\n",
            "LR:0.0001\n",
            "train Loss: 0.9227 Acc: 0.6272\n",
            "val Loss: 1.3031 Acc: 0.5773\n",
            "Epoch 16/24\n",
            "----------\n",
            "LR:0.0001\n",
            "train Loss: 0.8831 Acc: 0.6350\n",
            "val Loss: 1.3053 Acc: 0.5515\n",
            "Epoch 17/24\n",
            "----------\n",
            "LR:0.0001\n",
            "train Loss: 0.8483 Acc: 0.6480\n",
            "val Loss: 1.3347 Acc: 0.5499\n",
            "Epoch 18/24\n",
            "----------\n",
            "LR:0.0001\n",
            "train Loss: 0.8063 Acc: 0.6618\n",
            "val Loss: 1.2728 Acc: 0.5704\n",
            "Epoch 19/24\n",
            "----------\n",
            "LR:0.0001\n",
            "train Loss: 0.7790 Acc: 0.6677\n",
            "val Loss: 1.2554 Acc: 0.5919\n",
            "Epoch 20/24\n",
            "----------\n",
            "LR:0.0001\n",
            "train Loss: 0.7305 Acc: 0.6863\n",
            "val Loss: 1.3106 Acc: 0.5862\n",
            "Epoch 21/24\n",
            "----------\n",
            "LR:0.0001\n",
            "train Loss: 0.7020 Acc: 0.6957\n",
            "val Loss: 1.3331 Acc: 0.5414\n",
            "Epoch 22/24\n",
            "----------\n",
            "LR:0.0001\n",
            "train Loss: 0.6633 Acc: 0.7085\n",
            "val Loss: 1.3222 Acc: 0.5528\n",
            "Epoch 23/24\n",
            "----------\n",
            "LR:0.0001\n",
            "train Loss: 0.6213 Acc: 0.7260\n",
            "val Loss: 1.2286 Acc: 0.6004\n",
            "Epoch 24/24\n",
            "----------\n",
            "LR:0.0001\n",
            "train Loss: 0.5907 Acc: 0.7366\n",
            "val Loss: 1.3204 Acc: 0.5718\n",
            "Training complete in 1m 42s\n"
          ],
          "name": "stdout"
        }
      ]
    },
    {
      "cell_type": "code",
      "metadata": {
        "colab": {
          "base_uri": "https://localhost:8080/",
          "height": 295
        },
        "id": "TA2tG4PEh8CA",
        "outputId": "7b3fac47-6cbc-4121-982c-faa88b6aa64a"
      },
      "source": [
        "#plt.plot(loss_train)\n",
        "plt.plot(acc_train_a)\n",
        "plt.plot(acc_val_a)\n",
        "plt.title('accuracy with random initialization for embedding matrix')\n",
        "plt.xlabel('Epoch')\n",
        "plt.ylabel('Accuracy')\n",
        "plt.legend(['train','val']);"
      ],
      "execution_count": null,
      "outputs": [
        {
          "output_type": "display_data",
          "data": {
            "image/png": "[encoded data removed]",
            "text/plain": [
              "<Figure size 432x288 with 1 Axes>"
            ]
          },
          "metadata": {
            "tags": [],
            "needs_background": "light"
          }
        }
      ]
    },
    {
      "cell_type": "code",
      "metadata": {
        "colab": {
          "base_uri": "https://localhost:8080/",
          "height": 295
        },
        "id": "lAGgGsKzj2rt",
        "outputId": "132d152b-926c-46ef-d08e-b91413830200"
      },
      "source": [
        "#plt.plot(loss_train)\n",
        "plt.plot(loss_train_a)\n",
        "plt.plot(loss_val_a)\n",
        "plt.title('loss with random initialization for embedding matrix')\n",
        "plt.xlabel('Epoch')\n",
        "plt.ylabel('Loss')\n",
        "plt.legend(['train','val']);"
      ],
      "execution_count": null,
      "outputs": [
        {
          "output_type": "display_data",
          "data": {
            "image/png": "[encoded data removed]",
            "text/plain": [
              "<Figure size 432x288 with 1 Axes>"
            ]
          },
          "metadata": {
            "tags": [],
            "needs_background": "light"
          }
        }
      ]
    },
    {
      "cell_type": "code",
      "metadata": {
        "id": "xSmQ3mbCHMXM"
      },
      "source": [
        "def visualize_model(model):\n",
        "    y_true = []\n",
        "    y_pred = []\n",
        "    running_acc = 0.0\n",
        "    #with torch.no_grad():\n",
        "    for i, (sentences,labels,entities)  in enumerate(iter(test_loader)):\n",
        "            sentences = sentences.to(device)\n",
        "            labels = labels.to(device)\n",
        "\n",
        "            outputs = model(sentences)\n",
        "            outputs_acc = torch.argmax(outputs,dim=1)\n",
        "            acc = accuracy(labels,outputs_acc)\n",
        "            running_acc += acc.item()\n",
        "            for out in outputs_acc:\n",
        "              y_pred.append(out.tolist())    \n",
        "            for true in labels:\n",
        "              y_true.append(true.tolist())\n",
        "\n",
        "\n",
        "    acc = running_acc / i\n",
        "    print(\"test accuray : \",acc)\n",
        "    recall = recall_score(y_true, y_pred, average='macro')\n",
        "    print(\"Recall: \" , recall)\n",
        "    precision = precision_score(y_true, y_pred, average='macro')\n",
        "    print(\"Precision: \" , precision)\n",
        "    f1 = f1_score(y_true, y_pred, average='macro')\n",
        "    print(\"f1_score: \" , f1)\n"
      ],
      "execution_count": null,
      "outputs": []
    },
    {
      "cell_type": "code",
      "metadata": {
        "colab": {
          "base_uri": "https://localhost:8080/"
        },
        "id": "5G1Wdwy23HXu",
        "outputId": "d730009f-30c8-41e9-aa3a-a1d4cd10aa23"
      },
      "source": [
        "visualize_model(model_a)"
      ],
      "execution_count": null,
      "outputs": [
        {
          "output_type": "stream",
          "text": [
            "/usr/local/lib/python3.7/dist-packages/torch/utils/data/dataloader.py:477: UserWarning: This DataLoader will create 4 worker processes in total. Our suggested max number of worker in current system is 2, which is smaller than what this DataLoader is going to create. Please be aware that excessive worker creation might get DataLoader running slow or even freeze, lower the worker number to avoid potential slowness/freeze if necessary.\n",
            "  cpuset_checked))\n"
          ],
          "name": "stderr"
        },
        {
          "output_type": "stream",
          "text": [
            "test accuray :  0.5334436574152538\n",
            "Recall:  0.5527726377931879\n",
            "Precision:  0.5002285835522281\n",
            "f1_score:  0.5226583279503862\n"
          ],
          "name": "stdout"
        },
        {
          "output_type": "stream",
          "text": [
            "/usr/local/lib/python3.7/dist-packages/sklearn/metrics/_classification.py:1272: UndefinedMetricWarning: Precision is ill-defined and being set to 0.0 in labels with no predicted samples. Use `zero_division` parameter to control this behavior.\n",
            "  _warn_prf(average, modifier, msg_start, len(result))\n"
          ],
          "name": "stderr"
        }
      ]
    },
    {
      "cell_type": "markdown",
      "metadata": {
        "id": "Kcdr1btbyELi"
      },
      "source": [
        "# **second** **part** :fix feature extractore and using glove for embedding matrix"
      ]
    },
    {
      "cell_type": "code",
      "metadata": {
        "id": "mnQfrHPYrkJr"
      },
      "source": [
        "#//www.kaggle.com/gmhost/gru-capsule\n",
        "max_features = len(dataset.vocab)\n",
        "def load_glove(word_index):\n",
        "    EMBEDDING_FILE = '/content/drive/My Drive/colab/DL_3/Q2/glove.42B.300d.txt'\n",
        "    def get_coefs(word,*arr): return word, np.asarray(arr, dtype='float32')[:100]\n",
        "    embeddings_index = dict(get_coefs(*o.split(\" \")) for o in open(EMBEDDING_FILE))\n",
        "    \n",
        "    all_embs = np.stack(embeddings_index.values())\n",
        "    emb_mean,emb_std = -0.005838499,0.48782197\n",
        "    embed_size = all_embs.shape[1]\n",
        "\n",
        "    nb_words = min(max_features, len(word_index)+1)\n",
        "    embedding_matrix = np.random.normal(emb_mean, emb_std, (nb_words, embed_size))\n",
        "    for i, word in enumerate(word_index):\n",
        "        if i >= max_features: continue\n",
        "        embedding_vector = embeddings_index.get(word)\n",
        "        if embedding_vector is not None: \n",
        "            embedding_matrix[i] = embedding_vector\n",
        "        else:\n",
        "            embedding_vector = embeddings_index.get(word.capitalize())\n",
        "            if embedding_vector is not None: \n",
        "                embedding_matrix[i] = embedding_vector\n",
        "    return embedding_matrix"
      ],
      "execution_count": null,
      "outputs": []
    },
    {
      "cell_type": "code",
      "metadata": {
        "colab": {
          "base_uri": "https://localhost:8080/"
        },
        "id": "Mzifik6uZZq3",
        "outputId": "d3933512-75b0-483e-8d41-ef88c9b5b0cb"
      },
      "source": [
        "embedding_matrix = load_glove(dataset.vocab.stoi)"
      ],
      "execution_count": null,
      "outputs": [
        {
          "output_type": "stream",
          "text": [
            "/usr/local/lib/python3.7/dist-packages/IPython/core/interactiveshell.py:2882: FutureWarning: arrays to stack must be passed as a \"sequence\" type such as list or tuple. Support for non-sequence iterables such as generators is deprecated as of NumPy 1.16 and will raise an error in the future.\n",
            "  exec(code_obj, self.user_global_ns, self.user_ns)\n"
          ],
          "name": "stderr"
        }
      ]
    },
    {
      "cell_type": "code",
      "metadata": {
        "colab": {
          "base_uri": "https://localhost:8080/"
        },
        "id": "Xws1Rkk7fjnN",
        "outputId": "dd34fe97-3ae6-45f5-b25a-8f06141c6399"
      },
      "source": [
        "device = torch.device(\"cuda\" if torch.cuda.is_available() else \"cpu\")\n",
        "device"
      ],
      "execution_count": null,
      "outputs": [
        {
          "output_type": "execute_result",
          "data": {
            "text/plain": [
              "device(type='cuda')"
            ]
          },
          "metadata": {
            "tags": []
          },
          "execution_count": 164
        }
      ]
    },
    {
      "cell_type": "code",
      "metadata": {
        "id": "Jvvud1SPhLls"
      },
      "source": [
        "embed_size = 100\n",
        "hidden_size = 150\n",
        "vocab_size = len(dataset.vocab)\n",
        "num_layers = 2\n",
        "learning_rate = 1e-4"
      ],
      "execution_count": null,
      "outputs": []
    },
    {
      "cell_type": "code",
      "metadata": {
        "id": "uVJlWE1ZhSXw"
      },
      "source": [
        "model = Network(vocab_size, embed_size, hidden_size,  num_layers , weight = False)\n",
        "model.to(device)\n",
        "criterion = nn.NLLLoss(ignore_index=dataset.vocab.stoi[\"<PAD>\"])\n",
        "optimizer = optim.Adam(model.parameters(), lr=learning_rate)\n",
        "#scheduler = lr_scheduler.StepLR(optimizer, step_size=7, gamma=0.1)"
      ],
      "execution_count": null,
      "outputs": []
    },
    {
      "cell_type": "code",
      "metadata": {
        "colab": {
          "base_uri": "https://localhost:8080/"
        },
        "id": "KXf3vk8GhbHP",
        "outputId": "02be342a-3a49-4c8b-cf38-9ee0aeafd095"
      },
      "source": [
        "model_b , loss_train_b , loss_val_b , acc_train_b , acc_val_b = train_model(model, criterion, optimizer, scheduler,\n",
        "                       num_epochs=25)"
      ],
      "execution_count": null,
      "outputs": [
        {
          "output_type": "stream",
          "text": [
            "Epoch 0/24\n",
            "----------\n"
          ],
          "name": "stdout"
        },
        {
          "output_type": "stream",
          "text": [
            "/usr/local/lib/python3.7/dist-packages/torch/utils/data/dataloader.py:477: UserWarning: This DataLoader will create 4 worker processes in total. Our suggested max number of worker in current system is 2, which is smaller than what this DataLoader is going to create. Please be aware that excessive worker creation might get DataLoader running slow or even freeze, lower the worker number to avoid potential slowness/freeze if necessary.\n",
            "  cpuset_checked))\n"
          ],
          "name": "stderr"
        },
        {
          "output_type": "stream",
          "text": [
            "LR:0.0001\n",
            "train Loss: 2.2819 Acc: 0.1456\n",
            "val Loss: 2.3796 Acc: 0.1605\n",
            "Epoch 1/24\n",
            "----------\n",
            "LR:0.0001\n",
            "train Loss: 2.2034 Acc: 0.1638\n",
            "val Loss: 2.3257 Acc: 0.1879\n",
            "Epoch 2/24\n",
            "----------\n",
            "LR:0.0001\n",
            "train Loss: 2.1331 Acc: 0.1904\n",
            "val Loss: 2.2425 Acc: 0.2376\n",
            "Epoch 3/24\n",
            "----------\n",
            "LR:0.0001\n",
            "train Loss: 2.0148 Acc: 0.2414\n",
            "val Loss: 2.0773 Acc: 0.3115\n",
            "Epoch 4/24\n",
            "----------\n",
            "LR:0.0001\n",
            "train Loss: 1.8521 Acc: 0.3148\n",
            "val Loss: 1.8924 Acc: 0.3744\n",
            "Epoch 5/24\n",
            "----------\n",
            "LR:0.0001\n",
            "train Loss: 1.7327 Acc: 0.3500\n",
            "val Loss: 1.7937 Acc: 0.4282\n",
            "Epoch 6/24\n",
            "----------\n",
            "LR:0.0001\n",
            "train Loss: 1.6363 Acc: 0.3856\n",
            "val Loss: 1.7397 Acc: 0.4407\n",
            "Epoch 7/24\n",
            "----------\n",
            "LR:0.0001\n",
            "train Loss: 1.5332 Acc: 0.4234\n",
            "val Loss: 1.5810 Acc: 0.4793\n",
            "Epoch 8/24\n",
            "----------\n",
            "LR:0.0001\n",
            "train Loss: 1.4477 Acc: 0.4505\n",
            "val Loss: 1.4755 Acc: 0.5020\n",
            "Epoch 9/24\n",
            "----------\n",
            "LR:0.0001\n",
            "train Loss: 1.3776 Acc: 0.4747\n",
            "val Loss: 1.5227 Acc: 0.4886\n",
            "Epoch 10/24\n",
            "----------\n",
            "LR:0.0001\n",
            "train Loss: 1.3227 Acc: 0.4886\n",
            "val Loss: 1.3912 Acc: 0.5534\n",
            "Epoch 11/24\n",
            "----------\n",
            "LR:0.0001\n",
            "train Loss: 1.2515 Acc: 0.5119\n",
            "val Loss: 1.3766 Acc: 0.5146\n",
            "Epoch 12/24\n",
            "----------\n",
            "LR:0.0001\n",
            "train Loss: 1.2106 Acc: 0.5246\n",
            "val Loss: 1.2924 Acc: 0.5631\n",
            "Epoch 13/24\n",
            "----------\n",
            "LR:0.0001\n",
            "train Loss: 1.1599 Acc: 0.5369\n",
            "val Loss: 1.2725 Acc: 0.5775\n",
            "Epoch 14/24\n",
            "----------\n",
            "LR:0.0001\n",
            "train Loss: 1.1238 Acc: 0.5492\n",
            "val Loss: 1.2661 Acc: 0.5789\n",
            "Epoch 15/24\n",
            "----------\n",
            "LR:0.0001\n",
            "train Loss: 1.0913 Acc: 0.5615\n",
            "val Loss: 1.1543 Acc: 0.6335\n",
            "Epoch 16/24\n",
            "----------\n",
            "LR:0.0001\n",
            "train Loss: 1.0532 Acc: 0.5731\n",
            "val Loss: 1.2560 Acc: 0.5714\n",
            "Epoch 17/24\n",
            "----------\n",
            "LR:0.0001\n",
            "train Loss: 1.0227 Acc: 0.5781\n",
            "val Loss: 1.1405 Acc: 0.5931\n",
            "Epoch 18/24\n",
            "----------\n",
            "LR:0.0001\n",
            "train Loss: 0.9978 Acc: 0.5899\n",
            "val Loss: 1.1487 Acc: 0.5889\n",
            "Epoch 19/24\n",
            "----------\n",
            "LR:0.0001\n",
            "train Loss: 0.9751 Acc: 0.5943\n",
            "val Loss: 1.1689 Acc: 0.5757\n",
            "Epoch 20/24\n",
            "----------\n",
            "LR:0.0001\n",
            "train Loss: 0.9441 Acc: 0.6053\n",
            "val Loss: 1.1910 Acc: 0.6029\n",
            "Epoch 21/24\n",
            "----------\n",
            "LR:0.0001\n",
            "train Loss: 0.9229 Acc: 0.6117\n",
            "val Loss: 1.0699 Acc: 0.6634\n",
            "Epoch 22/24\n",
            "----------\n",
            "LR:0.0001\n",
            "train Loss: 0.8979 Acc: 0.6211\n",
            "val Loss: 1.0790 Acc: 0.6418\n",
            "Epoch 23/24\n",
            "----------\n",
            "LR:0.0001\n",
            "train Loss: 0.8758 Acc: 0.6286\n",
            "val Loss: 1.0995 Acc: 0.6071\n",
            "Epoch 24/24\n",
            "----------\n",
            "LR:0.0001\n",
            "train Loss: 0.8646 Acc: 0.6299\n",
            "val Loss: 1.0547 Acc: 0.6416\n",
            "Training complete in 1m 44s\n"
          ],
          "name": "stdout"
        }
      ]
    },
    {
      "cell_type": "code",
      "metadata": {
        "colab": {
          "base_uri": "https://localhost:8080/",
          "height": 295
        },
        "id": "lg4n4U96WsR3",
        "outputId": "7e024692-8f83-400f-ae90-cafe16d92a24"
      },
      "source": [
        "#plt.plot(loss_train)\n",
        "plt.plot(acc_train_b)\n",
        "plt.plot(acc_val_b)\n",
        "plt.title('accuracy with using glove for embedding matrix')\n",
        "plt.xlabel('Epoch')\n",
        "plt.ylabel('Accuracy')\n",
        "plt.legend(['train','val']);"
      ],
      "execution_count": null,
      "outputs": [
        {
          "output_type": "display_data",
          "data": {
            "image/png": "[encoded data removed]",
            "text/plain": [
              "<Figure size 432x288 with 1 Axes>"
            ]
          },
          "metadata": {
            "tags": [],
            "needs_background": "light"
          }
        }
      ]
    },
    {
      "cell_type": "code",
      "metadata": {
        "id": "_nKSVImNOhOd",
        "colab": {
          "base_uri": "https://localhost:8080/",
          "height": 295
        },
        "outputId": "82e9c6e7-edb4-4a25-ede0-57a2b69881ec"
      },
      "source": [
        "#plt.plot(loss_train)\n",
        "plt.plot(loss_train_b)\n",
        "plt.plot(loss_val_b)\n",
        "plt.title('loss with using glove for embedding matrix')\n",
        "plt.xlabel('Epoch')\n",
        "plt.ylabel('Loss')\n",
        "plt.legend(['train','val']);"
      ],
      "execution_count": null,
      "outputs": [
        {
          "output_type": "display_data",
          "data": {
            "image/png": "[encoded data removed]",
            "text/plain": [
              "<Figure size 432x288 with 1 Axes>"
            ]
          },
          "metadata": {
            "tags": [],
            "needs_background": "light"
          }
        }
      ]
    },
    {
      "cell_type": "code",
      "metadata": {
        "colab": {
          "base_uri": "https://localhost:8080/"
        },
        "id": "jLjD0Dj92myN",
        "outputId": "e9524970-c4da-4222-b192-54e104047f88"
      },
      "source": [
        "visualize_model(model_b)"
      ],
      "execution_count": null,
      "outputs": [
        {
          "output_type": "stream",
          "text": [
            "/usr/local/lib/python3.7/dist-packages/torch/utils/data/dataloader.py:477: UserWarning: This DataLoader will create 4 worker processes in total. Our suggested max number of worker in current system is 2, which is smaller than what this DataLoader is going to create. Please be aware that excessive worker creation might get DataLoader running slow or even freeze, lower the worker number to avoid potential slowness/freeze if necessary.\n",
            "  cpuset_checked))\n"
          ],
          "name": "stderr"
        },
        {
          "output_type": "stream",
          "text": [
            "test accuray :  0.5590491578692481\n",
            "Recall:  0.5902075254428942\n",
            "Precision:  0.5025559798829933\n",
            "f1_score:  0.5346123155385903\n"
          ],
          "name": "stdout"
        },
        {
          "output_type": "stream",
          "text": [
            "/usr/local/lib/python3.7/dist-packages/sklearn/metrics/_classification.py:1272: UndefinedMetricWarning: Precision is ill-defined and being set to 0.0 in labels with no predicted samples. Use `zero_division` parameter to control this behavior.\n",
            "  _warn_prf(average, modifier, msg_start, len(result))\n"
          ],
          "name": "stderr"
        }
      ]
    },
    {
      "cell_type": "markdown",
      "metadata": {
        "id": "-0S1BW6eY08g"
      },
      "source": [
        "# **Thired part** : fix feature extractore and using glove for embedding matrix using just entities"
      ]
    },
    {
      "cell_type": "code",
      "metadata": {
        "id": "DtD57XsloT0Y"
      },
      "source": [
        "class Network(nn.Module):\n",
        "\n",
        "    def __init__(self , vocab_size , embed_size , hidden_size , num_layers=2 , weight = False):\n",
        "      super(Network , self).__init__()\n",
        "    \n",
        "      self.embedding = nn.Embedding(vocab_size , embed_size)\n",
        "      self.embedding.weight = nn.Parameter(torch.tensor(embedding_matrix, dtype=torch.float32))\n",
        "      self.embedding.weight.requires_grad = weight\n",
        "      self.lstm = nn.LSTM(embed_size , hidden_size , num_layers = num_layers , batch_first = True, bidirectional = True)\n",
        "      self.linear =nn.Linear(hidden_size*2,10)\n",
        "      self.softmax = nn.LogSoftmax(dim=1)\n",
        "      self.hidden_size = hidden_size\n",
        "      self.max = nn.MaxPool1d(2,stride = 2)\n",
        "\n",
        "    def forward(self, x, entities):\n",
        "              \n",
        "        entity_list = []\n",
        "        #print(\"all entities\",entities)\n",
        "        h_embedding = self.embedding(x)   #128*61*100\n",
        "        packed_output, (hidden, cell) = self.lstm(h_embedding)  #128*61*300(hidden_size*2)\n",
        "        output = self.max(packed_output)  #128*61*150 \n",
        "        \n",
        "        for i in range(x.size(0)):\n",
        "          e1_indexes = [i for i in entities[i][0:2]]\n",
        "          #print(\"e1\" ,e1_indexes)\n",
        "          e2_indexes = [i for i in entities[i][2:]]\n",
        "          #print(\"dfdf\",output[i,e1_indexes[0]+1:e1_indexes[1],:].shape)\n",
        "          m1 = torch.mean(output[i,e1_indexes[0]+1:e1_indexes[1],:], dim=0)\n",
        "          m2 = torch.mean(output[i,e2_indexes[0]+1:e2_indexes[1],:], dim=0)\n",
        "\n",
        "          entity_list.append(torch.cat((m1,m2), dim=0))\n",
        "          cat = torch.stack(entity_list)\n",
        "          final = self.softmax(self.linear(cat))\n",
        "      \n",
        "        return final"
      ],
      "execution_count": null,
      "outputs": []
    },
    {
      "cell_type": "code",
      "metadata": {
        "id": "EtBAmbe0oT4t"
      },
      "source": [],
      "execution_count": null,
      "outputs": []
    },
    {
      "cell_type": "code",
      "metadata": {
        "colab": {
          "base_uri": "https://localhost:8080/"
        },
        "id": "_qSGHAZcoZWy",
        "outputId": "b299f69e-c055-40e2-f1e2-ecfde04797a6"
      },
      "source": [
        "device = torch.device(\"cuda\" if torch.cuda.is_available() else \"cpu\")\n",
        "device"
      ],
      "execution_count": null,
      "outputs": [
        {
          "output_type": "execute_result",
          "data": {
            "text/plain": [
              "device(type='cuda')"
            ]
          },
          "metadata": {
            "tags": []
          },
          "execution_count": 120
        }
      ]
    },
    {
      "cell_type": "code",
      "metadata": {
        "id": "M9XhQ16Rocm_"
      },
      "source": [
        "embed_size = 100\n",
        "hidden_size = 150\n",
        "vocab_size = len(dataset.vocab)\n",
        "num_layers = 2\n",
        "learning_rate = 1e-4"
      ],
      "execution_count": null,
      "outputs": []
    },
    {
      "cell_type": "code",
      "metadata": {
        "id": "l17MROXWognQ"
      },
      "source": [
        "model = Network(vocab_size, embed_size, hidden_size,  num_layers, weight=False).to(device)\n",
        "model.to(device)\n",
        "criterion = nn.NLLLoss(ignore_index=dataset.vocab.stoi[\"<PAD>\"])\n",
        "optimizer = optim.Adam(model.parameters(), lr=learning_rate)\n",
        "#scheduler = lr_scheduler.StepLR(optimizer, step_size=7, gamma=0.1)"
      ],
      "execution_count": null,
      "outputs": []
    },
    {
      "cell_type": "code",
      "metadata": {
        "id": "7dANgikmpWZm"
      },
      "source": [
        "def train_model_c(model, criterion, optimizer, scheduler, num_epochs=100):\n",
        "    since = time.time()\n",
        "    best_model_wts = copy.deepcopy(model.state_dict())\n",
        "\n",
        "    loss_train = []\n",
        "    loss_val = []\n",
        "    acc_train = []\n",
        "    acc_val = []\n",
        "\n",
        "    for epoch in range(num_epochs):\n",
        "        print('Epoch {}/{}'.format(epoch, num_epochs - 1))\n",
        "        print('-' * 10)\n",
        "\n",
        "        # Each epoch has a training and validation phase\n",
        "        for phase in ['train', 'val']:\n",
        "            if phase == 'train':\n",
        "                model.train()  # Set model to training mode\n",
        "            else:\n",
        "                model.eval()   # Set model to evaluate mode\n",
        "\n",
        "            running_loss = 0.0\n",
        "            running_acc = 0.0\n",
        "\n",
        "            # Iterate over data.\n",
        "            for i, (sentences,labels,entities)  in enumerate(iter(dataloaders[phase])):\n",
        "                sentences = sentences.to(device)\n",
        "                labels = labels.to(device)\n",
        "                entities = entities.to(device)\n",
        "\n",
        "                # zero the parameter gradients\n",
        "                optimizer.zero_grad()\n",
        "\n",
        "                # forward\n",
        "                # track history if only in train\n",
        "                with torch.set_grad_enabled(phase == 'train'):\n",
        "                    outputs = model(sentences , entities)\n",
        "                    #print(outputs.shape)\n",
        "                    outputs_acc = torch.argmax(outputs,dim=1)\n",
        "                    # Calculate the batch loss.\n",
        "                    loss = criterion(outputs,labels)\n",
        "                    acc = accuracy(labels,outputs_acc)\n",
        "\n",
        "\n",
        "\n",
        "                    # backward + optimize only if in training phase\n",
        "                    if phase == 'train':\n",
        "                        loss.backward()\n",
        "                        optimizer.step()\n",
        "\n",
        "                # statistics\n",
        "                running_loss += loss.item() \n",
        "                running_acc += acc.item()\n",
        "            if phase == 'train':\n",
        "                #scheduler.step()\n",
        "                print(\"LR:{}\".format(optimizer.param_groups[0]['lr']))\n",
        "            \n",
        "            epoch_loss = running_loss / i\n",
        "            epoch_acc = running_acc / i\n",
        "            if phase==\"train\":\n",
        "              loss_train.append(epoch_loss)\n",
        "              acc_train.append(epoch_acc)\n",
        "            else:\n",
        "              loss_val.append(epoch_loss)\n",
        "              acc_val.append(epoch_acc)\n",
        "\n",
        "            print('{} Loss: {:.4f} Acc: {:.4f}'.format(\n",
        "                phase, epoch_loss, epoch_acc))\n",
        "\n",
        "            if phase == 'val' :\n",
        "                best_model_wts = copy.deepcopy(model.state_dict())\n",
        "    time_elapsed = time.time() - since\n",
        "    print('Training complete in {:.0f}m {:.0f}s'.format(\n",
        "        time_elapsed // 60, time_elapsed % 60))\n",
        "\n",
        "    model.load_state_dict(best_model_wts)\n",
        "\n",
        "    return model , loss_train,loss_val,acc_train,acc_val"
      ],
      "execution_count": null,
      "outputs": []
    },
    {
      "cell_type": "code",
      "metadata": {
        "colab": {
          "base_uri": "https://localhost:8080/"
        },
        "id": "z8njEj8Eoq3R",
        "outputId": "e1c58f95-f136-4f99-fc5a-5b0f890cab8b"
      },
      "source": [
        "model_c , loss_train_c , loss_val_c , acc_train_c , acc_val_c = train_model_c(model, criterion, optimizer, scheduler,\n",
        "                       num_epochs=25)"
      ],
      "execution_count": null,
      "outputs": [
        {
          "output_type": "stream",
          "text": [
            "Epoch 0/24\n",
            "----------\n"
          ],
          "name": "stdout"
        },
        {
          "output_type": "stream",
          "text": [
            "/usr/local/lib/python3.7/dist-packages/torch/utils/data/dataloader.py:477: UserWarning: This DataLoader will create 4 worker processes in total. Our suggested max number of worker in current system is 2, which is smaller than what this DataLoader is going to create. Please be aware that excessive worker creation might get DataLoader running slow or even freeze, lower the worker number to avoid potential slowness/freeze if necessary.\n",
            "  cpuset_checked))\n"
          ],
          "name": "stderr"
        },
        {
          "output_type": "stream",
          "text": [
            "LR:0.0001\n",
            "train Loss: 2.2768 Acc: 0.1663\n",
            "val Loss: 2.3321 Acc: 0.2190\n",
            "Epoch 1/24\n",
            "----------\n",
            "LR:0.0001\n",
            "train Loss: 2.1310 Acc: 0.1984\n",
            "val Loss: 2.2481 Acc: 0.2405\n",
            "Epoch 2/24\n",
            "----------\n",
            "LR:0.0001\n",
            "train Loss: 2.0976 Acc: 0.2126\n",
            "val Loss: 2.2270 Acc: 0.2332\n",
            "Epoch 3/24\n",
            "----------\n",
            "LR:0.0001\n",
            "train Loss: 2.0705 Acc: 0.2178\n",
            "val Loss: 2.1784 Acc: 0.2845\n",
            "Epoch 4/24\n",
            "----------\n",
            "LR:0.0001\n",
            "train Loss: 1.9542 Acc: 0.2547\n",
            "val Loss: 1.9944 Acc: 0.3529\n",
            "Epoch 5/24\n",
            "----------\n",
            "LR:0.0001\n",
            "train Loss: 1.8345 Acc: 0.3016\n",
            "val Loss: 1.8594 Acc: 0.3870\n",
            "Epoch 6/24\n",
            "----------\n",
            "LR:0.0001\n",
            "train Loss: 1.6844 Acc: 0.3572\n",
            "val Loss: 1.6588 Acc: 0.4483\n",
            "Epoch 7/24\n",
            "----------\n",
            "LR:0.0001\n",
            "train Loss: 1.5690 Acc: 0.3990\n",
            "val Loss: 1.6100 Acc: 0.4365\n",
            "Epoch 8/24\n",
            "----------\n",
            "LR:0.0001\n",
            "train Loss: 1.4865 Acc: 0.4285\n",
            "val Loss: 1.5767 Acc: 0.4880\n",
            "Epoch 9/24\n",
            "----------\n",
            "LR:0.0001\n",
            "train Loss: 1.4078 Acc: 0.4495\n",
            "val Loss: 1.4659 Acc: 0.4947\n",
            "Epoch 10/24\n",
            "----------\n",
            "LR:0.0001\n",
            "train Loss: 1.3555 Acc: 0.4675\n",
            "val Loss: 1.4520 Acc: 0.5075\n",
            "Epoch 11/24\n",
            "----------\n",
            "LR:0.0001\n",
            "train Loss: 1.3042 Acc: 0.4825\n",
            "val Loss: 1.3113 Acc: 0.5706\n",
            "Epoch 12/24\n",
            "----------\n",
            "LR:0.0001\n",
            "train Loss: 1.2430 Acc: 0.5065\n",
            "val Loss: 1.2990 Acc: 0.5704\n",
            "Epoch 13/24\n",
            "----------\n",
            "LR:0.0001\n",
            "train Loss: 1.2081 Acc: 0.5144\n",
            "val Loss: 1.3152 Acc: 0.5517\n",
            "Epoch 14/24\n",
            "----------\n",
            "LR:0.0001\n",
            "train Loss: 1.1728 Acc: 0.5310\n",
            "val Loss: 1.2641 Acc: 0.5633\n",
            "Epoch 15/24\n",
            "----------\n",
            "LR:0.0001\n",
            "train Loss: 1.1636 Acc: 0.5313\n",
            "val Loss: 1.2392 Acc: 0.5586\n",
            "Epoch 16/24\n",
            "----------\n",
            "LR:0.0001\n",
            "train Loss: 1.1168 Acc: 0.5414\n",
            "val Loss: 1.2680 Acc: 0.5804\n",
            "Epoch 17/24\n",
            "----------\n",
            "LR:0.0001\n",
            "train Loss: 1.0842 Acc: 0.5584\n",
            "val Loss: 1.2706 Acc: 0.5785\n",
            "Epoch 18/24\n",
            "----------\n",
            "LR:0.0001\n",
            "train Loss: 1.0604 Acc: 0.5650\n",
            "val Loss: 1.1640 Acc: 0.6191\n",
            "Epoch 19/24\n",
            "----------\n",
            "LR:0.0001\n",
            "train Loss: 1.0607 Acc: 0.5666\n",
            "val Loss: 1.2080 Acc: 0.6173\n",
            "Epoch 20/24\n",
            "----------\n",
            "LR:0.0001\n",
            "train Loss: 1.0162 Acc: 0.5844\n",
            "val Loss: 1.1979 Acc: 0.5873\n",
            "Epoch 21/24\n",
            "----------\n",
            "LR:0.0001\n",
            "train Loss: 0.9836 Acc: 0.5921\n",
            "val Loss: 1.1573 Acc: 0.6175\n",
            "Epoch 22/24\n",
            "----------\n",
            "LR:0.0001\n",
            "train Loss: 0.9688 Acc: 0.5951\n",
            "val Loss: 1.1130 Acc: 0.6258\n",
            "Epoch 23/24\n",
            "----------\n",
            "LR:0.0001\n",
            "train Loss: 0.9473 Acc: 0.6055\n",
            "val Loss: 1.1848 Acc: 0.5998\n",
            "Epoch 24/24\n",
            "----------\n",
            "LR:0.0001\n",
            "train Loss: 0.9344 Acc: 0.6092\n",
            "val Loss: 1.1185 Acc: 0.6159\n",
            "Training complete in 4m 33s\n"
          ],
          "name": "stdout"
        }
      ]
    },
    {
      "cell_type": "code",
      "metadata": {
        "colab": {
          "base_uri": "https://localhost:8080/",
          "height": 295
        },
        "id": "ypLAe9nckPhM",
        "outputId": "88d96956-0046-49c9-fdb1-1f0a9d23cfeb"
      },
      "source": [
        "#plt.plot(loss_train)\n",
        "plt.plot(acc_train_c)\n",
        "plt.plot(acc_val_c)\n",
        "plt.title('accuracy of using Entities')\n",
        "plt.xlabel('Epoch')\n",
        "plt.ylabel('Accuracy')\n",
        "plt.legend(['train','val']);"
      ],
      "execution_count": null,
      "outputs": [
        {
          "output_type": "display_data",
          "data": {
            "image/png": "[encoded data removed]",
            "text/plain": [
              "<Figure size 432x288 with 1 Axes>"
            ]
          },
          "metadata": {
            "tags": [],
            "needs_background": "light"
          }
        }
      ]
    },
    {
      "cell_type": "code",
      "metadata": {
        "colab": {
          "base_uri": "https://localhost:8080/",
          "height": 295
        },
        "id": "ZcriceWMkUBJ",
        "outputId": "a08fadb8-431e-4fe9-a93b-e9ad79fcec9d"
      },
      "source": [
        "#plt.plot(loss_train)\n",
        "plt.plot(loss_train_c)\n",
        "plt.plot(loss_val_c)\n",
        "plt.title('loss of using entities')\n",
        "plt.xlabel('Epoch')\n",
        "plt.ylabel('Loss')\n",
        "plt.legend(['train','val']);"
      ],
      "execution_count": null,
      "outputs": [
        {
          "output_type": "display_data",
          "data": {
            "image/png": "[encoded data removed]",
            "text/plain": [
              "<Figure size 432x288 with 1 Axes>"
            ]
          },
          "metadata": {
            "tags": [],
            "needs_background": "light"
          }
        }
      ]
    },
    {
      "cell_type": "code",
      "metadata": {
        "id": "0_I-EBt6kqnA"
      },
      "source": [
        "def visualize_model_c(model):\n",
        "    y_true = []\n",
        "    y_pred = []\n",
        "    running_acc = 0.0\n",
        "    #with torch.no_grad():\n",
        "    for i, (sentences,labels,entities)  in enumerate(iter(test_loader)):\n",
        "            sentences = sentences.to(device)\n",
        "            labels = labels.to(device)\n",
        "            entities = entities.to(device)\n",
        "\n",
        "            outputs = model(sentences,entities)\n",
        "            outputs_acc = torch.argmax(outputs,dim=1)\n",
        "            acc = accuracy(labels,outputs_acc)\n",
        "            running_acc += acc.item()\n",
        "            for out in outputs_acc:\n",
        "              y_pred.append(out.tolist())    \n",
        "            for true in labels:\n",
        "              y_true.append(true.tolist())\n",
        "\n",
        "\n",
        "    acc = running_acc / i\n",
        "    print(\"test accuray : \",acc)\n",
        "    recall = recall_score(y_true, y_pred, average='macro')\n",
        "    print(\"Recall: \" , recall)\n",
        "    precision = precision_score(y_true, y_pred, average='macro')\n",
        "    print(\"Precision: \" , precision)\n",
        "    f1 = f1_score(y_true, y_pred, average='macro')\n",
        "    print(\"f1_score: \" , f1)\n",
        "    print(\"confusion matrix: \\n\" , confusion_matrix(y_true, y_pred))"
      ],
      "execution_count": null,
      "outputs": []
    },
    {
      "cell_type": "code",
      "metadata": {
        "colab": {
          "base_uri": "https://localhost:8080/"
        },
        "id": "KvFw-5h4kYOI",
        "outputId": "da0db85c-b76a-4cd9-ceb3-b9eb475f555d"
      },
      "source": [
        "visualize_model_c(model_c)"
      ],
      "execution_count": null,
      "outputs": [
        {
          "output_type": "stream",
          "text": [
            "/usr/local/lib/python3.7/dist-packages/torch/utils/data/dataloader.py:477: UserWarning: This DataLoader will create 4 worker processes in total. Our suggested max number of worker in current system is 2, which is smaller than what this DataLoader is going to create. Please be aware that excessive worker creation might get DataLoader running slow or even freeze, lower the worker number to avoid potential slowness/freeze if necessary.\n",
            "  cpuset_checked))\n"
          ],
          "name": "stderr"
        },
        {
          "output_type": "stream",
          "text": [
            "test accuray :  0.5324815270446596\n",
            "Recall:  0.5523925483213605\n",
            "Precision:  0.4914290776431911\n",
            "f1_score:  0.5086212967571851\n",
            "confusion matrix: \n",
            " [[  0  27  82   1 120   9  15   2   5  67]\n",
            " [  0  64  21   2  27   4  11   1   2  24]\n",
            " [  0   8 141   0  47   4   2   2   4  23]\n",
            " [  0   1   4 122   7  35  13   1   1   8]\n",
            " [  0   3   9   0 224   8   3   1   2   8]\n",
            " [  0   1   1  14   6 246   1   0   3  20]\n",
            " [  0  19  13   6  26   4 193  16   9  26]\n",
            " [  0   2  14   1   6   2  13 159   3  33]\n",
            " [  0   4  24   0  10  12   6   2 170  33]\n",
            " [  0  36  52  17  69  67  36  45  39  93]]\n"
          ],
          "name": "stdout"
        },
        {
          "output_type": "stream",
          "text": [
            "/usr/local/lib/python3.7/dist-packages/sklearn/metrics/_classification.py:1272: UndefinedMetricWarning: Precision is ill-defined and being set to 0.0 in labels with no predicted samples. Use `zero_division` parameter to control this behavior.\n",
            "  _warn_prf(average, modifier, msg_start, len(result))\n"
          ],
          "name": "stderr"
        }
      ]
    },
    {
      "cell_type": "code",
      "metadata": {
        "id": "v6768ea57JH2"
      },
      "source": [],
      "execution_count": null,
      "outputs": []
    },
    {
      "cell_type": "markdown",
      "metadata": {
        "id": "SA95IrKu7J1f"
      },
      "source": [
        "random initialization vs using gloves for embedding matrix"
      ]
    },
    {
      "cell_type": "code",
      "metadata": {
        "colab": {
          "base_uri": "https://localhost:8080/",
          "height": 295
        },
        "id": "knrYU0YS6lsi",
        "outputId": "22e351c1-1373-4772-f1a3-28f29bd191de"
      },
      "source": [
        "plt.plot(loss_train_a)\n",
        "plt.plot(loss_val_b)\n",
        "plt.title('loss for random initialization vs using gloves for embedding matrix')\n",
        "plt.xlabel('Epoch')\n",
        "plt.ylabel('Loss')\n",
        "plt.legend(['random initialization','using glove']);"
      ],
      "execution_count": null,
      "outputs": [
        {
          "output_type": "display_data",
          "data": {
            "image/png": "[encoded data removed]",
            "text/plain": [
              "<Figure size 432x288 with 1 Axes>"
            ]
          },
          "metadata": {
            "tags": [],
            "needs_background": "light"
          }
        }
      ]
    },
    {
      "cell_type": "code",
      "metadata": {
        "colab": {
          "base_uri": "https://localhost:8080/",
          "height": 295
        },
        "id": "jCQwsC-R7ha5",
        "outputId": "d582a8d6-c4fd-4d03-d1b8-eac02172bb58"
      },
      "source": [
        "plt.plot(loss_train_a)\n",
        "plt.plot(loss_val_b)\n",
        "plt.plot(loss_val_c)\n",
        "plt.title('loss for all approaches')\n",
        "plt.xlabel('Epoch')\n",
        "plt.ylabel('Loss')\n",
        "plt.legend(['random initialization','using glove' , 'Entites with glove']);"
      ],
      "execution_count": null,
      "outputs": [
        {
          "output_type": "display_data",
          "data": {
            "image/png": "[encoded data removed]",
            "text/plain": [
              "<Figure size 432x288 with 1 Axes>"
            ]
          },
          "metadata": {
            "tags": [],
            "needs_background": "light"
          }
        }
      ]
    }
  ]
}